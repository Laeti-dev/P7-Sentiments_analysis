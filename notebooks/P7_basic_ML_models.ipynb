{
 "cells": [
  {
   "cell_type": "markdown",
   "metadata": {},
   "source": [
    "# Imports"
   ]
  },
  {
   "cell_type": "code",
   "execution_count": 1,
   "metadata": {},
   "outputs": [
    {
     "name": "stderr",
     "output_type": "stream",
     "text": [
      "[nltk_data] Downloading package punkt to\n",
      "[nltk_data]     /Users/laetitiataddei/nltk_data...\n",
      "[nltk_data]   Package punkt is already up-to-date!\n",
      "[nltk_data] Downloading package stopwords to\n",
      "[nltk_data]     /Users/laetitiataddei/nltk_data...\n",
      "[nltk_data]   Package stopwords is already up-to-date!\n",
      "[nltk_data] Downloading package wordnet to\n",
      "[nltk_data]     /Users/laetitiataddei/nltk_data...\n",
      "[nltk_data]   Package wordnet is already up-to-date!\n"
     ]
    }
   ],
   "source": [
    "import pandas as pd\n",
    "import re\n",
    "import os\n",
    "\n",
    "\n",
    "import nltk\n",
    "# Download necessary NLTK data to the specific directory\n",
    "nltk.download('punkt')\n",
    "nltk.download('stopwords')\n",
    "nltk.download('wordnet')\n",
    "\n",
    "from nltk.tokenize import word_tokenize\n",
    "from nltk.corpus import stopwords\n",
    "from nltk.stem import WordNetLemmatizer, PorterStemmer"
   ]
  },
  {
   "cell_type": "markdown",
   "metadata": {},
   "source": [
    "# Strategies\n",
    "\n",
    "This notebook aims to test several basic models for binary classification. We will start by preprocessing tweets like we did during the EDA (URLs, mentions, hashtags,...), then tokens will be vectorized using either BoW or TF-IDF. Then, we will compare basic machine learning models using MLflow to mesure performances of each model and ease the comparison.\n",
    "\n",
    "**Models to test:**\n",
    "- Linear regression - Simple yet effective linear model for binary classification. Works great with bag-of-words or TF-IDF features. Outputs probabilities, which are useful for threshold tuning.\n",
    "- Random Forest Classifier - Can capture non-linear word interactions without manual feature engineering. Easy to interpret (at least for shallow trees).\n",
    "- SVM - Very fast and efficient for text (especially with sparse, high-dimensional data). Based on word occurrence probabilities, which often work surprisingly well in text classification. Robust even with relatively small datasets.\n",
    "- Naive bayes - Very fast and efficient for text (especially with sparse, high-dimensional data). Based on word occurrence probabilities, which often work surprisingly well in text classification. Robust even with relatively small datasets.\n",
    "\n",
    "**Metrics :**\n",
    "- Accuracy for an overall performance check\n",
    "- Precision (positive predicted values / true positives)\n",
    "- Recall \n",
    "- F1-score"
   ]
  },
  {
   "cell_type": "markdown",
   "metadata": {},
   "source": [
    "# Data and preparation"
   ]
  },
  {
   "cell_type": "code",
   "execution_count": 2,
   "metadata": {},
   "outputs": [],
   "source": [
    "pd.set_option('display.max_columns', None)\n",
    "pd.set_option('display.expand_frame_repr', True)"
   ]
  },
  {
   "cell_type": "code",
   "execution_count": 3,
   "metadata": {},
   "outputs": [
    {
     "name": "stderr",
     "output_type": "stream",
     "text": [
      "/var/folders/5n/5_6qtt550_3dxz3f8y6wwjww0000gn/T/ipykernel_87881/4236509596.py:3: FutureWarning: Parsed string \"Mon Apr 06 22:19:45 PDT 2009\" included an un-recognized timezone \"PDT\". Dropping unrecognized timezones is deprecated; in a future version this will raise. Instead pass the string without the timezone, then use .tz_localize to convert to a recognized timezone.\n",
      "  data = pd.read_csv(path,\n"
     ]
    },
    {
     "data": {
      "text/html": [
       "<div>\n",
       "<style scoped>\n",
       "    .dataframe tbody tr th:only-of-type {\n",
       "        vertical-align: middle;\n",
       "    }\n",
       "\n",
       "    .dataframe tbody tr th {\n",
       "        vertical-align: top;\n",
       "    }\n",
       "\n",
       "    .dataframe thead th {\n",
       "        text-align: right;\n",
       "    }\n",
       "</style>\n",
       "<table border=\"1\" class=\"dataframe\">\n",
       "  <thead>\n",
       "    <tr style=\"text-align: right;\">\n",
       "      <th></th>\n",
       "      <th>target</th>\n",
       "      <th>ids</th>\n",
       "      <th>date</th>\n",
       "      <th>user</th>\n",
       "      <th>text</th>\n",
       "    </tr>\n",
       "  </thead>\n",
       "  <tbody>\n",
       "    <tr>\n",
       "      <th>0</th>\n",
       "      <td>0</td>\n",
       "      <td>1467810369</td>\n",
       "      <td>2009-04-06 22:19:45</td>\n",
       "      <td>_TheSpecialOne_</td>\n",
       "      <td>@switchfoot http://twitpic.com/2y1zl - Awww, t...</td>\n",
       "    </tr>\n",
       "    <tr>\n",
       "      <th>1</th>\n",
       "      <td>0</td>\n",
       "      <td>1467810672</td>\n",
       "      <td>2009-04-06 22:19:49</td>\n",
       "      <td>scotthamilton</td>\n",
       "      <td>is upset that he can't update his Facebook by ...</td>\n",
       "    </tr>\n",
       "    <tr>\n",
       "      <th>2</th>\n",
       "      <td>0</td>\n",
       "      <td>1467810917</td>\n",
       "      <td>2009-04-06 22:19:53</td>\n",
       "      <td>mattycus</td>\n",
       "      <td>@Kenichan I dived many times for the ball. Man...</td>\n",
       "    </tr>\n",
       "    <tr>\n",
       "      <th>3</th>\n",
       "      <td>0</td>\n",
       "      <td>1467811184</td>\n",
       "      <td>2009-04-06 22:19:57</td>\n",
       "      <td>ElleCTF</td>\n",
       "      <td>my whole body feels itchy and like its on fire</td>\n",
       "    </tr>\n",
       "    <tr>\n",
       "      <th>4</th>\n",
       "      <td>0</td>\n",
       "      <td>1467811193</td>\n",
       "      <td>2009-04-06 22:19:57</td>\n",
       "      <td>Karoli</td>\n",
       "      <td>@nationwideclass no, it's not behaving at all....</td>\n",
       "    </tr>\n",
       "  </tbody>\n",
       "</table>\n",
       "</div>"
      ],
      "text/plain": [
       "   target         ids                date             user  \\\n",
       "0       0  1467810369 2009-04-06 22:19:45  _TheSpecialOne_   \n",
       "1       0  1467810672 2009-04-06 22:19:49    scotthamilton   \n",
       "2       0  1467810917 2009-04-06 22:19:53         mattycus   \n",
       "3       0  1467811184 2009-04-06 22:19:57          ElleCTF   \n",
       "4       0  1467811193 2009-04-06 22:19:57           Karoli   \n",
       "\n",
       "                                                text  \n",
       "0  @switchfoot http://twitpic.com/2y1zl - Awww, t...  \n",
       "1  is upset that he can't update his Facebook by ...  \n",
       "2  @Kenichan I dived many times for the ball. Man...  \n",
       "3    my whole body feels itchy and like its on fire   \n",
       "4  @nationwideclass no, it's not behaving at all....  "
      ]
     },
     "metadata": {},
     "output_type": "display_data"
    },
    {
     "name": "stdout",
     "output_type": "stream",
     "text": [
      "Shape of the DataFrame: (1600000, 5)\n",
      "Number of unique target values: target\n",
      "0    800000\n",
      "4    800000\n",
      "Name: count, dtype: int64\n",
      "Number of unique target values after replacement: target\n",
      "0    800000\n",
      "1    800000\n",
      "Name: count, dtype: int64\n"
     ]
    }
   ],
   "source": [
    "path = \"../data/training.1600000.processed.noemoticon.csv\"\n",
    "# Load the data from the CSV file into a pandas DataFrame\n",
    "data = pd.read_csv(path,\n",
    "                header=None,\n",
    "                names=[\"target\", \"ids\", \"date\", \"flag\", \"user\", \"text\"],\n",
    "                usecols=[\"target\", \"ids\", \"date\", \"user\", \"text\"],  # remove flag column\n",
    "                parse_dates=[\"date\"],\n",
    "                encoding=\"utf-8\",\n",
    "                encoding_errors=\"replace\",)\n",
    "\n",
    "# Display the first few rows of the DataFrame and its info\n",
    "display(data.head())\n",
    "print(f'Shape of the DataFrame: {data.shape}')\n",
    "\n",
    "print(f\"Number of unique target values: {data['target'].value_counts()}\")\n",
    "# Change target value 4 to 1\n",
    "data['target'] = data['target'].replace(4, 1)\n",
    "print(f\"Number of unique target values after replacement: {data['target'].value_counts()}\")"
   ]
  },
  {
   "cell_type": "markdown",
   "metadata": {},
   "source": [
    "## Preprocessing"
   ]
  },
  {
   "cell_type": "code",
   "execution_count": 4,
   "metadata": {},
   "outputs": [],
   "source": [
    "def process_text(text, lemmatize=False, stemming=False):\n",
    "    \"\"\"\n",
    "    Cleans and preprocesses a single text string by replacing URLs, mentions, and hashtags,\n",
    "    converting to lowercase, removing special characters, and removing stopwords.\n",
    "\n",
    "    Args:\n",
    "        text (str): The text string to process.\n",
    "\n",
    "    Returns:\n",
    "        str: The processed text string.\n",
    "    \"\"\"\n",
    "\n",
    "\n",
    "    if pd.isna(text):\n",
    "        return \"\"\n",
    "    # Replace URLs with <URL>\n",
    "    processed = re.sub(r'https?://\\S+', '<URL>', text)\n",
    "    # Replace mentions with <MENTION>\n",
    "    processed = re.sub(r'@[A-Za-z0-9_]+', '<MENTION>', processed)\n",
    "    # Separate # from word and replace the word with <HASHTAG>\n",
    "    processed = re.sub(r'#([A-Za-z0-9_]+)', r'#<HASHTAG>', processed)\n",
    "\n",
    "    # Convert text to lowercase\n",
    "    processed = processed.lower()\n",
    "\n",
    "    # Remove special characters and numbers, keeping !, ?, and ellipsis (...)\n",
    "    # Also keeps the placeholders <URL>, <MENTION>, <HASHTAG>\n",
    "    processed = re.sub(r'[^a-z0-9\\s.!?<>#]', '', processed)\n",
    "\n",
    "    # Tokenize the text\n",
    "    tokens = word_tokenize(processed)\n",
    "\n",
    "    if stemming and lemmatize:\n",
    "        raise ValueError(\"Cannot use both stemming and lemmatization at the same time. Choose one.\")\n",
    "\n",
    "    # Initialize lemmatizer\n",
    "    if lemmatize:\n",
    "        lemmatizer = WordNetLemmatizer()\n",
    "        tokens = [lemmatizer.lemmatize(token) for token in tokens] if lemmatize else tokens\n",
    "\n",
    "    # Initialize stemmer\n",
    "    if stemming:\n",
    "        stemmer = PorterStemmer()\n",
    "        tokens = [stemmer.stem(token) for token in tokens] if stemming else tokens\n",
    "\n",
    "\n",
    "    # Define negative words that should not be removed\n",
    "    negative_words = {\n",
    "        'no', 'not', 'nor', \"don't\", \"aren't\", \"couldn't\", \"didn't\", \"doesn't\",\n",
    "        \"hadn't\", \"hasn't\", \"haven't\", \"isn't\", \"mightn't\", \"mustn't\",\n",
    "        \"needn't\", \"shan't\", \"shouldn't\", \"wasn't\", \"weren't\", \"won't\", \"wouldn't\",\n",
    "        \"never\", \"none\", \"nobody\", \"nothing\", \"nowhere\", \"neither\"\n",
    "    }\n",
    "    # Create a set of stopwords to remove, excluding the negative words\n",
    "    stop_words_to_remove = set(stopwords.words('english')) - negative_words\n",
    "\n",
    "    # remove stopwords, and join back to string\n",
    "    filtered_tokens = [word for word in tokens if word not in stop_words_to_remove]\n",
    "\n",
    "    return ' '.join(filtered_tokens)\n"
   ]
  },
  {
   "cell_type": "code",
   "execution_count": 5,
   "metadata": {},
   "outputs": [
    {
     "name": "stderr",
     "output_type": "stream",
     "text": [
      "[nltk_data] Downloading package punkt_tab to\n",
      "[nltk_data]     /Users/laetitiataddei/nltk_data...\n",
      "[nltk_data]   Package punkt_tab is already up-to-date!\n"
     ]
    },
    {
     "data": {
      "text/html": [
       "<div>\n",
       "<style scoped>\n",
       "    .dataframe tbody tr th:only-of-type {\n",
       "        vertical-align: middle;\n",
       "    }\n",
       "\n",
       "    .dataframe tbody tr th {\n",
       "        vertical-align: top;\n",
       "    }\n",
       "\n",
       "    .dataframe thead th {\n",
       "        text-align: right;\n",
       "    }\n",
       "</style>\n",
       "<table border=\"1\" class=\"dataframe\">\n",
       "  <thead>\n",
       "    <tr style=\"text-align: right;\">\n",
       "      <th></th>\n",
       "      <th>target</th>\n",
       "      <th>ids</th>\n",
       "      <th>date</th>\n",
       "      <th>user</th>\n",
       "      <th>text</th>\n",
       "      <th>processed_text_lem</th>\n",
       "      <th>processed_text_stem</th>\n",
       "    </tr>\n",
       "  </thead>\n",
       "  <tbody>\n",
       "    <tr>\n",
       "      <th>49995</th>\n",
       "      <td>1</td>\n",
       "      <td>2185646565</td>\n",
       "      <td>2009-06-15 17:41:41</td>\n",
       "      <td>nazbear</td>\n",
       "      <td>@abcdude I'll bet your plane takes off to the ...</td>\n",
       "      <td>&lt; mention &gt; ill bet plane take tune quotill al...</td>\n",
       "      <td>&lt; mention &gt; ill bet plane take tune quotil alr...</td>\n",
       "    </tr>\n",
       "    <tr>\n",
       "      <th>49996</th>\n",
       "      <td>1</td>\n",
       "      <td>1556812170</td>\n",
       "      <td>2009-04-19 00:28:02</td>\n",
       "      <td>digmyshine</td>\n",
       "      <td>Gaaah just got some good news about day 26!!!!</td>\n",
       "      <td>gaaah got good news day 26 ! ! ! !</td>\n",
       "      <td>gaaah got good news day 26 ! ! ! !</td>\n",
       "    </tr>\n",
       "    <tr>\n",
       "      <th>49997</th>\n",
       "      <td>1</td>\n",
       "      <td>1994848543</td>\n",
       "      <td>2009-06-01 12:33:13</td>\n",
       "      <td>TerezBaskin</td>\n",
       "      <td>Salad: chicken, craisins, carrots, mushrooms, ...</td>\n",
       "      <td>salad chicken craisins carrot mushroom cheese ...</td>\n",
       "      <td>salad chicken craisin carrot mushroom chees ba...</td>\n",
       "    </tr>\n",
       "    <tr>\n",
       "      <th>49998</th>\n",
       "      <td>1</td>\n",
       "      <td>2068458420</td>\n",
       "      <td>2009-06-07 14:06:50</td>\n",
       "      <td>TidalWaves7</td>\n",
       "      <td>Chillin on a raft in Devin's pool.</td>\n",
       "      <td>chillin raft devins pool .</td>\n",
       "      <td>chillin raft devin pool .</td>\n",
       "    </tr>\n",
       "    <tr>\n",
       "      <th>49999</th>\n",
       "      <td>1</td>\n",
       "      <td>2056840796</td>\n",
       "      <td>2009-06-06 11:53:42</td>\n",
       "      <td>krpearce</td>\n",
       "      <td>I think it's about time for a spontaneous trip...</td>\n",
       "      <td>think time spontaneous trip home visit amazing...</td>\n",
       "      <td>think time spontan trip home visit amaz famili...</td>\n",
       "    </tr>\n",
       "  </tbody>\n",
       "</table>\n",
       "</div>"
      ],
      "text/plain": [
       "       target         ids                date         user  \\\n",
       "49995       1  2185646565 2009-06-15 17:41:41      nazbear   \n",
       "49996       1  1556812170 2009-04-19 00:28:02   digmyshine   \n",
       "49997       1  1994848543 2009-06-01 12:33:13  TerezBaskin   \n",
       "49998       1  2068458420 2009-06-07 14:06:50  TidalWaves7   \n",
       "49999       1  2056840796 2009-06-06 11:53:42     krpearce   \n",
       "\n",
       "                                                    text  \\\n",
       "49995  @abcdude I'll bet your plane takes off to the ...   \n",
       "49996    Gaaah just got some good news about day 26!!!!    \n",
       "49997  Salad: chicken, craisins, carrots, mushrooms, ...   \n",
       "49998                Chillin on a raft in Devin's pool.    \n",
       "49999  I think it's about time for a spontaneous trip...   \n",
       "\n",
       "                                      processed_text_lem  \\\n",
       "49995  < mention > ill bet plane take tune quotill al...   \n",
       "49996                 gaaah got good news day 26 ! ! ! !   \n",
       "49997  salad chicken craisins carrot mushroom cheese ...   \n",
       "49998                         chillin raft devins pool .   \n",
       "49999  think time spontaneous trip home visit amazing...   \n",
       "\n",
       "                                     processed_text_stem  \n",
       "49995  < mention > ill bet plane take tune quotil alr...  \n",
       "49996                 gaaah got good news day 26 ! ! ! !  \n",
       "49997  salad chicken craisin carrot mushroom chees ba...  \n",
       "49998                          chillin raft devin pool .  \n",
       "49999  think time spontan trip home visit amaz famili...  "
      ]
     },
     "metadata": {},
     "output_type": "display_data"
    },
    {
     "name": "stdout",
     "output_type": "stream",
     "text": [
      "Shape of the processed DataFrame: (50000, 7)\n"
     ]
    }
   ],
   "source": [
    "# Sample dataframe for each target\n",
    "negative_sample = data[data['target'] == 0].sample(n=25000, random_state=42)\n",
    "positive_sample = data[data['target'] == 1].sample(n=25000, random_state=42)\n",
    "# Concatenate the two samples\n",
    "sample_df = pd.concat([negative_sample, positive_sample], ignore_index=True)\n",
    "# Apply the process_text function to the 'text' column\n",
    "nltk.download('punkt_tab')\n",
    "sample_df['processed_text_lem'] = sample_df['text'].apply(process_text, lemmatize=True)\n",
    "sample_df['processed_text_stem'] = sample_df['text'].apply(process_text, stemming=True)\n",
    "\n",
    "# Display the first few rows of the processed DataFrame\n",
    "display(sample_df.tail())\n",
    "print(f'Shape of the processed DataFrame: {sample_df.shape}')\n"
   ]
  },
  {
   "cell_type": "markdown",
   "metadata": {},
   "source": [
    "## Split data to train and test sets"
   ]
  },
  {
   "cell_type": "code",
   "execution_count": 6,
   "metadata": {},
   "outputs": [
    {
     "name": "stdout",
     "output_type": "stream",
     "text": [
      "X_train_lem shape: (40000,)\n",
      "X_test_lem shape: (10000,)\n",
      "y_train_lem shape: (40000,)\n",
      "y_test_lem shape: (10000,)\n",
      "X_train_stem shape: (40000,)\n",
      "X_test_stem shape: (10000,)\n",
      "y_train_stem shape: (40000,)\n",
      "y_test_stem shape: (10000,)\n"
     ]
    }
   ],
   "source": [
    "from sklearn.model_selection import train_test_split\n",
    "\n",
    "# Define features (X) and target (y)\n",
    "X_lem = sample_df['processed_text_lem']\n",
    "y_lem = sample_df['target']\n",
    "\n",
    "X_stem = sample_df['processed_text_stem']\n",
    "y_stem = sample_df['target']\n",
    "\n",
    "# Split the data into training and testing sets\n",
    "X_train_lem, X_test_lem, y_train_lem, y_test_lem = train_test_split(\n",
    "    X_lem, y_lem,\n",
    "    test_size=0.2,\n",
    "    random_state=42,\n",
    "    stratify=y_lem\n",
    ")\n",
    "\n",
    "# Display the shapes of the resulting datasets\n",
    "print(f\"X_train_lem shape: {X_train_lem.shape}\")\n",
    "print(f\"X_test_lem shape: {X_test_lem.shape}\")\n",
    "print(f\"y_train_lem shape: {y_train_lem.shape}\")\n",
    "print(f\"y_test_lem shape: {y_test_lem.shape}\")\n",
    "\n",
    "# Split the data into training and testing sets\n",
    "X_train_stem, X_test_stem, y_train_stem, y_test_stem = train_test_split(\n",
    "    X_stem, y_stem,\n",
    "    test_size=0.2,\n",
    "    random_state=42,\n",
    "    stratify=y_stem\n",
    ")\n",
    "\n",
    "# Display the shapes of the resulting datasets\n",
    "print(f\"X_train_stem shape: {X_train_stem.shape}\")\n",
    "print(f\"X_test_stem shape: {X_test_stem.shape}\")\n",
    "print(f\"y_train_stem shape: {y_train_stem.shape}\")\n",
    "print(f\"y_test_stem shape: {y_test_stem.shape}\")\n",
    "\n",
    "X_train_shape = X_train_lem.shape\n",
    "X_test_shape = X_test_lem.shape"
   ]
  },
  {
   "cell_type": "markdown",
   "metadata": {},
   "source": [
    "# Configuring MLflow"
   ]
  },
  {
   "cell_type": "code",
   "execution_count": 13,
   "metadata": {},
   "outputs": [
    {
     "name": "stdout",
     "output_type": "stream",
     "text": [
      "MLflow Tracking URI: http://localhost:8080\n"
     ]
    }
   ],
   "source": [
    "import os\n",
    "from dotenv import load_dotenv\n",
    "import time\n",
    "import pickle\n",
    "\n",
    "import mlflow\n",
    "from mlflow.models import infer_signature\n",
    "from mlflow.tracking import MlflowClient\n",
    "\n",
    "\n",
    "from sklearn.linear_model import LogisticRegression\n",
    "from sklearn.svm import LinearSVC\n",
    "from sklearn.naive_bayes import MultinomialNB\n",
    "from sklearn.ensemble import RandomForestClassifier\n",
    "from sklearn.metrics import accuracy_score, precision_score, recall_score, f1_score, roc_auc_score, confusion_matrix,fbeta_score, roc_curve, classification_report, make_scorer, matthews_corrcoef, balanced_accuracy_score\n",
    "from sklearn.feature_extraction.text import CountVectorizer, TfidfVectorizer\n",
    "from sklearn.model_selection import GridSearchCV, cross_val_score\n",
    "\n",
    "import seaborn as sns\n",
    "import matplotlib.pyplot as plt\n",
    "\n",
    "from tqdm import tqdm\n",
    "\n",
    "\n",
    "# For scikit-learn\n",
    "mlflow.sklearn.autolog()\n",
    "\n",
    "# Configuring MLflow\n",
    "load_dotenv()\n",
    "tracking_uri = os.getenv(\"MLFLOW_TRACKING_URI\")\n",
    "mlflow.set_tracking_uri(tracking_uri)\n",
    "print(f\"MLflow Tracking URI: {tracking_uri}\")"
   ]
  },
  {
   "cell_type": "code",
   "execution_count": 14,
   "metadata": {},
   "outputs": [
    {
     "name": "stderr",
     "output_type": "stream",
     "text": [
      "2025/09/05 15:40:21 INFO mlflow.tracking.fluent: Experiment with name 'P7-Sentiments_Analysis' does not exist. Creating a new experiment.\n"
     ]
    },
    {
     "data": {
      "text/plain": [
       "<Experiment: artifact_location='mlflow-artifacts:/474291672324820532', creation_time=1757079621462, experiment_id='474291672324820532', last_update_time=1757079621462, lifecycle_stage='active', name='P7-Sentiments_Analysis', tags={}>"
      ]
     },
     "execution_count": 14,
     "metadata": {},
     "output_type": "execute_result"
    }
   ],
   "source": [
    "# Create a new MLflow Experiment\n",
    "mlflow.set_experiment(\"P7-Sentiments_Analysis\")"
   ]
  },
  {
   "cell_type": "markdown",
   "metadata": {},
   "source": [
    "## Evaluation function"
   ]
  },
  {
   "cell_type": "code",
   "execution_count": 8,
   "metadata": {},
   "outputs": [],
   "source": [
    "def evaluate_model(model, X_test, y_test, model_name, vectorizer_name):\n",
    "    \"\"\"\n",
    "    Evaluates a machine learning model using various metrics and visualizations.\n",
    "    Args:\n",
    "        model: The trained machine learning model to evaluate.\n",
    "        X_test: The test features.\n",
    "        y_test: The true labels for the test set.\n",
    "        model_name: The name of the model being evaluated.\n",
    "        vectorizer_name: The name of the vectorizer used for feature extraction.\n",
    "    Returns:\n",
    "        accuracy, precision, recall, f1, f05, f2, roc_auc: Evaluation metrics.\n",
    "        fig_cm: Figure of the confusion matrix.\n",
    "        fig_roc: Figure of the ROC curve.\n",
    "        y_pred: Predicted labels for the test set.\n",
    "    \"\"\"\n",
    "    # Predict the labels for the test set\n",
    "    y_pred = model.predict(X_test)\n",
    "\n",
    "    # Get the predicted probabilities or decision function scores\n",
    "    if hasattr(model, 'predict_proba'):\n",
    "        y_score = model.predict_proba(X_test)[:, 1]\n",
    "    elif hasattr(model, 'decision_function'):\n",
    "        y_score = model.decision_function(X_test)\n",
    "    else:\n",
    "        y_score = y_pred  # Fallback for models without probability estimates\n",
    "\n",
    "    # Metrics\n",
    "    accuracy = accuracy_score(y_test, y_pred)\n",
    "    precision = precision_score(y_test, y_pred)\n",
    "    recall = recall_score(y_test, y_pred)\n",
    "    roc_auc = roc_auc_score(y_test, y_score)\n",
    "\n",
    "    # Plot confusion matrix\n",
    "    cm = confusion_matrix(y_test, y_pred)\n",
    "    tn, fp, fn, tp = cm.ravel()\n",
    "    specificity = tn / (tn + fp) if (tn + fp) > 0 else 0\n",
    "    fig_cm, ax_cm = plt.subplots(figsize=(8, 6))\n",
    "    sns.heatmap(cm, annot=True, fmt='d', cmap='Blues', ax=ax_cm)\n",
    "    ax_cm.set_xlabel('Prediction')\n",
    "    ax_cm.set_ylabel('Real label')\n",
    "    ax_cm.set_title(f'Confusion matrix - {model_name} with {vectorizer_name}')\n",
    "\n",
    "    # Créer la courbe ROC\n",
    "    fpr, tpr, _ = roc_curve(y_test, y_score)\n",
    "    fig_roc, ax_roc = plt.subplots(figsize=(8, 6))\n",
    "    ax_roc.plot(fpr, tpr, label=f'ROC curve (AUC = {roc_auc:.3f})')\n",
    "    ax_roc.plot([0, 1], [0, 1], 'k--')\n",
    "    ax_roc.set_xlim([0.0, 1.0])\n",
    "    ax_roc.set_ylim([0.0, 1.05])\n",
    "    ax_roc.set_xlabel('False Positive Rate')\n",
    "    ax_roc.set_ylabel('True Positive Rate')\n",
    "    ax_roc.set_title(f'ROC curve - {model_name} with {vectorizer_name}')\n",
    "    ax_roc.legend(loc=\"lower right\")\n",
    "    ax_roc.grid(True)\n",
    "\n",
    "    # Afficher les résultats\n",
    "    print(f\"\\nResults for {model_name} with {vectorizer_name}:\")\n",
    "    print(f\"Accuracy: {accuracy:.4f}\")\n",
    "    print(f\"Precision: {precision:.4f}\")\n",
    "    print(f\"Recall: {recall:.4f}\")\n",
    "    print(f\"Specificity: {specificity:.4f}\")\n",
    "    print(f\"ROC AUC: {roc_auc:.4f}\")\n",
    "    print(\"\\nConfusion matrix:\")\n",
    "    print(cm)\n",
    "    print(\"\\nClassificatin report:\")\n",
    "    print(classification_report(y_test, y_pred))\n",
    "\n",
    "    return accuracy, precision, recall, specificity, roc_auc, fig_cm, fig_roc, y_pred"
   ]
  },
  {
   "cell_type": "markdown",
   "metadata": {},
   "source": [
    "## Instantiate the vectorizers"
   ]
  },
  {
   "cell_type": "code",
   "execution_count": 9,
   "metadata": {},
   "outputs": [],
   "source": [
    "# Instantiate the vectorizers\n",
    "tfidf_vectorizer = TfidfVectorizer(max_features=10000, ngram_range=(1, 2))\n",
    "bow_vectorizer = CountVectorizer(max_features=10000, ngram_range=(1, 2))\n",
    "\n",
    "\n",
    "# Vectorize texts into TF-IDF vectors\n",
    "X_train_tfidf_lem = tfidf_vectorizer.fit_transform(X_train_lem)\n",
    "X_test_tfidf_lem = tfidf_vectorizer.transform(X_test_lem)\n",
    "X_train_tfidf_stem = tfidf_vectorizer.fit_transform(X_train_stem)\n",
    "X_test_tfidf_stem = tfidf_vectorizer.transform(X_test_stem)\n",
    "\n",
    "# Vectorize texts into Bag-of-Words vectors\n",
    "X_train_bow_lem = bow_vectorizer.fit_transform(X_train_lem)\n",
    "X_test_bow_lem = bow_vectorizer.transform(X_test_lem)\n",
    "X_train_bow_stem = bow_vectorizer.fit_transform(X_train_stem)\n",
    "X_test_bow_stem = bow_vectorizer.transform(X_test_stem)"
   ]
  },
  {
   "cell_type": "markdown",
   "metadata": {},
   "source": [
    "## Instanciate models"
   ]
  },
  {
   "cell_type": "code",
   "execution_count": 24,
   "metadata": {},
   "outputs": [],
   "source": [
    "# Instanciate the models\n",
    "base_models = {\n",
    "    \"Logistic_Regression\": LogisticRegression(random_state=42),\n",
    "    \"SVM_Lineaire\": LinearSVC(random_state=42),\n",
    "    \"Random_Forest\": RandomForestClassifier(random_state=42),\n",
    "    \"Naive_Bayes\": MultinomialNB()\n",
    "}\n",
    "\n",
    "# Defined hyperparameters\n",
    "param_grids = {\n",
    "    \"Logistic_Regression\": {\n",
    "        'C': [0.01, 0.1, 1.0, 10.0],\n",
    "        'max_iter': [1000],\n",
    "        'solver': ['liblinear', 'saga']\n",
    "    },\n",
    "    \"SVM_Lineaire\": {\n",
    "        'C': [0.01, 0.1, 1.0, 10.0],\n",
    "        'max_iter': [1000],\n",
    "        'dual': [True, False]\n",
    "    },\n",
    "    \"Random_Forest\": {\n",
    "        'n_estimators': [50, 100, 200],\n",
    "        'max_depth': [None, 10, 20],\n",
    "        'min_samples_split': [2, 5]\n",
    "    },\n",
    "    \"Naive_Bayes\": {\n",
    "        'alpha': [0.1, 0.5, 1.0, 2.0]\n",
    "    }\n",
    "}\n",
    "\n",
    "# Vectorizers\n",
    "vectorizers = {\n",
    "    \"TF-IDF_lem\": (tfidf_vectorizer, X_train_tfidf_lem, X_test_tfidf_lem, y_train_lem, y_test_lem),\n",
    "    \"BoW_lem\": (bow_vectorizer, X_train_bow_lem, X_test_bow_lem, y_train_lem, y_test_lem),\n",
    "    \"TF-IDF_stem\": (tfidf_vectorizer, X_train_tfidf_stem, X_test_tfidf_stem, y_train_stem, y_test_stem),\n",
    "    \"BoW_stem\": (bow_vectorizer, X_train_bow_stem, X_test_bow_stem, y_train_stem, y_test_stem),\n",
    "}\n",
    "\n",
    "# Scorers\n",
    "scorers = {\n",
    "    'specificity': make_scorer(recall_score, pos_label=0),\n",
    "    'mcc': make_scorer(matthews_corrcoef),\n",
    "    'balanced_acc': make_scorer(balanced_accuracy_score)\n",
    "}"
   ]
  },
  {
   "cell_type": "markdown",
   "metadata": {},
   "source": [
    "## Training"
   ]
  },
  {
   "cell_type": "code",
   "execution_count": 15,
   "metadata": {},
   "outputs": [
    {
     "name": "stderr",
     "output_type": "stream",
     "text": [
      "Last model: Random_Forest with TF-IDF_lem:  56%|█████▋    | 9/16 [07:13<05:36, 48.12s/it]\u001b[A\n",
      "\n"
     ]
    },
    {
     "name": "stdout",
     "output_type": "stream",
     "text": [
      "\n",
      "================================================================================\n",
      "Starting training for Logistic_Regression with TF-IDF_lem...\n"
     ]
    },
    {
     "name": "stderr",
     "output_type": "stream",
     "text": [
      "2025/09/05 15:40:33 WARNING mlflow.sklearn: Failed to log training dataset information to MLflow Tracking. Reason: 'Series' object has no attribute 'flatten'\n",
      "2025/09/05 15:40:38 WARNING mlflow.models.model: `artifact_path` is deprecated. Please use `name` instead.\n",
      "2025/09/05 15:40:38 WARNING mlflow.models.model: `artifact_path` is deprecated. Please use `name` instead.\n"
     ]
    },
    {
     "name": "stdout",
     "output_type": "stream",
     "text": [
      "\n",
      "Results for Logistic_Regression with TF-IDF_lem:\n",
      "Accuracy: 0.7718\n",
      "Precision: 0.7691\n",
      "Recall: 0.7768\n",
      "Specificity: 0.7668\n",
      "ROC AUC: 0.8535\n",
      "\n",
      "Confusion matrix:\n",
      "[[3834 1166]\n",
      " [1116 3884]]\n",
      "\n",
      "Classificatin report:\n",
      "              precision    recall  f1-score   support\n",
      "\n",
      "           0       0.77      0.77      0.77      5000\n",
      "           1       0.77      0.78      0.77      5000\n",
      "\n",
      "    accuracy                           0.77     10000\n",
      "   macro avg       0.77      0.77      0.77     10000\n",
      "weighted avg       0.77      0.77      0.77     10000\n",
      "\n"
     ]
    },
    {
     "name": "stderr",
     "output_type": "stream",
     "text": [
      "Overall Progress:   6%|▋         | 1/16 [00:08<02:04,  8.32s/it]\u001b[A"
     ]
    },
    {
     "name": "stdout",
     "output_type": "stream",
     "text": [
      "Accuracy: 0.7718\n",
      "Specificity: 0.7668\n",
      "ROC AUC test: 0.8535\n",
      "Training time: 6.01 secondes\n",
      "🏃 View run Basic_Model_Logistic_Regression_TF-IDF_lem at: http://localhost:8080/#/experiments/474291672324820532/runs/09a38a7666d7408b942ec6bff7340142\n",
      "🧪 View experiment at: http://localhost:8080/#/experiments/474291672324820532\n",
      "\n",
      "================================================================================\n",
      "Starting training for Logistic_Regression with BoW_lem...\n"
     ]
    },
    {
     "name": "stderr",
     "output_type": "stream",
     "text": [
      "2025/09/05 15:40:41 WARNING mlflow.sklearn: Failed to log training dataset information to MLflow Tracking. Reason: 'Series' object has no attribute 'flatten'\n"
     ]
    },
    {
     "name": "stdout",
     "output_type": "stream",
     "text": [
      "\n",
      "Results for Logistic_Regression with BoW_lem:\n",
      "Accuracy: 0.7663\n",
      "Precision: 0.7611\n",
      "Recall: 0.7762\n",
      "Specificity: 0.7564\n",
      "ROC AUC: 0.8406\n",
      "\n",
      "Confusion matrix:\n",
      "[[3782 1218]\n",
      " [1119 3881]]\n",
      "\n",
      "Classificatin report:\n",
      "              precision    recall  f1-score   support\n",
      "\n",
      "           0       0.77      0.76      0.76      5000\n",
      "           1       0.76      0.78      0.77      5000\n",
      "\n",
      "    accuracy                           0.77     10000\n",
      "   macro avg       0.77      0.77      0.77     10000\n",
      "weighted avg       0.77      0.77      0.77     10000\n",
      "\n"
     ]
    },
    {
     "name": "stderr",
     "output_type": "stream",
     "text": [
      "2025/09/05 15:40:46 WARNING mlflow.models.model: `artifact_path` is deprecated. Please use `name` instead.\n"
     ]
    },
    {
     "name": "stdout",
     "output_type": "stream",
     "text": [
      "Accuracy: 0.7663\n",
      "Specificity: 0.7564\n",
      "ROC AUC test: 0.8406\n",
      "Training time: 5.14 secondes\n",
      "🏃 View run Basic_Model_Logistic_Regression_BoW_lem at: http://localhost:8080/#/experiments/474291672324820532/runs/afdaedb90ea943cf9cb286a64d13d716\n",
      "🧪 View experiment at: http://localhost:8080/#/experiments/474291672324820532\n",
      "\n",
      "================================================================================\n",
      "Starting training for Logistic_Regression with TF-IDF_stem...\n"
     ]
    },
    {
     "name": "stderr",
     "output_type": "stream",
     "text": [
      "2025/09/05 15:40:50 WARNING mlflow.sklearn: Failed to log training dataset information to MLflow Tracking. Reason: 'Series' object has no attribute 'flatten'\n",
      "2025/09/05 15:40:54 WARNING mlflow.models.model: `artifact_path` is deprecated. Please use `name` instead.\n",
      "2025/09/05 15:40:54 WARNING mlflow.models.model: `artifact_path` is deprecated. Please use `name` instead.\n"
     ]
    },
    {
     "name": "stdout",
     "output_type": "stream",
     "text": [
      "\n",
      "Results for Logistic_Regression with TF-IDF_stem:\n",
      "Accuracy: 0.7725\n",
      "Precision: 0.7727\n",
      "Recall: 0.7722\n",
      "Specificity: 0.7728\n",
      "ROC AUC: 0.8546\n",
      "\n",
      "Confusion matrix:\n",
      "[[3864 1136]\n",
      " [1139 3861]]\n",
      "\n",
      "Classificatin report:\n",
      "              precision    recall  f1-score   support\n",
      "\n",
      "           0       0.77      0.77      0.77      5000\n",
      "           1       0.77      0.77      0.77      5000\n",
      "\n",
      "    accuracy                           0.77     10000\n",
      "   macro avg       0.77      0.77      0.77     10000\n",
      "weighted avg       0.77      0.77      0.77     10000\n",
      "\n"
     ]
    },
    {
     "name": "stderr",
     "output_type": "stream",
     "text": [
      "Last model: Logistic_Regression with BoW_lem:  19%|█▉        | 3/16 [00:24<01:47,  8.25s/it]\u001b[A"
     ]
    },
    {
     "name": "stdout",
     "output_type": "stream",
     "text": [
      "Accuracy: 0.7725\n",
      "Specificity: 0.7728\n",
      "ROC AUC test: 0.8546\n",
      "Training time: 5.45 secondes\n",
      "🏃 View run Basic_Model_Logistic_Regression_TF-IDF_stem at: http://localhost:8080/#/experiments/474291672324820532/runs/cb0f96b2dde740df9e4757a65e865f74\n",
      "🧪 View experiment at: http://localhost:8080/#/experiments/474291672324820532\n",
      "\n",
      "================================================================================\n",
      "Starting training for Logistic_Regression with BoW_stem...\n"
     ]
    },
    {
     "name": "stderr",
     "output_type": "stream",
     "text": [
      "2025/09/05 15:40:58 WARNING mlflow.sklearn: Failed to log training dataset information to MLflow Tracking. Reason: 'Series' object has no attribute 'flatten'\n",
      "2025/09/05 15:41:02 WARNING mlflow.models.model: `artifact_path` is deprecated. Please use `name` instead.\n",
      "2025/09/05 15:41:02 WARNING mlflow.models.model: `artifact_path` is deprecated. Please use `name` instead.\n"
     ]
    },
    {
     "name": "stdout",
     "output_type": "stream",
     "text": [
      "\n",
      "Results for Logistic_Regression with BoW_stem:\n",
      "Accuracy: 0.7688\n",
      "Precision: 0.7643\n",
      "Recall: 0.7774\n",
      "Specificity: 0.7602\n",
      "ROC AUC: 0.8399\n",
      "\n",
      "Confusion matrix:\n",
      "[[3801 1199]\n",
      " [1113 3887]]\n",
      "\n",
      "Classificatin report:\n",
      "              precision    recall  f1-score   support\n",
      "\n",
      "           0       0.77      0.76      0.77      5000\n",
      "           1       0.76      0.78      0.77      5000\n",
      "\n",
      "    accuracy                           0.77     10000\n",
      "   macro avg       0.77      0.77      0.77     10000\n",
      "weighted avg       0.77      0.77      0.77     10000\n",
      "\n"
     ]
    },
    {
     "name": "stderr",
     "output_type": "stream",
     "text": [
      "Last model: Logistic_Regression with TF-IDF_stem:  25%|██▌       | 4/16 [00:32<01:37,  8.14s/it]\u001b[A"
     ]
    },
    {
     "name": "stdout",
     "output_type": "stream",
     "text": [
      "Accuracy: 0.7688\n",
      "Specificity: 0.7602\n",
      "ROC AUC test: 0.8399\n",
      "Training time: 5.55 secondes\n",
      "🏃 View run Basic_Model_Logistic_Regression_BoW_stem at: http://localhost:8080/#/experiments/474291672324820532/runs/33bbe1d89c2c4057a2416a42dfd84b3b\n",
      "🧪 View experiment at: http://localhost:8080/#/experiments/474291672324820532\n",
      "\n",
      "================================================================================\n",
      "Starting training for SVM_Lineaire with TF-IDF_lem...\n"
     ]
    },
    {
     "name": "stderr",
     "output_type": "stream",
     "text": [
      "2025/09/05 15:41:06 WARNING mlflow.sklearn: Failed to log training dataset information to MLflow Tracking. Reason: 'Series' object has no attribute 'flatten'\n",
      "2025/09/05 15:41:10 WARNING mlflow.models.model: `artifact_path` is deprecated. Please use `name` instead.\n",
      "2025/09/05 15:41:10 WARNING mlflow.models.model: `artifact_path` is deprecated. Please use `name` instead.\n"
     ]
    },
    {
     "name": "stdout",
     "output_type": "stream",
     "text": [
      "\n",
      "Results for SVM_Lineaire with TF-IDF_lem:\n",
      "Accuracy: 0.7618\n",
      "Precision: 0.7603\n",
      "Recall: 0.7646\n",
      "Specificity: 0.7590\n",
      "ROC AUC: 0.8389\n",
      "\n",
      "Confusion matrix:\n",
      "[[3795 1205]\n",
      " [1177 3823]]\n",
      "\n",
      "Classificatin report:\n",
      "              precision    recall  f1-score   support\n",
      "\n",
      "           0       0.76      0.76      0.76      5000\n",
      "           1       0.76      0.76      0.76      5000\n",
      "\n",
      "    accuracy                           0.76     10000\n",
      "   macro avg       0.76      0.76      0.76     10000\n",
      "weighted avg       0.76      0.76      0.76     10000\n",
      "\n"
     ]
    },
    {
     "name": "stderr",
     "output_type": "stream",
     "text": [
      "Last model: Logistic_Regression with BoW_stem:  31%|███▏      | 5/16 [00:39<01:25,  7.80s/it]\u001b[A"
     ]
    },
    {
     "name": "stdout",
     "output_type": "stream",
     "text": [
      "Accuracy: 0.7618\n",
      "Specificity: 0.7590\n",
      "ROC AUC test: 0.8389\n",
      "Training time: 5.13 secondes\n",
      "🏃 View run Basic_Model_SVM_Lineaire_TF-IDF_lem at: http://localhost:8080/#/experiments/474291672324820532/runs/283af71c9cce4b8f826a386d78d7ee1f\n",
      "🧪 View experiment at: http://localhost:8080/#/experiments/474291672324820532\n",
      "\n",
      "================================================================================\n",
      "Starting training for SVM_Lineaire with BoW_lem...\n"
     ]
    },
    {
     "name": "stderr",
     "output_type": "stream",
     "text": [
      "2025/09/05 15:41:13 WARNING mlflow.sklearn: Failed to log training dataset information to MLflow Tracking. Reason: 'Series' object has no attribute 'flatten'\n",
      "2025/09/05 15:41:17 WARNING mlflow.models.model: `artifact_path` is deprecated. Please use `name` instead.\n",
      "2025/09/05 15:41:17 WARNING mlflow.models.model: `artifact_path` is deprecated. Please use `name` instead.\n"
     ]
    },
    {
     "name": "stdout",
     "output_type": "stream",
     "text": [
      "\n",
      "Results for SVM_Lineaire with BoW_lem:\n",
      "Accuracy: 0.7493\n",
      "Precision: 0.7454\n",
      "Recall: 0.7572\n",
      "Specificity: 0.7414\n",
      "ROC AUC: 0.8143\n",
      "\n",
      "Confusion matrix:\n",
      "[[3707 1293]\n",
      " [1214 3786]]\n",
      "\n",
      "Classificatin report:\n",
      "              precision    recall  f1-score   support\n",
      "\n",
      "           0       0.75      0.74      0.75      5000\n",
      "           1       0.75      0.76      0.75      5000\n",
      "\n",
      "    accuracy                           0.75     10000\n",
      "   macro avg       0.75      0.75      0.75     10000\n",
      "weighted avg       0.75      0.75      0.75     10000\n",
      "\n"
     ]
    },
    {
     "name": "stderr",
     "output_type": "stream",
     "text": [
      "Last model: SVM_Lineaire with TF-IDF_lem:  38%|███▊      | 6/16 [00:47<01:18,  7.85s/it]\u001b[A"
     ]
    },
    {
     "name": "stdout",
     "output_type": "stream",
     "text": [
      "Accuracy: 0.7493\n",
      "Specificity: 0.7414\n",
      "ROC AUC test: 0.8143\n",
      "Training time: 5.55 secondes\n",
      "🏃 View run Basic_Model_SVM_Lineaire_BoW_lem at: http://localhost:8080/#/experiments/474291672324820532/runs/b68ca291760544af8a7ea3f2ca8fb6ec\n",
      "🧪 View experiment at: http://localhost:8080/#/experiments/474291672324820532\n",
      "\n",
      "================================================================================\n",
      "Starting training for SVM_Lineaire with TF-IDF_stem...\n"
     ]
    },
    {
     "name": "stderr",
     "output_type": "stream",
     "text": [
      "2025/09/05 15:41:21 WARNING mlflow.sklearn: Failed to log training dataset information to MLflow Tracking. Reason: 'Series' object has no attribute 'flatten'\n",
      "2025/09/05 15:41:26 WARNING mlflow.models.model: `artifact_path` is deprecated. Please use `name` instead.\n",
      "2025/09/05 15:41:26 WARNING mlflow.models.model: `artifact_path` is deprecated. Please use `name` instead.\n"
     ]
    },
    {
     "name": "stdout",
     "output_type": "stream",
     "text": [
      "\n",
      "Results for SVM_Lineaire with TF-IDF_stem:\n",
      "Accuracy: 0.7602\n",
      "Precision: 0.7590\n",
      "Recall: 0.7626\n",
      "Specificity: 0.7578\n",
      "ROC AUC: 0.8387\n",
      "\n",
      "Confusion matrix:\n",
      "[[3789 1211]\n",
      " [1187 3813]]\n",
      "\n",
      "Classificatin report:\n",
      "              precision    recall  f1-score   support\n",
      "\n",
      "           0       0.76      0.76      0.76      5000\n",
      "           1       0.76      0.76      0.76      5000\n",
      "\n",
      "    accuracy                           0.76     10000\n",
      "   macro avg       0.76      0.76      0.76     10000\n",
      "weighted avg       0.76      0.76      0.76     10000\n",
      "\n"
     ]
    },
    {
     "name": "stderr",
     "output_type": "stream",
     "text": [
      "Last model: SVM_Lineaire with BoW_lem:  44%|████▍     | 7/16 [00:55<01:10,  7.80s/it]\u001b[A"
     ]
    },
    {
     "name": "stdout",
     "output_type": "stream",
     "text": [
      "Accuracy: 0.7602\n",
      "Specificity: 0.7578\n",
      "ROC AUC test: 0.8387\n",
      "Training time: 5.70 secondes\n",
      "🏃 View run Basic_Model_SVM_Lineaire_TF-IDF_stem at: http://localhost:8080/#/experiments/474291672324820532/runs/e2680388545a42729747f9060b89a50b\n",
      "🧪 View experiment at: http://localhost:8080/#/experiments/474291672324820532\n",
      "\n",
      "================================================================================\n",
      "Starting training for SVM_Lineaire with BoW_stem...\n"
     ]
    },
    {
     "name": "stderr",
     "output_type": "stream",
     "text": [
      "2025/09/05 15:41:29 WARNING mlflow.sklearn: Failed to log training dataset information to MLflow Tracking. Reason: 'Series' object has no attribute 'flatten'\n",
      "2025/09/05 15:41:33 WARNING mlflow.models.model: `artifact_path` is deprecated. Please use `name` instead.\n",
      "2025/09/05 15:41:33 WARNING mlflow.models.model: `artifact_path` is deprecated. Please use `name` instead.\n"
     ]
    },
    {
     "name": "stdout",
     "output_type": "stream",
     "text": [
      "\n",
      "Results for SVM_Lineaire with BoW_stem:\n",
      "Accuracy: 0.7424\n",
      "Precision: 0.7392\n",
      "Recall: 0.7490\n",
      "Specificity: 0.7358\n",
      "ROC AUC: 0.8092\n",
      "\n",
      "Confusion matrix:\n",
      "[[3679 1321]\n",
      " [1255 3745]]\n",
      "\n",
      "Classificatin report:\n",
      "              precision    recall  f1-score   support\n",
      "\n",
      "           0       0.75      0.74      0.74      5000\n",
      "           1       0.74      0.75      0.74      5000\n",
      "\n",
      "    accuracy                           0.74     10000\n",
      "   macro avg       0.74      0.74      0.74     10000\n",
      "weighted avg       0.74      0.74      0.74     10000\n",
      "\n"
     ]
    },
    {
     "name": "stderr",
     "output_type": "stream",
     "text": [
      "Last model: SVM_Lineaire with TF-IDF_stem:  50%|█████     | 8/16 [01:02<01:00,  7.58s/it]\u001b[A"
     ]
    },
    {
     "name": "stdout",
     "output_type": "stream",
     "text": [
      "Accuracy: 0.7424\n",
      "Specificity: 0.7358\n",
      "ROC AUC test: 0.8092\n",
      "Training time: 5.12 secondes\n",
      "🏃 View run Basic_Model_SVM_Lineaire_BoW_stem at: http://localhost:8080/#/experiments/474291672324820532/runs/4d3938dfa00f41bf8bb96f59134024bb\n",
      "🧪 View experiment at: http://localhost:8080/#/experiments/474291672324820532\n",
      "\n",
      "================================================================================\n",
      "Starting training for Random_Forest with TF-IDF_lem...\n"
     ]
    },
    {
     "name": "stderr",
     "output_type": "stream",
     "text": [
      "2025/09/05 15:41:36 WARNING mlflow.sklearn: Failed to log training dataset information to MLflow Tracking. Reason: 'Series' object has no attribute 'flatten'\n",
      "2025/09/05 15:45:43 WARNING mlflow.utils.autologging_utils: Encountered unexpected error during sklearn autologging: The following failures occurred while performing one or more logging operations: [MlflowException('Failed to perform one or more operations on the run with ID 50d2d380abb74573b0d7b0ad4aa9e233. Failed operations: [MlflowException(\"API request to http://localhost:8080/api/2.0/mlflow/runs/log-batch failed with exception HTTPConnectionPool(host=\\'localhost\\', port=8080): Max retries exceeded with url: /api/2.0/mlflow/runs/log-batch (Caused by ResponseError(\\'too many 500 error responses\\'))\")]')]\n",
      "2025/09/05 15:45:43 WARNING mlflow.utils.autologging_utils: Encountered unexpected error during sklearn autologging: The following failures occurred while performing one or more logging operations: [MlflowException('Failed to perform one or more operations on the run with ID 50d2d380abb74573b0d7b0ad4aa9e233. Failed operations: [MlflowException(\"API request to http://localhost:8080/api/2.0/mlflow/runs/log-batch failed with exception HTTPConnectionPool(host=\\'localhost\\', port=8080): Max retries exceeded with url: /api/2.0/mlflow/runs/log-batch (Caused by ResponseError(\\'too many 500 error responses\\'))\")]')]\n"
     ]
    },
    {
     "name": "stdout",
     "output_type": "stream",
     "text": [
      "\n",
      "Results for Random_Forest with TF-IDF_lem:\n",
      "Accuracy: 0.7503\n",
      "Precision: 0.7508\n",
      "Recall: 0.7494\n",
      "Specificity: 0.7512\n",
      "ROC AUC: 0.8277\n",
      "\n",
      "Confusion matrix:\n",
      "[[3756 1244]\n",
      " [1253 3747]]\n",
      "\n",
      "Classificatin report:\n",
      "              precision    recall  f1-score   support\n",
      "\n",
      "           0       0.75      0.75      0.75      5000\n",
      "           1       0.75      0.75      0.75      5000\n",
      "\n",
      "    accuracy                           0.75     10000\n",
      "   macro avg       0.75      0.75      0.75     10000\n",
      "weighted avg       0.75      0.75      0.75     10000\n",
      "\n"
     ]
    },
    {
     "name": "stderr",
     "output_type": "stream",
     "text": [
      "2025/09/05 15:45:45 WARNING mlflow.models.model: `artifact_path` is deprecated. Please use `name` instead.\n"
     ]
    },
    {
     "name": "stdout",
     "output_type": "stream",
     "text": [
      "Accuracy: 0.7503\n",
      "Specificity: 0.7512\n",
      "ROC AUC test: 0.8277\n",
      "Training time: 248.49 secondes\n",
      "🏃 View run Basic_Model_Random_Forest_TF-IDF_lem at: http://localhost:8080/#/experiments/474291672324820532/runs/50d2d380abb74573b0d7b0ad4aa9e233\n",
      "🧪 View experiment at: http://localhost:8080/#/experiments/474291672324820532\n",
      "\n",
      "================================================================================\n",
      "Starting training for Random_Forest with BoW_lem...\n"
     ]
    },
    {
     "name": "stderr",
     "output_type": "stream",
     "text": [
      "2025/09/05 15:45:50 WARNING mlflow.sklearn: Failed to log training dataset information to MLflow Tracking. Reason: 'Series' object has no attribute 'flatten'\n",
      "2025/09/05 15:49:56 WARNING mlflow.utils.autologging_utils: Encountered unexpected error during sklearn autologging: The following failures occurred while performing one or more logging operations: [MlflowException('Failed to perform one or more operations on the run with ID 8b5f33e35e2c41b8a0ae09cd71801bc9. Failed operations: [MlflowException(\"API request to http://localhost:8080/api/2.0/mlflow/runs/log-batch failed with exception HTTPConnectionPool(host=\\'localhost\\', port=8080): Max retries exceeded with url: /api/2.0/mlflow/runs/log-batch (Caused by ResponseError(\\'too many 500 error responses\\'))\")]')]\n",
      "2025/09/05 15:49:56 WARNING mlflow.utils.autologging_utils: Encountered unexpected error during sklearn autologging: The following failures occurred while performing one or more logging operations: [MlflowException('Failed to perform one or more operations on the run with ID 8b5f33e35e2c41b8a0ae09cd71801bc9. Failed operations: [MlflowException(\"API request to http://localhost:8080/api/2.0/mlflow/runs/log-batch failed with exception HTTPConnectionPool(host=\\'localhost\\', port=8080): Max retries exceeded with url: /api/2.0/mlflow/runs/log-batch (Caused by ResponseError(\\'too many 500 error responses\\'))\")]')]\n",
      "2025/09/05 15:49:57 WARNING mlflow.models.model: `artifact_path` is deprecated. Please use `name` instead.\n",
      "2025/09/05 15:49:57 WARNING mlflow.models.model: `artifact_path` is deprecated. Please use `name` instead.\n"
     ]
    },
    {
     "name": "stdout",
     "output_type": "stream",
     "text": [
      "\n",
      "Results for Random_Forest with BoW_lem:\n",
      "Accuracy: 0.7477\n",
      "Precision: 0.7544\n",
      "Recall: 0.7346\n",
      "Specificity: 0.7608\n",
      "ROC AUC: 0.8255\n",
      "\n",
      "Confusion matrix:\n",
      "[[3804 1196]\n",
      " [1327 3673]]\n",
      "\n",
      "Classificatin report:\n",
      "              precision    recall  f1-score   support\n",
      "\n",
      "           0       0.74      0.76      0.75      5000\n",
      "           1       0.75      0.73      0.74      5000\n",
      "\n",
      "    accuracy                           0.75     10000\n",
      "   macro avg       0.75      0.75      0.75     10000\n",
      "weighted avg       0.75      0.75      0.75     10000\n",
      "\n"
     ]
    },
    {
     "name": "stderr",
     "output_type": "stream",
     "text": [
      "Last model: Random_Forest with TF-IDF_lem:  62%|██████▎   | 10/16 [09:28<13:38, 136.37s/it]\u001b[A"
     ]
    },
    {
     "name": "stdout",
     "output_type": "stream",
     "text": [
      "Accuracy: 0.7477\n",
      "Specificity: 0.7608\n",
      "ROC AUC test: 0.8255\n",
      "Training time: 247.99 secondes\n",
      "🏃 View run Basic_Model_Random_Forest_BoW_lem at: http://localhost:8080/#/experiments/474291672324820532/runs/8b5f33e35e2c41b8a0ae09cd71801bc9\n",
      "🧪 View experiment at: http://localhost:8080/#/experiments/474291672324820532\n",
      "\n",
      "================================================================================\n",
      "Starting training for Random_Forest with TF-IDF_stem...\n"
     ]
    },
    {
     "name": "stderr",
     "output_type": "stream",
     "text": [
      "2025/09/05 15:50:02 WARNING mlflow.sklearn: Failed to log training dataset information to MLflow Tracking. Reason: 'Series' object has no attribute 'flatten'\n",
      "2025/09/05 15:54:09 WARNING mlflow.utils.autologging_utils: Encountered unexpected error during sklearn autologging: The following failures occurred while performing one or more logging operations: [MlflowException('Failed to perform one or more operations on the run with ID a1c067d7bc4f4a1590989a187b94024b. Failed operations: [MlflowException(\"API request to http://localhost:8080/api/2.0/mlflow/runs/log-batch failed with exception HTTPConnectionPool(host=\\'localhost\\', port=8080): Max retries exceeded with url: /api/2.0/mlflow/runs/log-batch (Caused by ResponseError(\\'too many 500 error responses\\'))\")]')]\n",
      "2025/09/05 15:54:09 WARNING mlflow.utils.autologging_utils: Encountered unexpected error during sklearn autologging: The following failures occurred while performing one or more logging operations: [MlflowException('Failed to perform one or more operations on the run with ID a1c067d7bc4f4a1590989a187b94024b. Failed operations: [MlflowException(\"API request to http://localhost:8080/api/2.0/mlflow/runs/log-batch failed with exception HTTPConnectionPool(host=\\'localhost\\', port=8080): Max retries exceeded with url: /api/2.0/mlflow/runs/log-batch (Caused by ResponseError(\\'too many 500 error responses\\'))\")]')]\n",
      "2025/09/05 15:54:11 WARNING mlflow.models.model: `artifact_path` is deprecated. Please use `name` instead.\n",
      "2025/09/05 15:54:11 WARNING mlflow.models.model: `artifact_path` is deprecated. Please use `name` instead.\n"
     ]
    },
    {
     "name": "stdout",
     "output_type": "stream",
     "text": [
      "\n",
      "Results for Random_Forest with TF-IDF_stem:\n",
      "Accuracy: 0.7522\n",
      "Precision: 0.7555\n",
      "Recall: 0.7458\n",
      "Specificity: 0.7586\n",
      "ROC AUC: 0.8317\n",
      "\n",
      "Confusion matrix:\n",
      "[[3793 1207]\n",
      " [1271 3729]]\n",
      "\n",
      "Classificatin report:\n",
      "              precision    recall  f1-score   support\n",
      "\n",
      "           0       0.75      0.76      0.75      5000\n",
      "           1       0.76      0.75      0.75      5000\n",
      "\n",
      "    accuracy                           0.75     10000\n",
      "   macro avg       0.75      0.75      0.75     10000\n",
      "weighted avg       0.75      0.75      0.75     10000\n",
      "\n"
     ]
    },
    {
     "name": "stderr",
     "output_type": "stream",
     "text": [
      "Last model: Random_Forest with BoW_lem:  69%|██████▉   | 11/16 [13:42<14:20, 172.18s/it]\u001b[A"
     ]
    },
    {
     "name": "stdout",
     "output_type": "stream",
     "text": [
      "Accuracy: 0.7522\n",
      "Specificity: 0.7586\n",
      "ROC AUC test: 0.8317\n",
      "Training time: 248.81 secondes\n",
      "🏃 View run Basic_Model_Random_Forest_TF-IDF_stem at: http://localhost:8080/#/experiments/474291672324820532/runs/a1c067d7bc4f4a1590989a187b94024b\n",
      "🧪 View experiment at: http://localhost:8080/#/experiments/474291672324820532\n",
      "\n",
      "================================================================================\n",
      "Starting training for Random_Forest with BoW_stem...\n"
     ]
    },
    {
     "name": "stderr",
     "output_type": "stream",
     "text": [
      "2025/09/05 15:54:15 WARNING mlflow.sklearn: Failed to log training dataset information to MLflow Tracking. Reason: 'Series' object has no attribute 'flatten'\n",
      "2025/09/05 15:58:23 WARNING mlflow.utils.autologging_utils: Encountered unexpected error during sklearn autologging: The following failures occurred while performing one or more logging operations: [MlflowException('Failed to perform one or more operations on the run with ID 99e0c6ec0b5344cc9c6ad93f79e10783. Failed operations: [MlflowException(\"API request to http://localhost:8080/api/2.0/mlflow/runs/log-batch failed with exception HTTPConnectionPool(host=\\'localhost\\', port=8080): Max retries exceeded with url: /api/2.0/mlflow/runs/log-batch (Caused by ResponseError(\\'too many 500 error responses\\'))\")]')]\n",
      "2025/09/05 15:58:23 WARNING mlflow.utils.autologging_utils: Encountered unexpected error during sklearn autologging: The following failures occurred while performing one or more logging operations: [MlflowException('Failed to perform one or more operations on the run with ID 99e0c6ec0b5344cc9c6ad93f79e10783. Failed operations: [MlflowException(\"API request to http://localhost:8080/api/2.0/mlflow/runs/log-batch failed with exception HTTPConnectionPool(host=\\'localhost\\', port=8080): Max retries exceeded with url: /api/2.0/mlflow/runs/log-batch (Caused by ResponseError(\\'too many 500 error responses\\'))\")]')]\n",
      "2025/09/05 15:58:25 WARNING mlflow.models.model: `artifact_path` is deprecated. Please use `name` instead.\n",
      "2025/09/05 15:58:25 WARNING mlflow.models.model: `artifact_path` is deprecated. Please use `name` instead.\n"
     ]
    },
    {
     "name": "stdout",
     "output_type": "stream",
     "text": [
      "\n",
      "Results for Random_Forest with BoW_stem:\n",
      "Accuracy: 0.7498\n",
      "Precision: 0.7604\n",
      "Recall: 0.7294\n",
      "Specificity: 0.7702\n",
      "ROC AUC: 0.8285\n",
      "\n",
      "Confusion matrix:\n",
      "[[3851 1149]\n",
      " [1353 3647]]\n",
      "\n",
      "Classificatin report:\n",
      "              precision    recall  f1-score   support\n",
      "\n",
      "           0       0.74      0.77      0.75      5000\n",
      "           1       0.76      0.73      0.74      5000\n",
      "\n",
      "    accuracy                           0.75     10000\n",
      "   macro avg       0.75      0.75      0.75     10000\n",
      "weighted avg       0.75      0.75      0.75     10000\n",
      "\n"
     ]
    },
    {
     "name": "stderr",
     "output_type": "stream",
     "text": [
      "Last model: Random_Forest with TF-IDF_stem:  75%|███████▌  | 12/16 [17:56<13:08, 197.13s/it]\u001b[A"
     ]
    },
    {
     "name": "stdout",
     "output_type": "stream",
     "text": [
      "Accuracy: 0.7498\n",
      "Specificity: 0.7702\n",
      "ROC AUC test: 0.8285\n",
      "Training time: 249.31 secondes\n",
      "🏃 View run Basic_Model_Random_Forest_BoW_stem at: http://localhost:8080/#/experiments/474291672324820532/runs/99e0c6ec0b5344cc9c6ad93f79e10783\n",
      "🧪 View experiment at: http://localhost:8080/#/experiments/474291672324820532\n",
      "\n",
      "================================================================================\n",
      "Starting training for Naive_Bayes with TF-IDF_lem...\n"
     ]
    },
    {
     "name": "stderr",
     "output_type": "stream",
     "text": [
      "2025/09/05 15:58:30 WARNING mlflow.sklearn: Failed to log training dataset information to MLflow Tracking. Reason: 'Series' object has no attribute 'flatten'\n",
      "2025/09/05 15:58:33 WARNING mlflow.models.model: `artifact_path` is deprecated. Please use `name` instead.\n",
      "2025/09/05 15:58:33 WARNING mlflow.models.model: `artifact_path` is deprecated. Please use `name` instead.\n"
     ]
    },
    {
     "name": "stdout",
     "output_type": "stream",
     "text": [
      "\n",
      "Results for Naive_Bayes with TF-IDF_lem:\n",
      "Accuracy: 0.7597\n",
      "Precision: 0.7683\n",
      "Recall: 0.7436\n",
      "Specificity: 0.7758\n",
      "ROC AUC: 0.8427\n",
      "\n",
      "Confusion matrix:\n",
      "[[3879 1121]\n",
      " [1282 3718]]\n",
      "\n",
      "Classificatin report:\n",
      "              precision    recall  f1-score   support\n",
      "\n",
      "           0       0.75      0.78      0.76      5000\n",
      "           1       0.77      0.74      0.76      5000\n",
      "\n",
      "    accuracy                           0.76     10000\n",
      "   macro avg       0.76      0.76      0.76     10000\n",
      "weighted avg       0.76      0.76      0.76     10000\n",
      "\n"
     ]
    },
    {
     "name": "stderr",
     "output_type": "stream",
     "text": [
      "Last model: Random_Forest with BoW_stem:  81%|████████▏ | 13/16 [18:03<06:58, 139.56s/it]\u001b[A"
     ]
    },
    {
     "name": "stdout",
     "output_type": "stream",
     "text": [
      "Accuracy: 0.7597\n",
      "Specificity: 0.7758\n",
      "ROC AUC test: 0.8427\n",
      "Training time: 5.06 secondes\n",
      "🏃 View run Basic_Model_Naive_Bayes_TF-IDF_lem at: http://localhost:8080/#/experiments/474291672324820532/runs/d90bd13fe48e479b9ae21becc39ee6d4\n",
      "🧪 View experiment at: http://localhost:8080/#/experiments/474291672324820532\n",
      "\n",
      "================================================================================\n",
      "Starting training for Naive_Bayes with BoW_lem...\n"
     ]
    },
    {
     "name": "stderr",
     "output_type": "stream",
     "text": [
      "2025/09/05 15:58:36 WARNING mlflow.sklearn: Failed to log training dataset information to MLflow Tracking. Reason: 'Series' object has no attribute 'flatten'\n",
      "2025/09/05 15:58:41 WARNING mlflow.models.model: `artifact_path` is deprecated. Please use `name` instead.\n",
      "2025/09/05 15:58:41 WARNING mlflow.models.model: `artifact_path` is deprecated. Please use `name` instead.\n"
     ]
    },
    {
     "name": "stdout",
     "output_type": "stream",
     "text": [
      "\n",
      "Results for Naive_Bayes with BoW_lem:\n",
      "Accuracy: 0.7609\n",
      "Precision: 0.7685\n",
      "Recall: 0.7468\n",
      "Specificity: 0.7750\n",
      "ROC AUC: 0.8346\n",
      "\n",
      "Confusion matrix:\n",
      "[[3875 1125]\n",
      " [1266 3734]]\n",
      "\n",
      "Classificatin report:\n",
      "              precision    recall  f1-score   support\n",
      "\n",
      "           0       0.75      0.78      0.76      5000\n",
      "           1       0.77      0.75      0.76      5000\n",
      "\n",
      "    accuracy                           0.76     10000\n",
      "   macro avg       0.76      0.76      0.76     10000\n",
      "weighted avg       0.76      0.76      0.76     10000\n",
      "\n"
     ]
    },
    {
     "name": "stderr",
     "output_type": "stream",
     "text": [
      "Last model: Naive_Bayes with TF-IDF_lem:  88%|████████▊ | 14/16 [18:10<03:19, 99.54s/it] \u001b[A"
     ]
    },
    {
     "name": "stdout",
     "output_type": "stream",
     "text": [
      "Accuracy: 0.7609\n",
      "Specificity: 0.7750\n",
      "ROC AUC test: 0.8346\n",
      "Training time: 5.00 secondes\n",
      "🏃 View run Basic_Model_Naive_Bayes_BoW_lem at: http://localhost:8080/#/experiments/474291672324820532/runs/8fecb012f1194305bfde7510b4ea67c6\n",
      "🧪 View experiment at: http://localhost:8080/#/experiments/474291672324820532\n",
      "\n",
      "================================================================================\n",
      "Starting training for Naive_Bayes with TF-IDF_stem...\n"
     ]
    },
    {
     "name": "stderr",
     "output_type": "stream",
     "text": [
      "2025/09/05 15:58:44 WARNING mlflow.sklearn: Failed to log training dataset information to MLflow Tracking. Reason: 'Series' object has no attribute 'flatten'\n",
      "2025/09/05 15:58:47 WARNING mlflow.models.model: `artifact_path` is deprecated. Please use `name` instead.\n",
      "2025/09/05 15:58:47 WARNING mlflow.models.model: `artifact_path` is deprecated. Please use `name` instead.\n"
     ]
    },
    {
     "name": "stdout",
     "output_type": "stream",
     "text": [
      "\n",
      "Results for Naive_Bayes with TF-IDF_stem:\n",
      "Accuracy: 0.7579\n",
      "Precision: 0.7684\n",
      "Recall: 0.7384\n",
      "Specificity: 0.7774\n",
      "ROC AUC: 0.8430\n",
      "\n",
      "Confusion matrix:\n",
      "[[3887 1113]\n",
      " [1308 3692]]\n",
      "\n",
      "Classificatin report:\n",
      "              precision    recall  f1-score   support\n",
      "\n",
      "           0       0.75      0.78      0.76      5000\n",
      "           1       0.77      0.74      0.75      5000\n",
      "\n",
      "    accuracy                           0.76     10000\n",
      "   macro avg       0.76      0.76      0.76     10000\n",
      "weighted avg       0.76      0.76      0.76     10000\n",
      "\n"
     ]
    },
    {
     "name": "stderr",
     "output_type": "stream",
     "text": [
      "Last model: Naive_Bayes with BoW_lem:  94%|█████████▍| 15/16 [18:17<01:11, 71.57s/it]\u001b[A"
     ]
    },
    {
     "name": "stdout",
     "output_type": "stream",
     "text": [
      "Accuracy: 0.7579\n",
      "Specificity: 0.7774\n",
      "ROC AUC test: 0.8430\n",
      "Training time: 4.72 secondes\n",
      "🏃 View run Basic_Model_Naive_Bayes_TF-IDF_stem at: http://localhost:8080/#/experiments/474291672324820532/runs/3634975d838a48768f72c5ecf4ce3c8a\n",
      "🧪 View experiment at: http://localhost:8080/#/experiments/474291672324820532\n",
      "\n",
      "================================================================================\n",
      "Starting training for Naive_Bayes with BoW_stem...\n"
     ]
    },
    {
     "name": "stderr",
     "output_type": "stream",
     "text": [
      "2025/09/05 15:58:50 WARNING mlflow.sklearn: Failed to log training dataset information to MLflow Tracking. Reason: 'Series' object has no attribute 'flatten'\n",
      "2025/09/05 15:58:54 WARNING mlflow.models.model: `artifact_path` is deprecated. Please use `name` instead.\n",
      "2025/09/05 15:58:54 WARNING mlflow.models.model: `artifact_path` is deprecated. Please use `name` instead.\n"
     ]
    },
    {
     "name": "stdout",
     "output_type": "stream",
     "text": [
      "\n",
      "Results for Naive_Bayes with BoW_stem:\n",
      "Accuracy: 0.7602\n",
      "Precision: 0.7684\n",
      "Recall: 0.7450\n",
      "Specificity: 0.7754\n",
      "ROC AUC: 0.8356\n",
      "\n",
      "Confusion matrix:\n",
      "[[3877 1123]\n",
      " [1275 3725]]\n",
      "\n",
      "Classificatin report:\n",
      "              precision    recall  f1-score   support\n",
      "\n",
      "           0       0.75      0.78      0.76      5000\n",
      "           1       0.77      0.74      0.76      5000\n",
      "\n",
      "    accuracy                           0.76     10000\n",
      "   macro avg       0.76      0.76      0.76     10000\n",
      "weighted avg       0.76      0.76      0.76     10000\n",
      "\n"
     ]
    },
    {
     "name": "stderr",
     "output_type": "stream",
     "text": [
      "Last model: Naive_Bayes with BoW_stem: 100%|██████████| 16/16 [18:24<00:00, 69.05s/it]it]\u001b[A"
     ]
    },
    {
     "name": "stdout",
     "output_type": "stream",
     "text": [
      "Accuracy: 0.7602\n",
      "Specificity: 0.7754\n",
      "ROC AUC test: 0.8356\n",
      "Training time: 5.02 secondes\n",
      "🏃 View run Basic_Model_Naive_Bayes_BoW_stem at: http://localhost:8080/#/experiments/474291672324820532/runs/35082a6f113741518058223e1a5af33d\n",
      "🧪 View experiment at: http://localhost:8080/#/experiments/474291672324820532\n",
      "\n",
      "Total training time for all models: 18.41 minutes\n"
     ]
    },
    {
     "name": "stderr",
     "output_type": "stream",
     "text": [
      "\n"
     ]
    }
   ],
   "source": [
    "train_models = True  # Set to True to train models\n",
    "if train_models:\n",
    "\n",
    "    # Total iterations for the progress bar\n",
    "    total_iterations = len(base_models) * len(vectorizers)\n",
    "    progress_bar = tqdm(total=total_iterations, desc=\"Overall Progress\")\n",
    "\n",
    "    results = []\n",
    "\n",
    "    # Test each model with the two types of vectorization\n",
    "    all_training_start_time = time.time()\n",
    "    for model_name, base_model in base_models.items():\n",
    "        for vectorizer_name, (vectorizer, X_train_vec, X_test_vec, y_train_vec, y_test_vec) in vectorizers.items():\n",
    "            print(f\"\\n{'='*80}\")\n",
    "            print(f\"Starting training for {model_name} with {vectorizer_name}...\")\n",
    "\n",
    "            # Start MLflow run\n",
    "            with mlflow.start_run(run_name=f\"Basic_Model_{model_name}_{vectorizer_name}\"):\n",
    "                # Log parameters\n",
    "                mlflow.log_param(\"model_type\", model_name)\n",
    "                mlflow.log_param(\"vectorizer_type\", vectorizer_name)\n",
    "                mlflow.log_param(\"dataset_size\", X_train_shape[0] + X_test_shape[0])\n",
    "                mlflow.log_param(\"train_size\", X_train_shape[0])\n",
    "                mlflow.log_param(\"test_size\", X_test_shape[0])\n",
    "                mlflow.log_param(\"max_features\", 10000)\n",
    "                mlflow.log_param(\"ngram_range\", \"(1, 2)\")\n",
    "\n",
    "                # Initialize the timer\n",
    "                start_time = time.time()\n",
    "\n",
    "                # Train the model\n",
    "                base_model.fit(X_train_vec, y_train_vec)\n",
    "\n",
    "                # Training time\n",
    "                training_time = time.time() - start_time\n",
    "\n",
    "                # Log the training time\n",
    "                mlflow.log_metric(\"training_time\", training_time)\n",
    "\n",
    "                # Evaluate the best model on the test set\n",
    "                acc, prec, rec, specificity, roc_auc, fig_cm, fig_roc, y_pred = evaluate_model(\n",
    "                    base_model, X_test_vec, y_test_vec, model_name, vectorizer_name\n",
    "                )\n",
    "\n",
    "                # Log metrics\n",
    "                mlflow.log_metric(\"accuracy\", acc)\n",
    "                mlflow.log_metric(\"precision\", prec)\n",
    "                mlflow.log_metric(\"recall\", rec)\n",
    "                mlflow.log_metric(\"specificity\", specificity)\n",
    "                mlflow.log_metric(\"roc_auc\", roc_auc)\n",
    "\n",
    "                # Log confusion matrix and ROC curve figures\n",
    "                mlflow.log_figure(fig_cm, \"confusion_matrix.png\")\n",
    "                mlflow.log_figure(fig_roc, \"roc_curve.png\")\n",
    "                plt.close(fig_cm)\n",
    "                plt.close(fig_roc)\n",
    "\n",
    "                # Log the model\n",
    "                signature = infer_signature(X_train_vec, y_pred)\n",
    "                mlflow.sklearn.log_model(base_model, \"model\", signature=signature)\n",
    "\n",
    "                # Save the model artifacts into a specific directory\n",
    "                os.makedirs(\"./content/basic-model\", exist_ok=True)\n",
    "\n",
    "                # Save and log the vectorizer\n",
    "                vectorizer_path = f\"./content/basic-model/vectorizer_{vectorizer_name}.pkl\"\n",
    "                with open(vectorizer_path, \"wb\") as f:\n",
    "                    pickle.dump(vectorizer, f)\n",
    "                mlflow.log_artifact(vectorizer_path)\n",
    "\n",
    "                # Save the results in a list\n",
    "                results.append({\n",
    "                    \"Model\": model_name.replace(\"_\", \" \"),\n",
    "                    \"Vectorization\": vectorizer_name,\n",
    "                    \"Accuracy\": acc,\n",
    "                    \"Precision\": prec,\n",
    "                    \"Recall\": rec,\n",
    "                    \"ROC AUC\": roc_auc,\n",
    "                    \"Training time (s)\": training_time\n",
    "                })\n",
    "\n",
    "                # Display the results\n",
    "                print(f\"Accuracy: {acc:.4f}\")\n",
    "                print(f\"Specificity: {specificity:.4f}\")\n",
    "                print(f\"ROC AUC test: {roc_auc:.4f}\")\n",
    "                print(f\"Training time: {training_time:.2f} secondes\")\n",
    "\n",
    "\n",
    "            # Update the progress bar\n",
    "            progress_bar.update(1)\n",
    "            progress_bar.set_description(f\"Last model: {model_name} with {vectorizer_name}\")\n",
    "\n",
    "    progress_bar.close()\n",
    "    all_training_time = time.time() - all_training_start_time\n",
    "    # Print total time in minutes\n",
    "    print(f\"\\nTotal training time for all models: {all_training_time / 60:.2f} minutes\")"
   ]
  },
  {
   "cell_type": "markdown",
   "metadata": {},
   "source": [
    "## Evaluation"
   ]
  },
  {
   "cell_type": "code",
   "execution_count": 19,
   "metadata": {},
   "outputs": [],
   "source": [
    "# Get mlflow results\n",
    "def get_mlflow_results(experiment_name:str =\"P7-Sentiments_Analysis\", run_name: str = \"Basic_Model\", uri: str = None):\n",
    "    \"\"\"\n",
    "    Retrieves the results of the MLflow runs for the basic models.\n",
    "    Args:\n",
    "        experiment_name (str): The name of the MLflow experiment to search in.\n",
    "        run_name (str): The name of the runs to filter by.\n",
    "        uri (str): Optional; the URI of the MLflow tracking server. If None, uses the default tracking URI.\n",
    "    Returns:\n",
    "        pd.DataFrame: A DataFrame containing the results of the MLflow runs.\n",
    "    \"\"\"\n",
    "    # Connect to the MLflow tracking server\n",
    "    if uri:\n",
    "        mlflow.set_tracking_uri(uri)\n",
    "\n",
    "    # Create mlflow client\n",
    "    client = MlflowClient()\n",
    "\n",
    "    # Get the experiment ID by name\n",
    "    try:\n",
    "        experiment = client.get_experiment_by_name(experiment_name)\n",
    "        if not experiment:\n",
    "            raise ValueError(f\"Experiment '{experiment_name}' not found.\")\n",
    "        experiment_id = experiment.experiment_id\n",
    "    except Exception as e:\n",
    "        print(f\"Error retrieving experiment '{experiment_name}': {experiment}\")\n",
    "        return pd.DataFrame()\n",
    "\n",
    "    # Load the MLflow runs\n",
    "    runs = client.search_runs(experiment_ids=[experiment_id],\n",
    "                            filter_string=f\"tags.mlflow.runName LIKE '%{run_name}%'\",\n",
    "                            order_by=[\"metrics.specificity DESC\"])\n",
    "\n",
    "    # Store results in a list\n",
    "    results = []\n",
    "\n",
    "    for run in runs:\n",
    "        # Get run name\n",
    "        run_name = run.data.tags.get(\"mlflow.runName\", \"\")\n",
    "\n",
    "        # Get model type and vectorization type\n",
    "        model_type = run.data.params.get(\"model_type\", \"\")\n",
    "        vectorization_type = run.data.params.get(\"vectorizer_type\", \"\")\n",
    "\n",
    "        # Rename model\n",
    "        model_type = model_type.replace(\"_\", \" \")\n",
    "\n",
    "        # Get metrics\n",
    "        metrics = run.data.metrics\n",
    "\n",
    "        results.append({\n",
    "            \"Run Name\": run_name,\n",
    "            \"Model\": model_type,\n",
    "            \"Vectorization\": vectorization_type,\n",
    "            \"Accuracy\": metrics.get(\"accuracy\", None),\n",
    "            \"Precision\": metrics.get(\"precision\", None),\n",
    "            \"Recall\": metrics.get(\"recall\", None),\n",
    "            \"Specificity\": metrics.get(\"specificity\", None),\n",
    "            \"ROC AUC\": metrics.get(\"roc_auc\", None),\n",
    "            \"Training Time (s)\": metrics.get(\"training_time\", None)\n",
    "        })\n",
    "\n",
    "    results_df = pd.DataFrame(results)\n",
    "    if not results_df.empty and \"Specificity\" in results_df.columns:\n",
    "        results_df = results_df.sort_values(by=[\"Accuracy\",\"Specificity\"], ascending=False)\n",
    "        results_df.reset_index(drop=True, inplace=True)\n",
    "\n",
    "    return results_df"
   ]
  },
  {
   "cell_type": "code",
   "execution_count": 20,
   "metadata": {},
   "outputs": [],
   "source": [
    "results_df = get_mlflow_results(experiment_name=\"P7-Sentiments_Analysis\", run_name=\"Basic_Model_\", uri=tracking_uri)"
   ]
  },
  {
   "cell_type": "code",
   "execution_count": 21,
   "metadata": {},
   "outputs": [
    {
     "data": {
      "text/html": [
       "<div>\n",
       "<style scoped>\n",
       "    .dataframe tbody tr th:only-of-type {\n",
       "        vertical-align: middle;\n",
       "    }\n",
       "\n",
       "    .dataframe tbody tr th {\n",
       "        vertical-align: top;\n",
       "    }\n",
       "\n",
       "    .dataframe thead th {\n",
       "        text-align: right;\n",
       "    }\n",
       "</style>\n",
       "<table border=\"1\" class=\"dataframe\">\n",
       "  <thead>\n",
       "    <tr style=\"text-align: right;\">\n",
       "      <th></th>\n",
       "      <th>Run Name</th>\n",
       "      <th>Model</th>\n",
       "      <th>Vectorization</th>\n",
       "      <th>Accuracy</th>\n",
       "      <th>Precision</th>\n",
       "      <th>Recall</th>\n",
       "      <th>Specificity</th>\n",
       "      <th>ROC AUC</th>\n",
       "      <th>Training Time (s)</th>\n",
       "    </tr>\n",
       "  </thead>\n",
       "  <tbody>\n",
       "    <tr>\n",
       "      <th>0</th>\n",
       "      <td>Basic_Model_Logistic_Regression_TF-IDF_stem</td>\n",
       "      <td>Logistic Regression</td>\n",
       "      <td>TF-IDF_stem</td>\n",
       "      <td>0.7725</td>\n",
       "      <td>0.772664</td>\n",
       "      <td>0.7722</td>\n",
       "      <td>0.7728</td>\n",
       "      <td>0.854592</td>\n",
       "      <td>5.448363</td>\n",
       "    </tr>\n",
       "    <tr>\n",
       "      <th>1</th>\n",
       "      <td>Basic_Model_Logistic_Regression_TF-IDF_lem</td>\n",
       "      <td>Logistic Regression</td>\n",
       "      <td>TF-IDF_lem</td>\n",
       "      <td>0.7718</td>\n",
       "      <td>0.769109</td>\n",
       "      <td>0.7768</td>\n",
       "      <td>0.7668</td>\n",
       "      <td>0.853518</td>\n",
       "      <td>6.014876</td>\n",
       "    </tr>\n",
       "    <tr>\n",
       "      <th>2</th>\n",
       "      <td>Basic_Model_Logistic_Regression_BoW_stem</td>\n",
       "      <td>Logistic Regression</td>\n",
       "      <td>BoW_stem</td>\n",
       "      <td>0.7688</td>\n",
       "      <td>0.764255</td>\n",
       "      <td>0.7774</td>\n",
       "      <td>0.7602</td>\n",
       "      <td>0.839931</td>\n",
       "      <td>5.549669</td>\n",
       "    </tr>\n",
       "    <tr>\n",
       "      <th>3</th>\n",
       "      <td>Basic_Model_Logistic_Regression_BoW_lem</td>\n",
       "      <td>Logistic Regression</td>\n",
       "      <td>BoW_lem</td>\n",
       "      <td>0.7663</td>\n",
       "      <td>0.761130</td>\n",
       "      <td>0.7762</td>\n",
       "      <td>0.7564</td>\n",
       "      <td>0.840605</td>\n",
       "      <td>5.137677</td>\n",
       "    </tr>\n",
       "    <tr>\n",
       "      <th>4</th>\n",
       "      <td>Basic_Model_SVM_Lineaire_TF-IDF_lem</td>\n",
       "      <td>SVM Lineaire</td>\n",
       "      <td>TF-IDF_lem</td>\n",
       "      <td>0.7618</td>\n",
       "      <td>0.760342</td>\n",
       "      <td>0.7646</td>\n",
       "      <td>0.7590</td>\n",
       "      <td>0.838916</td>\n",
       "      <td>5.133362</td>\n",
       "    </tr>\n",
       "    <tr>\n",
       "      <th>5</th>\n",
       "      <td>Basic_Model_Naive_Bayes_BoW_lem</td>\n",
       "      <td>Naive Bayes</td>\n",
       "      <td>BoW_lem</td>\n",
       "      <td>0.7609</td>\n",
       "      <td>0.768471</td>\n",
       "      <td>0.7468</td>\n",
       "      <td>0.7750</td>\n",
       "      <td>0.834559</td>\n",
       "      <td>5.002179</td>\n",
       "    </tr>\n",
       "    <tr>\n",
       "      <th>6</th>\n",
       "      <td>Basic_Model_Naive_Bayes_BoW_stem</td>\n",
       "      <td>Naive Bayes</td>\n",
       "      <td>BoW_stem</td>\n",
       "      <td>0.7602</td>\n",
       "      <td>0.768358</td>\n",
       "      <td>0.7450</td>\n",
       "      <td>0.7754</td>\n",
       "      <td>0.835599</td>\n",
       "      <td>5.017189</td>\n",
       "    </tr>\n",
       "    <tr>\n",
       "      <th>7</th>\n",
       "      <td>Basic_Model_SVM_Lineaire_TF-IDF_stem</td>\n",
       "      <td>SVM Lineaire</td>\n",
       "      <td>TF-IDF_stem</td>\n",
       "      <td>0.7602</td>\n",
       "      <td>0.758957</td>\n",
       "      <td>0.7626</td>\n",
       "      <td>0.7578</td>\n",
       "      <td>0.838666</td>\n",
       "      <td>5.702249</td>\n",
       "    </tr>\n",
       "    <tr>\n",
       "      <th>8</th>\n",
       "      <td>Basic_Model_Naive_Bayes_TF-IDF_lem</td>\n",
       "      <td>Naive Bayes</td>\n",
       "      <td>TF-IDF_lem</td>\n",
       "      <td>0.7597</td>\n",
       "      <td>0.768341</td>\n",
       "      <td>0.7436</td>\n",
       "      <td>0.7758</td>\n",
       "      <td>0.842707</td>\n",
       "      <td>5.061330</td>\n",
       "    </tr>\n",
       "    <tr>\n",
       "      <th>9</th>\n",
       "      <td>Basic_Model_Naive_Bayes_TF-IDF_stem</td>\n",
       "      <td>Naive Bayes</td>\n",
       "      <td>TF-IDF_stem</td>\n",
       "      <td>0.7579</td>\n",
       "      <td>0.768366</td>\n",
       "      <td>0.7384</td>\n",
       "      <td>0.7774</td>\n",
       "      <td>0.843038</td>\n",
       "      <td>4.723792</td>\n",
       "    </tr>\n",
       "    <tr>\n",
       "      <th>10</th>\n",
       "      <td>Basic_Model_Random_Forest_TF-IDF_stem</td>\n",
       "      <td>Random Forest</td>\n",
       "      <td>TF-IDF_stem</td>\n",
       "      <td>0.7522</td>\n",
       "      <td>0.755470</td>\n",
       "      <td>0.7458</td>\n",
       "      <td>0.7586</td>\n",
       "      <td>0.831714</td>\n",
       "      <td>248.806239</td>\n",
       "    </tr>\n",
       "    <tr>\n",
       "      <th>11</th>\n",
       "      <td>Basic_Model_Random_Forest_TF-IDF_lem</td>\n",
       "      <td>Random Forest</td>\n",
       "      <td>TF-IDF_lem</td>\n",
       "      <td>0.7503</td>\n",
       "      <td>0.750751</td>\n",
       "      <td>0.7494</td>\n",
       "      <td>0.7512</td>\n",
       "      <td>0.827704</td>\n",
       "      <td>248.485728</td>\n",
       "    </tr>\n",
       "    <tr>\n",
       "      <th>12</th>\n",
       "      <td>Basic_Model_Random_Forest_BoW_stem</td>\n",
       "      <td>Random Forest</td>\n",
       "      <td>BoW_stem</td>\n",
       "      <td>0.7498</td>\n",
       "      <td>0.760425</td>\n",
       "      <td>0.7294</td>\n",
       "      <td>0.7702</td>\n",
       "      <td>0.828547</td>\n",
       "      <td>249.314657</td>\n",
       "    </tr>\n",
       "    <tr>\n",
       "      <th>13</th>\n",
       "      <td>Basic_Model_SVM_Lineaire_BoW_lem</td>\n",
       "      <td>SVM Lineaire</td>\n",
       "      <td>BoW_lem</td>\n",
       "      <td>0.7493</td>\n",
       "      <td>0.745422</td>\n",
       "      <td>0.7572</td>\n",
       "      <td>0.7414</td>\n",
       "      <td>0.814343</td>\n",
       "      <td>5.551873</td>\n",
       "    </tr>\n",
       "    <tr>\n",
       "      <th>14</th>\n",
       "      <td>Basic_Model_Random_Forest_BoW_lem</td>\n",
       "      <td>Random Forest</td>\n",
       "      <td>BoW_lem</td>\n",
       "      <td>0.7477</td>\n",
       "      <td>0.754364</td>\n",
       "      <td>0.7346</td>\n",
       "      <td>0.7608</td>\n",
       "      <td>0.825451</td>\n",
       "      <td>247.985226</td>\n",
       "    </tr>\n",
       "    <tr>\n",
       "      <th>15</th>\n",
       "      <td>Basic_Model_SVM_Lineaire_BoW_stem</td>\n",
       "      <td>SVM Lineaire</td>\n",
       "      <td>BoW_stem</td>\n",
       "      <td>0.7424</td>\n",
       "      <td>0.739242</td>\n",
       "      <td>0.7490</td>\n",
       "      <td>0.7358</td>\n",
       "      <td>0.809179</td>\n",
       "      <td>5.124442</td>\n",
       "    </tr>\n",
       "  </tbody>\n",
       "</table>\n",
       "</div>"
      ],
      "text/plain": [
       "                                       Run Name                Model  \\\n",
       "0   Basic_Model_Logistic_Regression_TF-IDF_stem  Logistic Regression   \n",
       "1    Basic_Model_Logistic_Regression_TF-IDF_lem  Logistic Regression   \n",
       "2      Basic_Model_Logistic_Regression_BoW_stem  Logistic Regression   \n",
       "3       Basic_Model_Logistic_Regression_BoW_lem  Logistic Regression   \n",
       "4           Basic_Model_SVM_Lineaire_TF-IDF_lem         SVM Lineaire   \n",
       "5               Basic_Model_Naive_Bayes_BoW_lem          Naive Bayes   \n",
       "6              Basic_Model_Naive_Bayes_BoW_stem          Naive Bayes   \n",
       "7          Basic_Model_SVM_Lineaire_TF-IDF_stem         SVM Lineaire   \n",
       "8            Basic_Model_Naive_Bayes_TF-IDF_lem          Naive Bayes   \n",
       "9           Basic_Model_Naive_Bayes_TF-IDF_stem          Naive Bayes   \n",
       "10        Basic_Model_Random_Forest_TF-IDF_stem        Random Forest   \n",
       "11         Basic_Model_Random_Forest_TF-IDF_lem        Random Forest   \n",
       "12           Basic_Model_Random_Forest_BoW_stem        Random Forest   \n",
       "13             Basic_Model_SVM_Lineaire_BoW_lem         SVM Lineaire   \n",
       "14            Basic_Model_Random_Forest_BoW_lem        Random Forest   \n",
       "15            Basic_Model_SVM_Lineaire_BoW_stem         SVM Lineaire   \n",
       "\n",
       "   Vectorization  Accuracy  Precision  Recall  Specificity   ROC AUC  \\\n",
       "0    TF-IDF_stem    0.7725   0.772664  0.7722       0.7728  0.854592   \n",
       "1     TF-IDF_lem    0.7718   0.769109  0.7768       0.7668  0.853518   \n",
       "2       BoW_stem    0.7688   0.764255  0.7774       0.7602  0.839931   \n",
       "3        BoW_lem    0.7663   0.761130  0.7762       0.7564  0.840605   \n",
       "4     TF-IDF_lem    0.7618   0.760342  0.7646       0.7590  0.838916   \n",
       "5        BoW_lem    0.7609   0.768471  0.7468       0.7750  0.834559   \n",
       "6       BoW_stem    0.7602   0.768358  0.7450       0.7754  0.835599   \n",
       "7    TF-IDF_stem    0.7602   0.758957  0.7626       0.7578  0.838666   \n",
       "8     TF-IDF_lem    0.7597   0.768341  0.7436       0.7758  0.842707   \n",
       "9    TF-IDF_stem    0.7579   0.768366  0.7384       0.7774  0.843038   \n",
       "10   TF-IDF_stem    0.7522   0.755470  0.7458       0.7586  0.831714   \n",
       "11    TF-IDF_lem    0.7503   0.750751  0.7494       0.7512  0.827704   \n",
       "12      BoW_stem    0.7498   0.760425  0.7294       0.7702  0.828547   \n",
       "13       BoW_lem    0.7493   0.745422  0.7572       0.7414  0.814343   \n",
       "14       BoW_lem    0.7477   0.754364  0.7346       0.7608  0.825451   \n",
       "15      BoW_stem    0.7424   0.739242  0.7490       0.7358  0.809179   \n",
       "\n",
       "    Training Time (s)  \n",
       "0            5.448363  \n",
       "1            6.014876  \n",
       "2            5.549669  \n",
       "3            5.137677  \n",
       "4            5.133362  \n",
       "5            5.002179  \n",
       "6            5.017189  \n",
       "7            5.702249  \n",
       "8            5.061330  \n",
       "9            4.723792  \n",
       "10         248.806239  \n",
       "11         248.485728  \n",
       "12         249.314657  \n",
       "13           5.551873  \n",
       "14         247.985226  \n",
       "15           5.124442  "
      ]
     },
     "metadata": {},
     "output_type": "display_data"
    }
   ],
   "source": [
    "display(results_df)"
   ]
  },
  {
   "cell_type": "code",
   "execution_count": 23,
   "metadata": {},
   "outputs": [
    {
     "data": {
      "image/png": "[encoded data removed]",
      "text/plain": [
       "<Figure size 2000x2800 with 6 Axes>"
      ]
     },
     "metadata": {},
     "output_type": "display_data"
    }
   ],
   "source": [
    "# Convert metric columns back to numeric for plotting\n",
    "metric_cols = [\"Accuracy\", \"Precision\", \"Recall\", \"Specificity\", \"ROC AUC\", \"Training Time (s)\"]\n",
    "for col in metric_cols:\n",
    "    results_df[col] = pd.to_numeric(results_df[col], errors='coerce')\n",
    "\n",
    "# Define the metrics to plot\n",
    "metrics_to_plot = [\n",
    "    \"Accuracy\", \"Precision\", \"Recall\", \"Specificity\", \"ROC AUC\", \"Training Time (s)\"\n",
    "]\n",
    "\n",
    "# Create subplots\n",
    "fig, axes = plt.subplots(nrows=3, ncols=2, figsize=(20, 28))\n",
    "axes = axes.flatten()\n",
    "\n",
    "for i, metric in enumerate(metrics_to_plot):\n",
    "    sns.barplot(data=results_df, x='Model', y=metric, hue='Vectorization', ax=axes[i], palette='viridis')\n",
    "    axes[i].set_title(f'Model Comparison by {metric}', fontsize=14)\n",
    "    axes[i].set_xlabel('Model', fontsize=12)\n",
    "    axes[i].set_ylabel(metric, fontsize=12)\n",
    "    axes[i].tick_params(axis='x', rotation=45, labelsize=10)\n",
    "    axes[i].legend(title='Vectorizer')\n",
    "\n",
    "# Adjust layout to prevent overlap and add a main title\n",
    "fig.suptitle('Model Performance Metrics by Vectorizer', fontsize=20, y=1.03)\n",
    "plt.tight_layout()\n",
    "plt.show()"
   ]
  },
  {
   "cell_type": "code",
   "execution_count": 25,
   "metadata": {},
   "outputs": [
    {
     "name": "stderr",
     "output_type": "stream",
     "text": [
      "2025/09/05 16:18:56 INFO mlflow.utils.autologging_utils: Created MLflow autologging run with ID 'fdc3c2ddd27f4f248332b2f383abca3f', which will track hyperparameters, performance metrics, model artifacts, and lineage information for the current sklearn workflow\n"
     ]
    },
    {
     "name": "stdout",
     "output_type": "stream",
     "text": [
      "Best model: Logistic_Regression with TF-IDF_stem\n",
      "Best SVM model: SVM_Lineaire with TF-IDF_lem\n",
      "\n",
      "Performing GridSearchCV for the best model: Logistic_Regression with TF-IDF_stem\n"
     ]
    },
    {
     "name": "stderr",
     "output_type": "stream",
     "text": [
      "2025/09/05 16:18:58 WARNING mlflow.sklearn: Failed to log training dataset information to MLflow Tracking. Reason: 'Series' object has no attribute 'flatten'\n"
     ]
    },
    {
     "name": "stdout",
     "output_type": "stream",
     "text": [
      "Fitting 5 folds for each of 8 candidates, totalling 40 fits\n"
     ]
    },
    {
     "name": "stderr",
     "output_type": "stream",
     "text": [
      "2025/09/05 16:19:07 INFO mlflow.sklearn.utils: Logging the 5 best runs, 3 runs will be omitted.\n",
      "2025/09/05 16:19:07 WARNING mlflow.sklearn: Encountered exception during creation of child runs for parameter search. Child runs may be missing. Exception: 'NoneType' object has no attribute '_to_mlflow_entity'\n",
      "2025/09/05 16:19:07 WARNING mlflow.sklearn: Encountered exception during creation of child runs for parameter search. Child runs may be missing. Exception: 'NoneType' object has no attribute '_to_mlflow_entity'\n"
     ]
    },
    {
     "name": "stdout",
     "output_type": "stream",
     "text": [
      "🏃 View run whimsical-mare-783 at: http://localhost:8080/#/experiments/474291672324820532/runs/fdc3c2ddd27f4f248332b2f383abca3f\n",
      "🧪 View experiment at: http://localhost:8080/#/experiments/474291672324820532\n",
      "Best hyperparameters for Logistic_Regression: {'C': 1.0, 'max_iter': 1000, 'solver': 'liblinear'}\n",
      "Best cross-validation score for Logistic_Regression: 0.7751\n",
      "\n",
      "Results for Tuned_Logistic_Regression with TF-IDF_stem:\n",
      "Accuracy: 0.7724\n",
      "Precision: 0.7722\n",
      "Recall: 0.7728\n",
      "Specificity: 0.7720\n",
      "ROC AUC: 0.8546\n",
      "\n",
      "Confusion matrix:\n",
      "[[3860 1140]\n",
      " [1136 3864]]\n",
      "\n",
      "Classificatin report:\n",
      "              precision    recall  f1-score   support\n",
      "\n",
      "           0       0.77      0.77      0.77      5000\n",
      "           1       0.77      0.77      0.77      5000\n",
      "\n",
      "    accuracy                           0.77     10000\n",
      "   macro avg       0.77      0.77      0.77     10000\n",
      "weighted avg       0.77      0.77      0.77     10000\n",
      "\n"
     ]
    },
    {
     "name": "stderr",
     "output_type": "stream",
     "text": [
      "2025/09/05 16:19:07 WARNING mlflow.models.model: `artifact_path` is deprecated. Please use `name` instead.\n",
      "2025/09/05 16:19:09 INFO mlflow.utils.autologging_utils: Created MLflow autologging run with ID '67faa832c8e64fa381b34a7e43f53a5c', which will track hyperparameters, performance metrics, model artifacts, and lineage information for the current sklearn workflow\n",
      "2025/09/05 16:19:09 INFO mlflow.utils.autologging_utils: Created MLflow autologging run with ID '67faa832c8e64fa381b34a7e43f53a5c', which will track hyperparameters, performance metrics, model artifacts, and lineage information for the current sklearn workflow\n"
     ]
    },
    {
     "name": "stdout",
     "output_type": "stream",
     "text": [
      "🏃 View run Tuned_Model_Logistic_Regression_TF-IDF_stem at: http://localhost:8080/#/experiments/474291672324820532/runs/0e57d4ce799b4c37af7aa3c8064c56e2\n",
      "🧪 View experiment at: http://localhost:8080/#/experiments/474291672324820532\n",
      "\n",
      "Performing GridSearchCV for the best SVM model: SVM_Lineaire with TF-IDF_lem\n"
     ]
    },
    {
     "name": "stderr",
     "output_type": "stream",
     "text": [
      "2025/09/05 16:19:11 WARNING mlflow.sklearn: Failed to log training dataset information to MLflow Tracking. Reason: 'Series' object has no attribute 'flatten'\n"
     ]
    },
    {
     "name": "stdout",
     "output_type": "stream",
     "text": [
      "Fitting 5 folds for each of 8 candidates, totalling 40 fits\n"
     ]
    },
    {
     "name": "stderr",
     "output_type": "stream",
     "text": [
      "2025/09/05 16:19:20 INFO mlflow.sklearn.utils: Logging the 5 best runs, 3 runs will be omitted.\n",
      "2025/09/05 16:19:20 WARNING mlflow.sklearn: Encountered exception during creation of child runs for parameter search. Child runs may be missing. Exception: 'NoneType' object has no attribute '_to_mlflow_entity'\n",
      "2025/09/05 16:19:20 WARNING mlflow.sklearn: Encountered exception during creation of child runs for parameter search. Child runs may be missing. Exception: 'NoneType' object has no attribute '_to_mlflow_entity'\n"
     ]
    },
    {
     "name": "stdout",
     "output_type": "stream",
     "text": [
      "🏃 View run bouncy-fish-572 at: http://localhost:8080/#/experiments/474291672324820532/runs/67faa832c8e64fa381b34a7e43f53a5c\n",
      "🧪 View experiment at: http://localhost:8080/#/experiments/474291672324820532\n",
      "Best hyperparameters for SVM_Lineaire: {'C': 0.1, 'dual': True, 'max_iter': 1000}\n",
      "Best cross-validation score for SVM_Lineaire: 0.7724\n",
      "\n",
      "Results for Tuned_SVM_Lineaire with TF-IDF_lem:\n",
      "Accuracy: 0.7724\n",
      "Precision: 0.7692\n",
      "Recall: 0.7784\n",
      "Specificity: 0.7664\n",
      "ROC AUC: 0.8536\n",
      "\n",
      "Confusion matrix:\n",
      "[[3832 1168]\n",
      " [1108 3892]]\n",
      "\n",
      "Classificatin report:\n",
      "              precision    recall  f1-score   support\n",
      "\n",
      "           0       0.78      0.77      0.77      5000\n",
      "           1       0.77      0.78      0.77      5000\n",
      "\n",
      "    accuracy                           0.77     10000\n",
      "   macro avg       0.77      0.77      0.77     10000\n",
      "weighted avg       0.77      0.77      0.77     10000\n",
      "\n"
     ]
    },
    {
     "name": "stderr",
     "output_type": "stream",
     "text": [
      "2025/09/05 16:19:20 WARNING mlflow.models.model: `artifact_path` is deprecated. Please use `name` instead.\n"
     ]
    },
    {
     "name": "stdout",
     "output_type": "stream",
     "text": [
      "🏃 View run Tuned_Model_SVM_Lineaire_TF-IDF_lem at: http://localhost:8080/#/experiments/474291672324820532/runs/b904b859313a4d56b9ee43ea6dd1cf64\n",
      "🧪 View experiment at: http://localhost:8080/#/experiments/474291672324820532\n"
     ]
    }
   ],
   "source": [
    "# Get the best model details\n",
    "best_model_row = results_df.iloc[0]\n",
    "best_model_name = best_model_row['Model'].replace(\" \", \"_\")\n",
    "best_vectorization = best_model_row['Vectorization']\n",
    "\n",
    "# Iterate over results to find the first svm model\n",
    "for index, row in results_df.iterrows():\n",
    "    if \"SVM\" in row['Model']:\n",
    "        best_svm_model_name = row['Model'].replace(\" \", \"_\")\n",
    "        best_svm_vectorization = row['Vectorization']\n",
    "        break\n",
    "\n",
    "print(f\"Best model: {best_model_name} with {best_vectorization}\")\n",
    "print(f\"Best SVM model: {best_svm_model_name} with {best_svm_vectorization}\")\n",
    "\n",
    "# Get hypeparameters for the best model and the svm model from the param_grids\n",
    "best_model_params = param_grids.get(best_model_name, {})\n",
    "best_svm_model_params = param_grids.get(best_svm_model_name, {})\n",
    "\n",
    "# GridSearchCV for hyperparameter tuning\n",
    "def perform_grid_search(model, param_grid, X_train, y_train, cv=5, scoring='accuracy'):\n",
    "    \"\"\"\n",
    "    Performs GridSearchCV to find the best hyperparameters for a given model.\n",
    "\n",
    "    Args:\n",
    "        model: The machine learning model to tune.\n",
    "        param_grid (dict): The hyperparameter grid to search.\n",
    "        X_train: The training features.\n",
    "        y_train: The training labels.\n",
    "        cv (int): Number of cross-validation folds.\n",
    "        scoring (str): Scoring metric for evaluation.\n",
    "\n",
    "    Returns:\n",
    "        best_model: The model with the best found hyperparameters.\n",
    "        best_params: The best hyperparameters found.\n",
    "        best_score: The best cross-validation score achieved.\n",
    "    \"\"\"\n",
    "    grid_search = GridSearchCV(estimator=model,\n",
    "                               param_grid=param_grid,\n",
    "                               scoring=scoring,\n",
    "                               cv=cv,\n",
    "                               n_jobs=-1,\n",
    "                               verbose=1)\n",
    "\n",
    "    grid_search.fit(X_train, y_train)\n",
    "\n",
    "    best_model = grid_search.best_estimator_\n",
    "    best_params = grid_search.best_params_\n",
    "    best_score = grid_search.best_score_\n",
    "\n",
    "    return best_model, best_params, best_score\n",
    "\n",
    "\n",
    "# Get the vectorizer and data for the best model\n",
    "vectorizer, X_train_best, X_test_best, y_train_best, y_test_best = vectorizers[best_vectorization]\n",
    "vectorizer_svm, X_train_svm, X_test_svm, y_train_svm, y_test_svm = vectorizers[best_svm_vectorization]\n",
    "# Perform GridSearchCV for the best model\n",
    "if best_model_params:\n",
    "    print(f\"\\nPerforming GridSearchCV for the best model: {best_model_name} with {best_vectorization}\")\n",
    "    base_model_best = base_models[best_model_name]\n",
    "    best_model, best_params, best_score = perform_grid_search(base_model_best, best_model_params, X_train_best, y_train_best)\n",
    "\n",
    "    print(f\"Best hyperparameters for {best_model_name}: {best_params}\")\n",
    "    print(f\"Best cross-validation score for {best_model_name}: {best_score:.4f}\")\n",
    "\n",
    "    # Evaluate the tuned best model\n",
    "    acc, prec, rec, specificity, roc_auc, fig_cm, fig_roc, y_pred = evaluate_model(\n",
    "        best_model, X_test_best, y_test_best, f\"Tuned_{best_model_name}\", best_vectorization\n",
    "    )\n",
    "\n",
    "    # Log the tuned best model to MLflow\n",
    "    with mlflow.start_run(run_name=f\"Tuned_Model_{best_model_name}_{best_vectorization}\"):\n",
    "        # Log parameters\n",
    "        mlflow.log_param(\"model_type\", best_model_name)\n",
    "        mlflow.log_param(\"vectorizer_type\", best_vectorization)\n",
    "        for param, value in best_params.items():\n",
    "            mlflow.log_param(param, value)\n",
    "        mlflow.log_param(\"dataset_size\", X_train_shape[0] + X_test_shape[0])\n",
    "        mlflow.log_param(\"train_size\", X_train_shape[0])\n",
    "        mlflow.log_param(\"test_size\", X_test_shape[0])\n",
    "        mlflow.log_param(\"max_features\", 10000)\n",
    "        mlflow.log_param(\"ngram_range\", \"(1, 2)\")\n",
    "\n",
    "        # Log metrics\n",
    "        mlflow.log_metric(\"accuracy\", acc)\n",
    "        mlflow.log_metric(\"precision\", prec)\n",
    "        mlflow.log_metric(\"recall\", rec)\n",
    "        mlflow.log_metric(\"specificity\", specificity)\n",
    "        mlflow.log_metric(\"roc_auc\", roc_auc)\n",
    "\n",
    "        # Log confusion matrix and ROC curve figures\n",
    "        mlflow.log_figure(fig_cm, \"confusion_matrix.png\")\n",
    "        mlflow.log_figure(fig_roc, \"roc_curve.png\")\n",
    "        plt.close(fig_cm)\n",
    "        plt.close(fig_roc)\n",
    "\n",
    "        # Log the model\n",
    "        signature = infer_signature(X_train_best, y_pred)\n",
    "        mlflow.sklearn.log_model(best_model, \"model\", signature=signature)\n",
    "\n",
    "        # Save the model artifacts into a specific directory\n",
    "        os.makedirs(\"./content/tuned-model\", exist_ok=True)\n",
    "\n",
    "        # Save and log the vectorizer\n",
    "        vectorizer_path = f\"./content/tuned-model/vectorizer_{best_vectorization}.pkl\"\n",
    "        with open(vectorizer_path, \"wb\") as f:\n",
    "            pickle.dump(vectorizer, f)\n",
    "        mlflow.log_artifact(vectorizer_path)\n",
    "\n",
    "# Perform GridSearchCV for the best SVM model\n",
    "if best_svm_model_params:\n",
    "    print(f\"\\nPerforming GridSearchCV for the best SVM model: {best_svm_model_name} with {best_svm_vectorization}\")\n",
    "    base_model_svm = base_models[best_svm_model_name]\n",
    "    best_svm_model, best_svm_params, best_svm_score = perform_grid_search(base_model_svm, best_svm_model_params, X_train_svm, y_train_svm)\n",
    "\n",
    "    print(f\"Best hyperparameters for {best_svm_model_name}: {best_svm_params}\")\n",
    "    print(f\"Best cross-validation score for {best_svm_model_name}: {best_svm_score:.4f}\")\n",
    "\n",
    "    # Evaluate the tuned best SVM model\n",
    "    acc, prec, rec, specificity, roc_auc, fig_cm, fig_roc, y_pred = evaluate_model(\n",
    "        best_svm_model, X_test_svm, y_test_svm, f\"Tuned_{best_svm_model_name}\", best_svm_vectorization\n",
    "    )\n",
    "\n",
    "    # Log the tuned best SVM model to MLflow\n",
    "    with mlflow.start_run(run_name=f\"Tuned_Model_{best_svm_model_name}_{best_svm_vectorization}\"):\n",
    "        # Log parameters\n",
    "        mlflow.log_param(\"model_type\", best_svm_model_name)\n",
    "        mlflow.log_param(\"vectorizer_type\", best_svm_vectorization)\n",
    "        for param, value in best_svm_params.items():\n",
    "            mlflow.log_param(param, value)\n",
    "        mlflow.log_param(\"dataset_size\", X_train_shape[0] + X_test_shape[0])\n",
    "        mlflow.log_param(\"train_size\", X_train_shape[0])\n",
    "        mlflow.log_param(\"test_size\", X_test_shape[0])\n",
    "        mlflow.log_param(\"max_features\", 10000)\n",
    "        mlflow.log_param(\"ngram_range\", \"(1, 2)\")\n",
    "\n",
    "        # Log metrics\n",
    "        mlflow.log_metric(\"accuracy\", acc)\n",
    "        mlflow.log_metric(\"precision\", prec)\n",
    "        mlflow.log_metric(\"recall\", rec)\n",
    "        mlflow.log_metric(\"specificity\", specificity)\n",
    "        mlflow.log_metric(\"roc_auc\", roc_auc)\n",
    "\n",
    "        # Log confusion matrix and ROC curve figures\n",
    "        mlflow.log_figure(fig_cm, \"confusion_matrix.png\")\n",
    "        mlflow.log_figure(fig_roc, \"roc_curve.png\")\n",
    "        plt.close(fig_cm)\n",
    "        plt.close(fig_roc)\n",
    "\n",
    "        # Log the model\n",
    "        signature = infer_signature(X_train_svm, y_pred)\n",
    "        mlflow.sklearn.log_model(best_svm_model, \"model\", signature=signature)\n",
    "        # Save the model artifacts into a specific directory\n",
    "        os.makedirs(\"./content/tuned-model\", exist_ok=True)\n",
    "        # Save and log the vectorizer\n",
    "        vectorizer_path = f\"./content/tuned-model/vectorizer_{best_svm_vectorization}.pkl\"\n",
    "        with open(vectorizer_path, \"wb\") as f:\n",
    "            pickle.dump(vectorizer_svm, f)\n",
    "        mlflow.log_artifact(vectorizer_path)\n"
   ]
  },
  {
   "cell_type": "code",
   "execution_count": 26,
   "metadata": {},
   "outputs": [
    {
     "data": {
      "text/html": [
       "<div>\n",
       "<style scoped>\n",
       "    .dataframe tbody tr th:only-of-type {\n",
       "        vertical-align: middle;\n",
       "    }\n",
       "\n",
       "    .dataframe tbody tr th {\n",
       "        vertical-align: top;\n",
       "    }\n",
       "\n",
       "    .dataframe thead th {\n",
       "        text-align: right;\n",
       "    }\n",
       "</style>\n",
       "<table border=\"1\" class=\"dataframe\">\n",
       "  <thead>\n",
       "    <tr style=\"text-align: right;\">\n",
       "      <th></th>\n",
       "      <th>Run Name</th>\n",
       "      <th>Model</th>\n",
       "      <th>Vectorization</th>\n",
       "      <th>Accuracy</th>\n",
       "      <th>Precision</th>\n",
       "      <th>Recall</th>\n",
       "      <th>Specificity</th>\n",
       "      <th>ROC AUC</th>\n",
       "      <th>Training Time (s)</th>\n",
       "    </tr>\n",
       "  </thead>\n",
       "  <tbody>\n",
       "    <tr>\n",
       "      <th>0</th>\n",
       "      <td>Tuned_Model_Logistic_Regression_TF-IDF_stem</td>\n",
       "      <td>Logistic Regression</td>\n",
       "      <td>TF-IDF_stem</td>\n",
       "      <td>0.7724</td>\n",
       "      <td>0.772182</td>\n",
       "      <td>0.7728</td>\n",
       "      <td>0.7720</td>\n",
       "      <td>0.854628</td>\n",
       "      <td>None</td>\n",
       "    </tr>\n",
       "    <tr>\n",
       "      <th>1</th>\n",
       "      <td>Tuned_Model_SVM_Lineaire_TF-IDF_lem</td>\n",
       "      <td>SVM Lineaire</td>\n",
       "      <td>TF-IDF_lem</td>\n",
       "      <td>0.7724</td>\n",
       "      <td>0.769170</td>\n",
       "      <td>0.7784</td>\n",
       "      <td>0.7664</td>\n",
       "      <td>0.853643</td>\n",
       "      <td>None</td>\n",
       "    </tr>\n",
       "  </tbody>\n",
       "</table>\n",
       "</div>"
      ],
      "text/plain": [
       "                                      Run Name                Model  \\\n",
       "0  Tuned_Model_Logistic_Regression_TF-IDF_stem  Logistic Regression   \n",
       "1          Tuned_Model_SVM_Lineaire_TF-IDF_lem         SVM Lineaire   \n",
       "\n",
       "  Vectorization  Accuracy  Precision  Recall  Specificity   ROC AUC  \\\n",
       "0   TF-IDF_stem    0.7724   0.772182  0.7728       0.7720  0.854628   \n",
       "1    TF-IDF_lem    0.7724   0.769170  0.7784       0.7664  0.853643   \n",
       "\n",
       "  Training Time (s)  \n",
       "0              None  \n",
       "1              None  "
      ]
     },
     "metadata": {},
     "output_type": "display_data"
    }
   ],
   "source": [
    "tuned_results_df = get_mlflow_results(experiment_name=\"P7-Sentiments_Analysis\", run_name=\"Tuned_Model_\", uri=tracking_uri)\n",
    "display(tuned_results_df)"
   ]
  },
  {
   "cell_type": "markdown",
   "metadata": {},
   "source": [
    "# Save best model"
   ]
  },
  {
   "cell_type": "code",
   "execution_count": null,
   "metadata": {},
   "outputs": [],
   "source": [
    "def load_and_save_model_from_mlflow(experiment_name: str, save_dir: str = \"./content/basic-model/best\", uri: str = None) -> tuple:\n",
    "    \"\"\"\n",
    "    Loads the best model and its vectorizer from MLflow and saves them locally.\n",
    "\n",
    "    Args:\n",
    "        experiment_name (str): The name of the MLflow experiment.\n",
    "        model_name (str): The name of the model to load.\n",
    "        vectorizer_name (str): The name of the vectorizer to load.\n",
    "        save_dir (str): The directory to save the model and vectorizer.\n",
    "        uri (str): Optional; the URI of the MLflow tracking server. If None, uses the default tracking URI.\n",
    "\n",
    "    Returns:\n",
    "        Tuple: The loaded model and vectorizer.\n",
    "    \"\"\"\n",
    "    # Connect to the MLflow tracking server\n",
    "    if uri:\n",
    "        mlflow.set_tracking_uri(uri)\n",
    "\n",
    "    # Create mlflow client\n",
    "    client = MlflowClient()\n",
    "\n",
    "    # Get the experiment ID by name\n",
    "    try:\n",
    "        experiment = client.get_experiment_by_name(experiment_name)\n",
    "        if not experiment:\n",
    "            raise ValueError(f\"Experiment '{experiment_name}' not found.\")\n",
    "        experiment_id = experiment.experiment_id\n",
    "    except Exception as e:\n",
    "        print(f\"Error retrieving experiment '{experiment_name}': {experiment}\")\n",
    "        return\n",
    "\n",
    "    # Search for the best model run based on F1 score\n",
    "    model_name = results_df.iloc[0]['Model']\n",
    "    vectorizer_name = results_df.iloc[0]['Vectorization']\n",
    "    basic_model_runs = client.search_runs(experiment_ids=[experiment_id],\n",
    "                            filter_string=f\"tags.mlflow.runName LIKE '%Basic_Model_{model_name.replace(' ', '_')}_{vectorizer_name}%'\",\n",
    "                            order_by=[\"metrics.specificity DESC\"],\n",
    "                            max_results=1)\n",
    "\n",
    "    tuned_model_runs = client.search_runs(experiment_ids=[experiment_id],\n",
    "                            filter_string=f\"tags.mlflow.runName LIKE '%Tuned_Model_{model_name.replace(' ', '_')}_{vectorizer_name}%'\",\n",
    "                            order_by=[\"metrics.specificity DESC\"],\n",
    "                            max_results=1)\n",
    "\n",
    "    runs = tuned_model_runs + basic_model_runs\n",
    "    if not runs:\n",
    "        print(f\"No runs found for model '{model_name}' with vectorizer '{vectorizer_name}'.\")\n",
    "        return\n",
    "\n",
    "    best_run = max(runs, key=lambda run: run.data.metrics.get(\"specificity\", 0))\n",
    "    run_id = best_run.info.run_id\n",
    "\n",
    "    # Load the model from MLflow\n",
    "    model_uri = f\"runs:/{run_id}/model\"\n",
    "    model = mlflow.sklearn.load_model(model_uri)\n",
    "\n",
    "    # Load the vectorizer artifact\n",
    "    vectorizer_artifact_path = f\"vectorizer_{vectorizer_name}.pkl\"\n",
    "    local_vectorizer_path = client.download_artifacts(run_id, vectorizer_artifact_path, dst_path=\".\")\n",
    "    with open(local_vectorizer_path, \"rb\") as f:\n",
    "        vectorizer = pickle.load(f)\n",
    "\n",
    "    # Save the model and vectorizer locally\n",
    "    os.makedirs(save_dir, exist_ok=True)\n",
    "    model_path = os.path.join(save_dir, \"best_model.pkl\")\n",
    "    vectorizer_path = os.path.join(save_dir, f\"vectorizer_{vectorizer_name}.pkl\")\n",
    "    with open(model_path, \"wb\") as f:\n",
    "        pickle.dump(model, f)\n",
    "    with open(vectorizer_path, \"wb\") as f:\n",
    "        pickle.dump(vectorizer, f)\n",
    "    print(f\"Model and vectorizer saved to '{save_dir}'.\")\n",
    "\n",
    "    return model, vectorizer"
   ]
  },
  {
   "cell_type": "code",
   "execution_count": 41,
   "metadata": {},
   "outputs": [
    {
     "data": {
      "application/vnd.jupyter.widget-view+json": {
       "model_id": "720c2c524c3346ff865bc7a926319a0e",
       "version_major": 2,
       "version_minor": 0
      },
      "text/plain": [
       "Downloading artifacts:   0%|          | 0/1 [00:00<?, ?it/s]"
      ]
     },
     "metadata": {},
     "output_type": "display_data"
    },
    {
     "data": {
      "application/vnd.jupyter.widget-view+json": {
       "model_id": "8eeb64e2c8ef41a0a82eebf69ca90fe4",
       "version_major": 2,
       "version_minor": 0
      },
      "text/plain": [
       "Downloading artifacts:   0%|          | 0/5 [00:00<?, ?it/s]"
      ]
     },
     "metadata": {},
     "output_type": "display_data"
    },
    {
     "data": {
      "application/vnd.jupyter.widget-view+json": {
       "model_id": "2e4851409d5a4d94b8bcd76e6f09e031",
       "version_major": 2,
       "version_minor": 0
      },
      "text/plain": [
       "Downloading artifacts:   0%|          | 0/1 [00:00<?, ?it/s]"
      ]
     },
     "metadata": {},
     "output_type": "display_data"
    },
    {
     "name": "stdout",
     "output_type": "stream",
     "text": [
      "Model and vectorizer saved to './content/basic_model/best'.\n"
     ]
    }
   ],
   "source": [
    "# Load and save the best model and vectorizer\n",
    "best_model, best_vectorizer = load_and_save_model_from_mlflow(\n",
    "    experiment_name=\"P7-Sentiments_Analysis\",\n",
    "    save_dir=\"./content/basic_model/best\",\n",
    "    uri=tracking_uri\n",
    ")"
   ]
  },
  {
   "cell_type": "markdown",
   "metadata": {},
   "source": [
    "# Test best model"
   ]
  },
  {
   "cell_type": "code",
   "execution_count": 42,
   "metadata": {},
   "outputs": [
    {
     "name": "stdout",
     "output_type": "stream",
     "text": [
      "Chosen vectorizer: TF-IDF_stem\n",
      "X_train_vec shape: (40000, 10000)\n",
      "X_test_vec shape: (10000, 10000)\n",
      "y_train_vec shape: (40000,)\n",
      "y_test_vec shape: (10000,)\n"
     ]
    }
   ],
   "source": [
    "# Automatically retrieve the best vectorizer from the results DataFrame\n",
    "best_vectorizer_name = tuned_results_df.iloc[0]['Vectorization']  # Get the best vectorizer name\n",
    "vectorizer, X_train_vec, X_test_vec, y_train_vec, y_test_vec = vectorizers[best_vectorizer_name]\n",
    "\n",
    "# Display the chosen vectorizer and its train-test set shapes\n",
    "print(f\"Chosen vectorizer: {best_vectorizer_name}\")\n",
    "print(f\"X_train_vec shape: {X_train_vec.shape}\")\n",
    "print(f\"X_test_vec shape: {X_test_vec.shape}\")\n",
    "print(f\"y_train_vec shape: {y_train_vec.shape}\")\n",
    "print(f\"y_test_vec shape: {y_test_vec.shape}\")"
   ]
  },
  {
   "cell_type": "code",
   "execution_count": null,
   "metadata": {},
   "outputs": [],
   "source": []
  }
 ],
 "metadata": {
  "kernelspec": {
   "display_name": "Python (Sentiments Analysis)",
   "language": "python",
   "name": "sentiments-env"
  },
  "language_info": {
   "codemirror_mode": {
    "name": "ipython",
    "version": 3
   },
   "file_extension": ".py",
   "mimetype": "text/x-python",
   "name": "python",
   "nbconvert_exporter": "python",
   "pygments_lexer": "ipython3",
   "version": "3.11.5"
  }
 },
 "nbformat": 4,
 "nbformat_minor": 2
}
