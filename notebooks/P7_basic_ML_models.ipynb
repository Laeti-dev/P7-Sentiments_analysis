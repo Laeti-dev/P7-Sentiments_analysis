{
 "cells": [
  {
   "cell_type": "markdown",
   "metadata": {},
   "source": [
    "# Imports"
   ]
  },
  {
   "cell_type": "code",
   "execution_count": 2,
   "metadata": {},
   "outputs": [
    {
     "name": "stderr",
     "output_type": "stream",
     "text": [
      "[nltk_data] Error loading punkt: <urlopen error [SSL:\n",
      "[nltk_data]     CERTIFICATE_VERIFY_FAILED] certificate verify failed:\n",
      "[nltk_data]     unable to get local issuer certificate (_ssl.c:1006)>\n",
      "[nltk_data] Error loading stopwords: <urlopen error [SSL:\n",
      "[nltk_data]     CERTIFICATE_VERIFY_FAILED] certificate verify failed:\n",
      "[nltk_data]     unable to get local issuer certificate (_ssl.c:1006)>\n",
      "[nltk_data] Error loading wordnet: <urlopen error [SSL:\n",
      "[nltk_data]     CERTIFICATE_VERIFY_FAILED] certificate verify failed:\n",
      "[nltk_data]     unable to get local issuer certificate (_ssl.c:1006)>\n"
     ]
    }
   ],
   "source": [
    "import pandas as pd\n",
    "import re\n",
    "import os\n",
    "\n",
    "\n",
    "import nltk\n",
    "# Download necessary NLTK data to the specific directory\n",
    "nltk.download('punkt')\n",
    "nltk.download('stopwords')\n",
    "nltk.download('wordnet')\n",
    "\n",
    "from nltk.tokenize import word_tokenize\n",
    "from nltk.corpus import stopwords\n",
    "from nltk.stem import WordNetLemmatizer, PorterStemmer"
   ]
  },
  {
   "cell_type": "markdown",
   "metadata": {},
   "source": [
    "# Strategies\n",
    "\n",
    "This notebook aims to test several basic models for binary classification. We will start by preprocessing tweets like we did during the EDA (URLs, mentions, hashtags,...), then tokens will be vectorized using either BoW or TF-IDF. Then, we will compare basic machine learning models using MLflow to mesure performances of each model and ease the comparison.\n",
    "\n",
    "**Models to test:**\n",
    "- Linear regression - Simple yet effective linear model for binary classification. Works great with bag-of-words or TF-IDF features. Outputs probabilities, which are useful for threshold tuning.\n",
    "- Random Forest Classifier - Can capture non-linear word interactions without manual feature engineering. Easy to interpret (at least for shallow trees).\n",
    "- SVM - Very fast and efficient for text (especially with sparse, high-dimensional data). Based on word occurrence probabilities, which often work surprisingly well in text classification. Robust even with relatively small datasets.\n",
    "- Naive bayes - Very fast and efficient for text (especially with sparse, high-dimensional data). Based on word occurrence probabilities, which often work surprisingly well in text classification. Robust even with relatively small datasets.\n",
    "\n",
    "**Metrics :**\n",
    "- Accuracy for an overall performance check\n",
    "- Precision (positive predicted values / true positives)\n",
    "- Recall \n",
    "- F1-score"
   ]
  },
  {
   "cell_type": "markdown",
   "metadata": {},
   "source": [
    "# Data and preparation"
   ]
  },
  {
   "cell_type": "code",
   "execution_count": 3,
   "metadata": {},
   "outputs": [],
   "source": [
    "pd.set_option('display.max_columns', None)\n",
    "pd.set_option('display.expand_frame_repr', True)"
   ]
  },
  {
   "cell_type": "code",
   "execution_count": 4,
   "metadata": {},
   "outputs": [
    {
     "name": "stderr",
     "output_type": "stream",
     "text": [
      "/var/folders/5n/5_6qtt550_3dxz3f8y6wwjww0000gn/T/ipykernel_40185/4236509596.py:3: FutureWarning: Parsed string \"Mon Apr 06 22:19:45 PDT 2009\" included an un-recognized timezone \"PDT\". Dropping unrecognized timezones is deprecated; in a future version this will raise. Instead pass the string without the timezone, then use .tz_localize to convert to a recognized timezone.\n",
      "  data = pd.read_csv(path,\n"
     ]
    },
    {
     "data": {
      "text/html": [
       "<div>\n",
       "<style scoped>\n",
       "    .dataframe tbody tr th:only-of-type {\n",
       "        vertical-align: middle;\n",
       "    }\n",
       "\n",
       "    .dataframe tbody tr th {\n",
       "        vertical-align: top;\n",
       "    }\n",
       "\n",
       "    .dataframe thead th {\n",
       "        text-align: right;\n",
       "    }\n",
       "</style>\n",
       "<table border=\"1\" class=\"dataframe\">\n",
       "  <thead>\n",
       "    <tr style=\"text-align: right;\">\n",
       "      <th></th>\n",
       "      <th>target</th>\n",
       "      <th>ids</th>\n",
       "      <th>date</th>\n",
       "      <th>user</th>\n",
       "      <th>text</th>\n",
       "    </tr>\n",
       "  </thead>\n",
       "  <tbody>\n",
       "    <tr>\n",
       "      <th>0</th>\n",
       "      <td>0</td>\n",
       "      <td>1467810369</td>\n",
       "      <td>2009-04-06 22:19:45</td>\n",
       "      <td>_TheSpecialOne_</td>\n",
       "      <td>@switchfoot http://twitpic.com/2y1zl - Awww, t...</td>\n",
       "    </tr>\n",
       "    <tr>\n",
       "      <th>1</th>\n",
       "      <td>0</td>\n",
       "      <td>1467810672</td>\n",
       "      <td>2009-04-06 22:19:49</td>\n",
       "      <td>scotthamilton</td>\n",
       "      <td>is upset that he can't update his Facebook by ...</td>\n",
       "    </tr>\n",
       "    <tr>\n",
       "      <th>2</th>\n",
       "      <td>0</td>\n",
       "      <td>1467810917</td>\n",
       "      <td>2009-04-06 22:19:53</td>\n",
       "      <td>mattycus</td>\n",
       "      <td>@Kenichan I dived many times for the ball. Man...</td>\n",
       "    </tr>\n",
       "    <tr>\n",
       "      <th>3</th>\n",
       "      <td>0</td>\n",
       "      <td>1467811184</td>\n",
       "      <td>2009-04-06 22:19:57</td>\n",
       "      <td>ElleCTF</td>\n",
       "      <td>my whole body feels itchy and like its on fire</td>\n",
       "    </tr>\n",
       "    <tr>\n",
       "      <th>4</th>\n",
       "      <td>0</td>\n",
       "      <td>1467811193</td>\n",
       "      <td>2009-04-06 22:19:57</td>\n",
       "      <td>Karoli</td>\n",
       "      <td>@nationwideclass no, it's not behaving at all....</td>\n",
       "    </tr>\n",
       "  </tbody>\n",
       "</table>\n",
       "</div>"
      ],
      "text/plain": [
       "   target         ids                date             user  \\\n",
       "0       0  1467810369 2009-04-06 22:19:45  _TheSpecialOne_   \n",
       "1       0  1467810672 2009-04-06 22:19:49    scotthamilton   \n",
       "2       0  1467810917 2009-04-06 22:19:53         mattycus   \n",
       "3       0  1467811184 2009-04-06 22:19:57          ElleCTF   \n",
       "4       0  1467811193 2009-04-06 22:19:57           Karoli   \n",
       "\n",
       "                                                text  \n",
       "0  @switchfoot http://twitpic.com/2y1zl - Awww, t...  \n",
       "1  is upset that he can't update his Facebook by ...  \n",
       "2  @Kenichan I dived many times for the ball. Man...  \n",
       "3    my whole body feels itchy and like its on fire   \n",
       "4  @nationwideclass no, it's not behaving at all....  "
      ]
     },
     "metadata": {},
     "output_type": "display_data"
    },
    {
     "name": "stdout",
     "output_type": "stream",
     "text": [
      "Shape of the DataFrame: (1600000, 5)\n",
      "Number of unique target values: target\n",
      "0    800000\n",
      "4    800000\n",
      "Name: count, dtype: int64\n",
      "Number of unique target values after replacement: target\n",
      "0    800000\n",
      "1    800000\n",
      "Name: count, dtype: int64\n"
     ]
    }
   ],
   "source": [
    "path = \"../data/training.1600000.processed.noemoticon.csv\"\n",
    "# Load the data from the CSV file into a pandas DataFrame\n",
    "data = pd.read_csv(path,\n",
    "                header=None,\n",
    "                names=[\"target\", \"ids\", \"date\", \"flag\", \"user\", \"text\"],\n",
    "                usecols=[\"target\", \"ids\", \"date\", \"user\", \"text\"],  # remove flag column\n",
    "                parse_dates=[\"date\"],\n",
    "                encoding=\"utf-8\",\n",
    "                encoding_errors=\"replace\",)\n",
    "\n",
    "# Display the first few rows of the DataFrame and its info\n",
    "display(data.head())\n",
    "print(f'Shape of the DataFrame: {data.shape}')\n",
    "\n",
    "print(f\"Number of unique target values: {data['target'].value_counts()}\")\n",
    "# Change target value 4 to 1\n",
    "data['target'] = data['target'].replace(4, 1)\n",
    "print(f\"Number of unique target values after replacement: {data['target'].value_counts()}\")"
   ]
  },
  {
   "cell_type": "markdown",
   "metadata": {},
   "source": [
    "## Preprocessing"
   ]
  },
  {
   "cell_type": "code",
   "execution_count": 5,
   "metadata": {},
   "outputs": [],
   "source": [
    "def process_text(text, lemmatize=False, stemming=False):\n",
    "    \"\"\"\n",
    "    Cleans and preprocesses a single text string by replacing URLs, mentions, and hashtags,\n",
    "    converting to lowercase, removing special characters, and removing stopwords.\n",
    "\n",
    "    Args:\n",
    "        text (str): The text string to process.\n",
    "\n",
    "    Returns:\n",
    "        str: The processed text string.\n",
    "    \"\"\"\n",
    "\n",
    "\n",
    "    if pd.isna(text):\n",
    "        return \"\"\n",
    "    # Replace URLs with <URL>\n",
    "    processed = re.sub(r'https?://\\S+', '<URL>', text)\n",
    "    # Replace mentions with <MENTION>\n",
    "    processed = re.sub(r'@[A-Za-z0-9_]+', '<MENTION>', processed)\n",
    "    # Separate # from word and replace the word with <HASHTAG>\n",
    "    processed = re.sub(r'#([A-Za-z0-9_]+)', r'#<HASHTAG>', processed)\n",
    "\n",
    "    # Convert text to lowercase\n",
    "    processed = processed.lower()\n",
    "\n",
    "    # Remove special characters and numbers, keeping !, ?, and ellipsis (...)\n",
    "    # Also keeps the placeholders <URL>, <MENTION>, <HASHTAG>\n",
    "    processed = re.sub(r'[^a-z0-9\\s.!?<>#]', '', processed)\n",
    "\n",
    "    # Tokenize the text\n",
    "    tokens = word_tokenize(processed)\n",
    "\n",
    "    if stemming and lemmatize:\n",
    "        raise ValueError(\"Cannot use both stemming and lemmatization at the same time. Choose one.\")\n",
    "\n",
    "    # Initialize lemmatizer\n",
    "    if lemmatize:\n",
    "        lemmatizer = WordNetLemmatizer()\n",
    "        tokens = [lemmatizer.lemmatize(token) for token in tokens] if lemmatize else tokens\n",
    "\n",
    "    # Initialize stemmer\n",
    "    if stemming:\n",
    "        stemmer = PorterStemmer()\n",
    "        tokens = [stemmer.stem(token) for token in tokens] if stemming else tokens\n",
    "\n",
    "\n",
    "    # Define negative words that should not be removed\n",
    "    negative_words = {\n",
    "        'no', 'not', 'nor', \"don't\", \"aren't\", \"couldn't\", \"didn't\", \"doesn't\",\n",
    "        \"hadn't\", \"hasn't\", \"haven't\", \"isn't\", \"mightn't\", \"mustn't\",\n",
    "        \"needn't\", \"shan't\", \"shouldn't\", \"wasn't\", \"weren't\", \"won't\", \"wouldn't\",\n",
    "        \"never\", \"none\", \"nobody\", \"nothing\", \"nowhere\", \"neither\"\n",
    "    }\n",
    "    # Create a set of stopwords to remove, excluding the negative words\n",
    "    stop_words_to_remove = set(stopwords.words('english')) - negative_words\n",
    "\n",
    "    # remove stopwords, and join back to string\n",
    "    filtered_tokens = [word for word in tokens if word not in stop_words_to_remove]\n",
    "\n",
    "    return ' '.join(filtered_tokens)\n"
   ]
  },
  {
   "cell_type": "code",
   "execution_count": 6,
   "metadata": {},
   "outputs": [
    {
     "name": "stderr",
     "output_type": "stream",
     "text": [
      "[nltk_data] Error loading punkt_tab: <urlopen error [SSL:\n",
      "[nltk_data]     CERTIFICATE_VERIFY_FAILED] certificate verify failed:\n",
      "[nltk_data]     unable to get local issuer certificate (_ssl.c:1006)>\n"
     ]
    },
    {
     "data": {
      "text/html": [
       "<div>\n",
       "<style scoped>\n",
       "    .dataframe tbody tr th:only-of-type {\n",
       "        vertical-align: middle;\n",
       "    }\n",
       "\n",
       "    .dataframe tbody tr th {\n",
       "        vertical-align: top;\n",
       "    }\n",
       "\n",
       "    .dataframe thead th {\n",
       "        text-align: right;\n",
       "    }\n",
       "</style>\n",
       "<table border=\"1\" class=\"dataframe\">\n",
       "  <thead>\n",
       "    <tr style=\"text-align: right;\">\n",
       "      <th></th>\n",
       "      <th>target</th>\n",
       "      <th>ids</th>\n",
       "      <th>date</th>\n",
       "      <th>user</th>\n",
       "      <th>text</th>\n",
       "      <th>processed_text_lem</th>\n",
       "      <th>processed_text_stem</th>\n",
       "    </tr>\n",
       "  </thead>\n",
       "  <tbody>\n",
       "    <tr>\n",
       "      <th>49995</th>\n",
       "      <td>1</td>\n",
       "      <td>2185646565</td>\n",
       "      <td>2009-06-15 17:41:41</td>\n",
       "      <td>nazbear</td>\n",
       "      <td>@abcdude I'll bet your plane takes off to the ...</td>\n",
       "      <td>&lt; mention &gt; ill bet plane take tune quotill al...</td>\n",
       "      <td>&lt; mention &gt; ill bet plane take tune quotil alr...</td>\n",
       "    </tr>\n",
       "    <tr>\n",
       "      <th>49996</th>\n",
       "      <td>1</td>\n",
       "      <td>1556812170</td>\n",
       "      <td>2009-04-19 00:28:02</td>\n",
       "      <td>digmyshine</td>\n",
       "      <td>Gaaah just got some good news about day 26!!!!</td>\n",
       "      <td>gaaah got good news day 26 ! ! ! !</td>\n",
       "      <td>gaaah got good news day 26 ! ! ! !</td>\n",
       "    </tr>\n",
       "    <tr>\n",
       "      <th>49997</th>\n",
       "      <td>1</td>\n",
       "      <td>1994848543</td>\n",
       "      <td>2009-06-01 12:33:13</td>\n",
       "      <td>TerezBaskin</td>\n",
       "      <td>Salad: chicken, craisins, carrots, mushrooms, ...</td>\n",
       "      <td>salad chicken craisins carrot mushroom cheese ...</td>\n",
       "      <td>salad chicken craisin carrot mushroom chees ba...</td>\n",
       "    </tr>\n",
       "    <tr>\n",
       "      <th>49998</th>\n",
       "      <td>1</td>\n",
       "      <td>2068458420</td>\n",
       "      <td>2009-06-07 14:06:50</td>\n",
       "      <td>TidalWaves7</td>\n",
       "      <td>Chillin on a raft in Devin's pool.</td>\n",
       "      <td>chillin raft devins pool .</td>\n",
       "      <td>chillin raft devin pool .</td>\n",
       "    </tr>\n",
       "    <tr>\n",
       "      <th>49999</th>\n",
       "      <td>1</td>\n",
       "      <td>2056840796</td>\n",
       "      <td>2009-06-06 11:53:42</td>\n",
       "      <td>krpearce</td>\n",
       "      <td>I think it's about time for a spontaneous trip...</td>\n",
       "      <td>think time spontaneous trip home visit amazing...</td>\n",
       "      <td>think time spontan trip home visit amaz famili...</td>\n",
       "    </tr>\n",
       "  </tbody>\n",
       "</table>\n",
       "</div>"
      ],
      "text/plain": [
       "       target         ids                date         user  \\\n",
       "49995       1  2185646565 2009-06-15 17:41:41      nazbear   \n",
       "49996       1  1556812170 2009-04-19 00:28:02   digmyshine   \n",
       "49997       1  1994848543 2009-06-01 12:33:13  TerezBaskin   \n",
       "49998       1  2068458420 2009-06-07 14:06:50  TidalWaves7   \n",
       "49999       1  2056840796 2009-06-06 11:53:42     krpearce   \n",
       "\n",
       "                                                    text  \\\n",
       "49995  @abcdude I'll bet your plane takes off to the ...   \n",
       "49996    Gaaah just got some good news about day 26!!!!    \n",
       "49997  Salad: chicken, craisins, carrots, mushrooms, ...   \n",
       "49998                Chillin on a raft in Devin's pool.    \n",
       "49999  I think it's about time for a spontaneous trip...   \n",
       "\n",
       "                                      processed_text_lem  \\\n",
       "49995  < mention > ill bet plane take tune quotill al...   \n",
       "49996                 gaaah got good news day 26 ! ! ! !   \n",
       "49997  salad chicken craisins carrot mushroom cheese ...   \n",
       "49998                         chillin raft devins pool .   \n",
       "49999  think time spontaneous trip home visit amazing...   \n",
       "\n",
       "                                     processed_text_stem  \n",
       "49995  < mention > ill bet plane take tune quotil alr...  \n",
       "49996                 gaaah got good news day 26 ! ! ! !  \n",
       "49997  salad chicken craisin carrot mushroom chees ba...  \n",
       "49998                          chillin raft devin pool .  \n",
       "49999  think time spontan trip home visit amaz famili...  "
      ]
     },
     "metadata": {},
     "output_type": "display_data"
    },
    {
     "name": "stdout",
     "output_type": "stream",
     "text": [
      "Shape of the processed DataFrame: (50000, 7)\n"
     ]
    }
   ],
   "source": [
    "# Sample dataframe for each target\n",
    "negative_sample = data[data['target'] == 0].sample(n=25000, random_state=42)\n",
    "positive_sample = data[data['target'] == 1].sample(n=25000, random_state=42)\n",
    "# Concatenate the two samples\n",
    "sample_df = pd.concat([negative_sample, positive_sample], ignore_index=True)\n",
    "# Apply the process_text function to the 'text' column\n",
    "nltk.download('punkt_tab')\n",
    "sample_df['processed_text_lem'] = sample_df['text'].apply(process_text, lemmatize=True)\n",
    "sample_df['processed_text_stem'] = sample_df['text'].apply(process_text, stemming=True)\n",
    "\n",
    "# Display the first few rows of the processed DataFrame\n",
    "display(sample_df.tail())\n",
    "print(f'Shape of the processed DataFrame: {sample_df.shape}')\n"
   ]
  },
  {
   "cell_type": "markdown",
   "metadata": {},
   "source": [
    "## Split data to train and test sets"
   ]
  },
  {
   "cell_type": "code",
   "execution_count": 7,
   "metadata": {},
   "outputs": [
    {
     "name": "stdout",
     "output_type": "stream",
     "text": [
      "X_train_lem shape: (40000,)\n",
      "X_test_lem shape: (10000,)\n",
      "y_train_lem shape: (40000,)\n",
      "y_test_lem shape: (10000,)\n",
      "X_train_stem shape: (40000,)\n",
      "X_test_stem shape: (10000,)\n",
      "y_train_stem shape: (40000,)\n",
      "y_test_stem shape: (10000,)\n"
     ]
    }
   ],
   "source": [
    "from sklearn.model_selection import train_test_split\n",
    "\n",
    "# Define features (X) and target (y)\n",
    "X_lem = sample_df['processed_text_lem']\n",
    "y_lem = sample_df['target']\n",
    "\n",
    "X_stem = sample_df['processed_text_stem']\n",
    "y_stem = sample_df['target']\n",
    "\n",
    "# Split the data into training and testing sets\n",
    "X_train_lem, X_test_lem, y_train_lem, y_test_lem = train_test_split(\n",
    "    X_lem, y_lem,\n",
    "    test_size=0.2,\n",
    "    random_state=42,\n",
    "    stratify=y_lem\n",
    ")\n",
    "\n",
    "# Display the shapes of the resulting datasets\n",
    "print(f\"X_train_lem shape: {X_train_lem.shape}\")\n",
    "print(f\"X_test_lem shape: {X_test_lem.shape}\")\n",
    "print(f\"y_train_lem shape: {y_train_lem.shape}\")\n",
    "print(f\"y_test_lem shape: {y_test_lem.shape}\")\n",
    "\n",
    "# Split the data into training and testing sets\n",
    "X_train_stem, X_test_stem, y_train_stem, y_test_stem = train_test_split(\n",
    "    X_stem, y_stem,\n",
    "    test_size=0.2,\n",
    "    random_state=42,\n",
    "    stratify=y_stem\n",
    ")\n",
    "\n",
    "# Display the shapes of the resulting datasets\n",
    "print(f\"X_train_stem shape: {X_train_stem.shape}\")\n",
    "print(f\"X_test_stem shape: {X_test_stem.shape}\")\n",
    "print(f\"y_train_stem shape: {y_train_stem.shape}\")\n",
    "print(f\"y_test_stem shape: {y_test_stem.shape}\")\n",
    "\n",
    "X_train_shape = X_train_lem.shape\n",
    "X_test_shape = X_test_lem.shape"
   ]
  },
  {
   "cell_type": "markdown",
   "metadata": {},
   "source": [
    "# Configuring MLflow"
   ]
  },
  {
   "cell_type": "code",
   "execution_count": 30,
   "metadata": {},
   "outputs": [
    {
     "name": "stdout",
     "output_type": "stream",
     "text": [
      "MLflow Tracking URI: http://localhost:8080\n"
     ]
    }
   ],
   "source": [
    "import os\n",
    "from dotenv import load_dotenv\n",
    "import time\n",
    "import pickle\n",
    "\n",
    "import mlflow\n",
    "from mlflow.models import infer_signature\n",
    "from mlflow.tracking import MlflowClient\n",
    "\n",
    "\n",
    "from sklearn.linear_model import LogisticRegression\n",
    "from sklearn.svm import LinearSVC\n",
    "from sklearn.naive_bayes import MultinomialNB\n",
    "from sklearn.ensemble import RandomForestClassifier\n",
    "from sklearn.metrics import accuracy_score, precision_score, recall_score, f1_score, roc_auc_score, confusion_matrix,fbeta_score, roc_curve, classification_report, make_scorer, matthews_corrcoef, balanced_accuracy_score\n",
    "from sklearn.feature_extraction.text import CountVectorizer, TfidfVectorizer\n",
    "from sklearn.model_selection import GridSearchCV, cross_val_score\n",
    "\n",
    "import seaborn as sns\n",
    "import matplotlib.pyplot as plt\n",
    "\n",
    "from tqdm import tqdm\n",
    "\n",
    "\n",
    "# For scikit-learn\n",
    "mlflow.sklearn.autolog()\n",
    "\n",
    "# Configuring MLflow\n",
    "load_dotenv()\n",
    "tracking_uri = os.getenv(\"MLFLOW_TRACKING_URI\")\n",
    "mlflow.set_tracking_uri(tracking_uri)\n",
    "print(f\"MLflow Tracking URI: {tracking_uri}\")"
   ]
  },
  {
   "cell_type": "code",
   "execution_count": 31,
   "metadata": {},
   "outputs": [
    {
     "data": {
      "text/plain": [
       "<Experiment: artifact_location='mlflow-artifacts:/582216974290491259', creation_time=1756644597023, experiment_id='582216974290491259', last_update_time=1756644597023, lifecycle_stage='active', name='P7-Sentiments_Analysis', tags={}>"
      ]
     },
     "execution_count": 31,
     "metadata": {},
     "output_type": "execute_result"
    }
   ],
   "source": [
    "# Create a new MLflow Experiment\n",
    "mlflow.set_experiment(\"P7-Sentiments_Analysis\")"
   ]
  },
  {
   "cell_type": "markdown",
   "metadata": {},
   "source": [
    "## Evaluation function"
   ]
  },
  {
   "cell_type": "code",
   "execution_count": 22,
   "metadata": {},
   "outputs": [],
   "source": [
    "def evaluate_model(model, X_test, y_test, model_name, vectorizer_name):\n",
    "    \"\"\"\n",
    "    Evaluates a machine learning model using various metrics and visualizations.\n",
    "    Args:\n",
    "        model: The trained machine learning model to evaluate.\n",
    "        X_test: The test features.\n",
    "        y_test: The true labels for the test set.\n",
    "        model_name: The name of the model being evaluated.\n",
    "        vectorizer_name: The name of the vectorizer used for feature extraction.\n",
    "    Returns:\n",
    "        accuracy, precision, recall, f1, f05, f2, roc_auc: Evaluation metrics.\n",
    "        fig_cm: Figure of the confusion matrix.\n",
    "        fig_roc: Figure of the ROC curve.\n",
    "        y_pred: Predicted labels for the test set.\n",
    "    \"\"\"\n",
    "    # Predict the labels for the test set\n",
    "    y_pred = model.predict(X_test)\n",
    "\n",
    "    # Get the predicted probabilities or decision function scores\n",
    "    if hasattr(model, 'predict_proba'):\n",
    "        y_score = model.predict_proba(X_test)[:, 1]\n",
    "    elif hasattr(model, 'decision_function'):\n",
    "        y_score = model.decision_function(X_test)\n",
    "    else:\n",
    "        y_score = y_pred  # Fallback for models without probability estimates\n",
    "\n",
    "    # Metrics\n",
    "    accuracy = accuracy_score(y_test, y_pred)\n",
    "    precision = precision_score(y_test, y_pred)\n",
    "    recall = recall_score(y_test, y_pred)\n",
    "    roc_auc = roc_auc_score(y_test, y_score)\n",
    "\n",
    "    # Plot confusion matrix\n",
    "    cm = confusion_matrix(y_test, y_pred)\n",
    "    tn, fp, fn, tp = cm.ravel()\n",
    "    specificity = tn / (tn + fp) if (tn + fp) > 0 else 0\n",
    "    fig_cm, ax_cm = plt.subplots(figsize=(8, 6))\n",
    "    sns.heatmap(cm, annot=True, fmt='d', cmap='Blues', ax=ax_cm)\n",
    "    ax_cm.set_xlabel('Prediction')\n",
    "    ax_cm.set_ylabel('Real label')\n",
    "    ax_cm.set_title(f'Confusion matrix - {model_name} with {vectorizer_name}')\n",
    "\n",
    "    # Créer la courbe ROC\n",
    "    fpr, tpr, _ = roc_curve(y_test, y_score)\n",
    "    fig_roc, ax_roc = plt.subplots(figsize=(8, 6))\n",
    "    ax_roc.plot(fpr, tpr, label=f'ROC curve (AUC = {roc_auc:.3f})')\n",
    "    ax_roc.plot([0, 1], [0, 1], 'k--')\n",
    "    ax_roc.set_xlim([0.0, 1.0])\n",
    "    ax_roc.set_ylim([0.0, 1.05])\n",
    "    ax_roc.set_xlabel('False Positive Rate')\n",
    "    ax_roc.set_ylabel('True Positive Rate')\n",
    "    ax_roc.set_title(f'ROC curve - {model_name} with {vectorizer_name}')\n",
    "    ax_roc.legend(loc=\"lower right\")\n",
    "    ax_roc.grid(True)\n",
    "\n",
    "    # Afficher les résultats\n",
    "    print(f\"\\nResults for {model_name} with {vectorizer_name}:\")\n",
    "    print(f\"Accuracy: {accuracy:.4f}\")\n",
    "    print(f\"Precision: {precision:.4f}\")\n",
    "    print(f\"Recall: {recall:.4f}\")\n",
    "    print(f\"Specificity: {specificity:.4f}\")\n",
    "    print(f\"ROC AUC: {roc_auc:.4f}\")\n",
    "    print(\"\\nConfusion matrix:\")\n",
    "    print(cm)\n",
    "    print(\"\\nClassificatin report:\")\n",
    "    print(classification_report(y_test, y_pred))\n",
    "\n",
    "    return accuracy, precision, recall, specificity, roc_auc, fig_cm, fig_roc, y_pred"
   ]
  },
  {
   "cell_type": "markdown",
   "metadata": {},
   "source": [
    "## Instantiate the vectorizers"
   ]
  },
  {
   "cell_type": "code",
   "execution_count": 11,
   "metadata": {},
   "outputs": [],
   "source": [
    "# Instantiate the vectorizers\n",
    "tfidf_vectorizer = TfidfVectorizer(max_features=10000, ngram_range=(1, 2))\n",
    "bow_vectorizer = CountVectorizer(max_features=10000, ngram_range=(1, 2))\n",
    "\n",
    "\n",
    "# Vectorize texts into TF-IDF vectors\n",
    "X_train_tfidf_lem = tfidf_vectorizer.fit_transform(X_train_lem)\n",
    "X_test_tfidf_lem = tfidf_vectorizer.transform(X_test_lem)\n",
    "X_train_tfidf_stem = tfidf_vectorizer.fit_transform(X_train_stem)\n",
    "X_test_tfidf_stem = tfidf_vectorizer.transform(X_test_stem)\n",
    "\n",
    "# Vectorize texts into Bag-of-Words vectors\n",
    "X_train_bow_lem = bow_vectorizer.fit_transform(X_train_lem)\n",
    "X_test_bow_lem = bow_vectorizer.transform(X_test_lem)\n",
    "X_train_bow_stem = bow_vectorizer.fit_transform(X_train_stem)\n",
    "X_test_bow_stem = bow_vectorizer.transform(X_test_stem)"
   ]
  },
  {
   "cell_type": "markdown",
   "metadata": {},
   "source": [
    "## Instanciate models"
   ]
  },
  {
   "cell_type": "code",
   "execution_count": 23,
   "metadata": {},
   "outputs": [],
   "source": [
    "# Instanciate the models\n",
    "base_models = {\n",
    "    \"Logistic_Regression\": LogisticRegression(random_state=42),\n",
    "    \"SVM_Lineaire\": LinearSVC(random_state=42),\n",
    "    \"Random_Forest\": RandomForestClassifier(random_state=42),\n",
    "    \"Naive_Bayes\": MultinomialNB()\n",
    "}\n",
    "\n",
    "# Defined hyperparameters\n",
    "param_grids = {\n",
    "    \"Logistic_Regression\": {\n",
    "        'C': [0.01, 0.1, 1.0, 10.0],\n",
    "        'max_iter': [1000],\n",
    "        'solver': ['liblinear', 'saga']\n",
    "    },\n",
    "    \"SVM_Lineaire\": {\n",
    "        'C': [0.01, 0.1, 1.0, 10.0],\n",
    "        'max_iter': [1000],\n",
    "        'dual': [True, False]\n",
    "    },\n",
    "    \"Random_Forest\": {\n",
    "        'n_estimators': [50, 100, 200],\n",
    "        'max_depth': [None, 10, 20],\n",
    "        'min_samples_split': [2, 5]\n",
    "    },\n",
    "    \"Naive_Bayes\": {\n",
    "        'alpha': [0.1, 0.5, 1.0, 2.0]\n",
    "    }\n",
    "}\n",
    "\n",
    "# Vectorizers\n",
    "vectorizers = {\n",
    "    \"TF-IDF_lem\": (tfidf_vectorizer, X_train_tfidf_lem, X_test_tfidf_lem, y_train_lem, y_test_lem),\n",
    "    \"BoW_lem\": (bow_vectorizer, X_train_bow_lem, X_test_bow_lem, y_train_lem, y_test_lem),\n",
    "    \"TF-IDF_stem\": (tfidf_vectorizer, X_train_tfidf_stem, X_test_tfidf_stem, y_train_stem, y_test_stem),\n",
    "    \"BoW_stem\": (bow_vectorizer, X_train_bow_stem, X_test_bow_stem, y_train_stem, y_test_stem),\n",
    "}\n",
    "\n",
    "# Scorers\n",
    "scorers = {\n",
    "    'specificity': make_scorer(recall_score, pos_label=0),\n",
    "    'mcc': make_scorer(matthews_corrcoef),\n",
    "    'balanced_acc': make_scorer(balanced_accuracy_score)\n",
    "}"
   ]
  },
  {
   "cell_type": "markdown",
   "metadata": {},
   "source": [
    "## Training"
   ]
  },
  {
   "cell_type": "code",
   "execution_count": 32,
   "metadata": {},
   "outputs": [
    {
     "name": "stderr",
     "output_type": "stream",
     "text": [
      "Overall Progress:   0%|          | 0/16 [00:00<?, ?it/s]"
     ]
    },
    {
     "name": "stdout",
     "output_type": "stream",
     "text": [
      "\n",
      "================================================================================\n",
      "Starting training for Logistic_Regression with TF-IDF_lem...\n"
     ]
    },
    {
     "name": "stderr",
     "output_type": "stream",
     "text": [
      "2025/09/05 14:55:10 WARNING mlflow.sklearn: Failed to log training dataset information to MLflow Tracking. Reason: 'Series' object has no attribute 'flatten'\n",
      "2025/09/05 14:55:15 WARNING mlflow.models.model: `artifact_path` is deprecated. Please use `name` instead.\n"
     ]
    },
    {
     "name": "stdout",
     "output_type": "stream",
     "text": [
      "\n",
      "Results for Logistic_Regression with TF-IDF_lem:\n",
      "Accuracy: 0.7718\n",
      "Precision: 0.7691\n",
      "Recall: 0.7768\n",
      "Specificity: 0.7668\n",
      "ROC AUC: 0.8535\n",
      "\n",
      "Confusion matrix:\n",
      "[[3834 1166]\n",
      " [1116 3884]]\n",
      "\n",
      "Classificatin report:\n",
      "              precision    recall  f1-score   support\n",
      "\n",
      "           0       0.77      0.77      0.77      5000\n",
      "           1       0.77      0.78      0.77      5000\n",
      "\n",
      "    accuracy                           0.77     10000\n",
      "   macro avg       0.77      0.77      0.77     10000\n",
      "weighted avg       0.77      0.77      0.77     10000\n",
      "\n"
     ]
    },
    {
     "name": "stderr",
     "output_type": "stream",
     "text": [
      "Last model: Logistic_Regression with TF-IDF_lem:   6%|▋         | 1/16 [00:08<02:11,  8.75s/it]"
     ]
    },
    {
     "name": "stdout",
     "output_type": "stream",
     "text": [
      "Accuracy: 0.7718\n",
      "Specificity: 0.7668\n",
      "ROC AUC test: 0.8535\n",
      "Training time: 6.17 secondes\n",
      "🏃 View run Basic_Model_Logistic_Regression_TF-IDF_lem at: http://localhost:8080/#/experiments/582216974290491259/runs/4e1ddcf0ce6a40e8bff0d7545b206f1a\n",
      "🧪 View experiment at: http://localhost:8080/#/experiments/582216974290491259\n",
      "\n",
      "================================================================================\n",
      "Starting training for Logistic_Regression with BoW_lem...\n"
     ]
    },
    {
     "name": "stderr",
     "output_type": "stream",
     "text": [
      "2025/09/05 14:55:19 WARNING mlflow.sklearn: Failed to log training dataset information to MLflow Tracking. Reason: 'Series' object has no attribute 'flatten'\n",
      "2025/09/05 14:55:34 WARNING mlflow.models.model: `artifact_path` is deprecated. Please use `name` instead.\n"
     ]
    },
    {
     "name": "stdout",
     "output_type": "stream",
     "text": [
      "\n",
      "Results for Logistic_Regression with BoW_lem:\n",
      "Accuracy: 0.7663\n",
      "Precision: 0.7611\n",
      "Recall: 0.7762\n",
      "Specificity: 0.7564\n",
      "ROC AUC: 0.8406\n",
      "\n",
      "Confusion matrix:\n",
      "[[3782 1218]\n",
      " [1119 3881]]\n",
      "\n",
      "Classificatin report:\n",
      "              precision    recall  f1-score   support\n",
      "\n",
      "           0       0.77      0.76      0.76      5000\n",
      "           1       0.76      0.78      0.77      5000\n",
      "\n",
      "    accuracy                           0.77     10000\n",
      "   macro avg       0.77      0.77      0.77     10000\n",
      "weighted avg       0.77      0.77      0.77     10000\n",
      "\n"
     ]
    },
    {
     "name": "stderr",
     "output_type": "stream",
     "text": [
      "Last model: Logistic_Regression with BoW_lem:  12%|█▎        | 2/16 [00:29<03:40, 15.74s/it]   "
     ]
    },
    {
     "name": "stdout",
     "output_type": "stream",
     "text": [
      "Accuracy: 0.7663\n",
      "Specificity: 0.7564\n",
      "ROC AUC test: 0.8406\n",
      "Training time: 14.95 secondes\n",
      "🏃 View run Basic_Model_Logistic_Regression_BoW_lem at: http://localhost:8080/#/experiments/582216974290491259/runs/c0e292478a2a46339c38d59ad9736043\n",
      "🧪 View experiment at: http://localhost:8080/#/experiments/582216974290491259\n",
      "\n",
      "================================================================================\n",
      "Starting training for Logistic_Regression with TF-IDF_stem...\n"
     ]
    },
    {
     "name": "stderr",
     "output_type": "stream",
     "text": [
      "2025/09/05 14:55:40 WARNING mlflow.sklearn: Failed to log training dataset information to MLflow Tracking. Reason: 'Series' object has no attribute 'flatten'\n",
      "2025/09/05 14:55:46 WARNING mlflow.models.model: `artifact_path` is deprecated. Please use `name` instead.\n"
     ]
    },
    {
     "name": "stdout",
     "output_type": "stream",
     "text": [
      "\n",
      "Results for Logistic_Regression with TF-IDF_stem:\n",
      "Accuracy: 0.7725\n",
      "Precision: 0.7727\n",
      "Recall: 0.7722\n",
      "Specificity: 0.7728\n",
      "ROC AUC: 0.8546\n",
      "\n",
      "Confusion matrix:\n",
      "[[3864 1136]\n",
      " [1139 3861]]\n",
      "\n",
      "Classificatin report:\n",
      "              precision    recall  f1-score   support\n",
      "\n",
      "           0       0.77      0.77      0.77      5000\n",
      "           1       0.77      0.77      0.77      5000\n",
      "\n",
      "    accuracy                           0.77     10000\n",
      "   macro avg       0.77      0.77      0.77     10000\n",
      "weighted avg       0.77      0.77      0.77     10000\n",
      "\n"
     ]
    },
    {
     "name": "stderr",
     "output_type": "stream",
     "text": [
      "Last model: Logistic_Regression with TF-IDF_stem:  19%|█▉        | 3/16 [00:40<02:55, 13.51s/it]"
     ]
    },
    {
     "name": "stdout",
     "output_type": "stream",
     "text": [
      "Accuracy: 0.7725\n",
      "Specificity: 0.7728\n",
      "ROC AUC test: 0.8546\n",
      "Training time: 7.12 secondes\n",
      "🏃 View run Basic_Model_Logistic_Regression_TF-IDF_stem at: http://localhost:8080/#/experiments/582216974290491259/runs/be21c0fdbdf04958bc51705230568b39\n",
      "🧪 View experiment at: http://localhost:8080/#/experiments/582216974290491259\n",
      "\n",
      "================================================================================\n",
      "Starting training for Logistic_Regression with BoW_stem...\n"
     ]
    },
    {
     "name": "stderr",
     "output_type": "stream",
     "text": [
      "2025/09/05 14:55:51 WARNING mlflow.sklearn: Failed to log training dataset information to MLflow Tracking. Reason: 'Series' object has no attribute 'flatten'\n",
      "2025/09/05 14:55:56 WARNING mlflow.models.model: `artifact_path` is deprecated. Please use `name` instead.\n"
     ]
    },
    {
     "name": "stdout",
     "output_type": "stream",
     "text": [
      "\n",
      "Results for Logistic_Regression with BoW_stem:\n",
      "Accuracy: 0.7688\n",
      "Precision: 0.7643\n",
      "Recall: 0.7774\n",
      "Specificity: 0.7602\n",
      "ROC AUC: 0.8399\n",
      "\n",
      "Confusion matrix:\n",
      "[[3801 1199]\n",
      " [1113 3887]]\n",
      "\n",
      "Classificatin report:\n",
      "              precision    recall  f1-score   support\n",
      "\n",
      "           0       0.77      0.76      0.77      5000\n",
      "           1       0.76      0.78      0.77      5000\n",
      "\n",
      "    accuracy                           0.77     10000\n",
      "   macro avg       0.77      0.77      0.77     10000\n",
      "weighted avg       0.77      0.77      0.77     10000\n",
      "\n"
     ]
    },
    {
     "name": "stderr",
     "output_type": "stream",
     "text": [
      "Last model: Logistic_Regression with BoW_stem:  25%|██▌       | 4/16 [00:49<02:23, 11.99s/it]   "
     ]
    },
    {
     "name": "stdout",
     "output_type": "stream",
     "text": [
      "Accuracy: 0.7688\n",
      "Specificity: 0.7602\n",
      "ROC AUC test: 0.8399\n",
      "Training time: 6.57 secondes\n",
      "🏃 View run Basic_Model_Logistic_Regression_BoW_stem at: http://localhost:8080/#/experiments/582216974290491259/runs/a2cc70b4d8c341918971fd96aca181d1\n",
      "🧪 View experiment at: http://localhost:8080/#/experiments/582216974290491259\n",
      "\n",
      "================================================================================\n",
      "Starting training for SVM_Lineaire with TF-IDF_lem...\n"
     ]
    },
    {
     "name": "stderr",
     "output_type": "stream",
     "text": [
      "2025/09/05 14:56:00 WARNING mlflow.sklearn: Failed to log training dataset information to MLflow Tracking. Reason: 'Series' object has no attribute 'flatten'\n",
      "2025/09/05 14:56:05 WARNING mlflow.models.model: `artifact_path` is deprecated. Please use `name` instead.\n"
     ]
    },
    {
     "name": "stdout",
     "output_type": "stream",
     "text": [
      "\n",
      "Results for SVM_Lineaire with TF-IDF_lem:\n",
      "Accuracy: 0.7618\n",
      "Precision: 0.7603\n",
      "Recall: 0.7646\n",
      "Specificity: 0.7590\n",
      "ROC AUC: 0.8389\n",
      "\n",
      "Confusion matrix:\n",
      "[[3795 1205]\n",
      " [1177 3823]]\n",
      "\n",
      "Classificatin report:\n",
      "              precision    recall  f1-score   support\n",
      "\n",
      "           0       0.76      0.76      0.76      5000\n",
      "           1       0.76      0.76      0.76      5000\n",
      "\n",
      "    accuracy                           0.76     10000\n",
      "   macro avg       0.76      0.76      0.76     10000\n",
      "weighted avg       0.76      0.76      0.76     10000\n",
      "\n"
     ]
    },
    {
     "name": "stderr",
     "output_type": "stream",
     "text": [
      "Last model: SVM_Lineaire with TF-IDF_lem:  31%|███▏      | 5/16 [00:58<01:58, 10.74s/it]     "
     ]
    },
    {
     "name": "stdout",
     "output_type": "stream",
     "text": [
      "Accuracy: 0.7618\n",
      "Specificity: 0.7590\n",
      "ROC AUC test: 0.8389\n",
      "Training time: 6.09 secondes\n",
      "🏃 View run Basic_Model_SVM_Lineaire_TF-IDF_lem at: http://localhost:8080/#/experiments/582216974290491259/runs/7e70955902554dd18819c0e3eff18654\n",
      "🧪 View experiment at: http://localhost:8080/#/experiments/582216974290491259\n",
      "\n",
      "================================================================================\n",
      "Starting training for SVM_Lineaire with BoW_lem...\n"
     ]
    },
    {
     "name": "stderr",
     "output_type": "stream",
     "text": [
      "2025/09/05 14:56:08 WARNING mlflow.sklearn: Failed to log training dataset information to MLflow Tracking. Reason: 'Series' object has no attribute 'flatten'\n",
      "2025/09/05 14:56:12 WARNING mlflow.models.model: `artifact_path` is deprecated. Please use `name` instead.\n"
     ]
    },
    {
     "name": "stdout",
     "output_type": "stream",
     "text": [
      "\n",
      "Results for SVM_Lineaire with BoW_lem:\n",
      "Accuracy: 0.7493\n",
      "Precision: 0.7454\n",
      "Recall: 0.7572\n",
      "Specificity: 0.7414\n",
      "ROC AUC: 0.8143\n",
      "\n",
      "Confusion matrix:\n",
      "[[3707 1293]\n",
      " [1214 3786]]\n",
      "\n",
      "Classificatin report:\n",
      "              precision    recall  f1-score   support\n",
      "\n",
      "           0       0.75      0.74      0.75      5000\n",
      "           1       0.75      0.76      0.75      5000\n",
      "\n",
      "    accuracy                           0.75     10000\n",
      "   macro avg       0.75      0.75      0.75     10000\n",
      "weighted avg       0.75      0.75      0.75     10000\n",
      "\n"
     ]
    },
    {
     "name": "stderr",
     "output_type": "stream",
     "text": [
      "Last model: SVM_Lineaire with BoW_lem:  38%|███▊      | 6/16 [01:06<01:36,  9.68s/it]   "
     ]
    },
    {
     "name": "stdout",
     "output_type": "stream",
     "text": [
      "Accuracy: 0.7493\n",
      "Specificity: 0.7414\n",
      "ROC AUC test: 0.8143\n",
      "Training time: 5.54 secondes\n",
      "🏃 View run Basic_Model_SVM_Lineaire_BoW_lem at: http://localhost:8080/#/experiments/582216974290491259/runs/51b069d4f5ee466c9625e0a8e4609de9\n",
      "🧪 View experiment at: http://localhost:8080/#/experiments/582216974290491259\n",
      "\n",
      "================================================================================\n",
      "Starting training for SVM_Lineaire with TF-IDF_stem...\n"
     ]
    },
    {
     "name": "stderr",
     "output_type": "stream",
     "text": [
      "2025/09/05 14:56:16 WARNING mlflow.sklearn: Failed to log training dataset information to MLflow Tracking. Reason: 'Series' object has no attribute 'flatten'\n",
      "2025/09/05 14:56:20 WARNING mlflow.models.model: `artifact_path` is deprecated. Please use `name` instead.\n"
     ]
    },
    {
     "name": "stdout",
     "output_type": "stream",
     "text": [
      "\n",
      "Results for SVM_Lineaire with TF-IDF_stem:\n",
      "Accuracy: 0.7602\n",
      "Precision: 0.7590\n",
      "Recall: 0.7626\n",
      "Specificity: 0.7578\n",
      "ROC AUC: 0.8387\n",
      "\n",
      "Confusion matrix:\n",
      "[[3789 1211]\n",
      " [1187 3813]]\n",
      "\n",
      "Classificatin report:\n",
      "              precision    recall  f1-score   support\n",
      "\n",
      "           0       0.76      0.76      0.76      5000\n",
      "           1       0.76      0.76      0.76      5000\n",
      "\n",
      "    accuracy                           0.76     10000\n",
      "   macro avg       0.76      0.76      0.76     10000\n",
      "weighted avg       0.76      0.76      0.76     10000\n",
      "\n"
     ]
    },
    {
     "name": "stderr",
     "output_type": "stream",
     "text": [
      "Last model: SVM_Lineaire with TF-IDF_stem:  44%|████▍     | 7/16 [01:13<01:21,  9.07s/it]"
     ]
    },
    {
     "name": "stdout",
     "output_type": "stream",
     "text": [
      "Accuracy: 0.7602\n",
      "Specificity: 0.7578\n",
      "ROC AUC test: 0.8387\n",
      "Training time: 5.61 secondes\n",
      "🏃 View run Basic_Model_SVM_Lineaire_TF-IDF_stem at: http://localhost:8080/#/experiments/582216974290491259/runs/c88d9c4e1e0a4c8fae51244012405284\n",
      "🧪 View experiment at: http://localhost:8080/#/experiments/582216974290491259\n",
      "\n",
      "================================================================================\n",
      "Starting training for SVM_Lineaire with BoW_stem...\n"
     ]
    },
    {
     "name": "stderr",
     "output_type": "stream",
     "text": [
      "2025/09/05 14:56:24 WARNING mlflow.sklearn: Failed to log training dataset information to MLflow Tracking. Reason: 'Series' object has no attribute 'flatten'\n",
      "2025/09/05 14:56:29 WARNING mlflow.models.model: `artifact_path` is deprecated. Please use `name` instead.\n"
     ]
    },
    {
     "name": "stdout",
     "output_type": "stream",
     "text": [
      "\n",
      "Results for SVM_Lineaire with BoW_stem:\n",
      "Accuracy: 0.7424\n",
      "Precision: 0.7392\n",
      "Recall: 0.7490\n",
      "Specificity: 0.7358\n",
      "ROC AUC: 0.8092\n",
      "\n",
      "Confusion matrix:\n",
      "[[3679 1321]\n",
      " [1255 3745]]\n",
      "\n",
      "Classificatin report:\n",
      "              precision    recall  f1-score   support\n",
      "\n",
      "           0       0.75      0.74      0.74      5000\n",
      "           1       0.74      0.75      0.74      5000\n",
      "\n",
      "    accuracy                           0.74     10000\n",
      "   macro avg       0.74      0.74      0.74     10000\n",
      "weighted avg       0.74      0.74      0.74     10000\n",
      "\n"
     ]
    },
    {
     "name": "stderr",
     "output_type": "stream",
     "text": [
      "Last model: SVM_Lineaire with BoW_stem:  50%|█████     | 8/16 [01:22<01:10,  8.83s/it]   "
     ]
    },
    {
     "name": "stdout",
     "output_type": "stream",
     "text": [
      "Accuracy: 0.7424\n",
      "Specificity: 0.7358\n",
      "ROC AUC test: 0.8092\n",
      "Training time: 6.09 secondes\n",
      "🏃 View run Basic_Model_SVM_Lineaire_BoW_stem at: http://localhost:8080/#/experiments/582216974290491259/runs/a9228eb4f9fa4f52aa99d580a2298a34\n",
      "🧪 View experiment at: http://localhost:8080/#/experiments/582216974290491259\n",
      "\n",
      "================================================================================\n",
      "Starting training for Random_Forest with TF-IDF_lem...\n"
     ]
    },
    {
     "name": "stderr",
     "output_type": "stream",
     "text": [
      "2025/09/05 14:56:32 WARNING mlflow.sklearn: Failed to log training dataset information to MLflow Tracking. Reason: 'Series' object has no attribute 'flatten'\n",
      "2025/09/05 15:00:39 WARNING mlflow.utils.autologging_utils: Encountered unexpected error during sklearn autologging: The following failures occurred while performing one or more logging operations: [MlflowException('Failed to perform one or more operations on the run with ID f34cd6e98f1646e399aeb36950ec1599. Failed operations: [MlflowException(\"API request to http://localhost:8080/api/2.0/mlflow/runs/log-batch failed with exception HTTPConnectionPool(host=\\'localhost\\', port=8080): Max retries exceeded with url: /api/2.0/mlflow/runs/log-batch (Caused by ResponseError(\\'too many 500 error responses\\'))\")]')]\n"
     ]
    },
    {
     "name": "stdout",
     "output_type": "stream",
     "text": [
      "\n",
      "Results for Random_Forest with TF-IDF_lem:\n",
      "Accuracy: 0.7503\n",
      "Precision: 0.7508\n",
      "Recall: 0.7494\n",
      "Specificity: 0.7512\n",
      "ROC AUC: 0.8277\n",
      "\n",
      "Confusion matrix:\n",
      "[[3756 1244]\n",
      " [1253 3747]]\n",
      "\n",
      "Classificatin report:\n",
      "              precision    recall  f1-score   support\n",
      "\n",
      "           0       0.75      0.75      0.75      5000\n",
      "           1       0.75      0.75      0.75      5000\n",
      "\n",
      "    accuracy                           0.75     10000\n",
      "   macro avg       0.75      0.75      0.75     10000\n",
      "weighted avg       0.75      0.75      0.75     10000\n",
      "\n"
     ]
    },
    {
     "name": "stderr",
     "output_type": "stream",
     "text": [
      "2025/09/05 15:00:41 WARNING mlflow.models.model: `artifact_path` is deprecated. Please use `name` instead.\n",
      "Last model: Random_Forest with TF-IDF_lem:  56%|█████▋    | 9/16 [05:36<09:59, 85.67s/it]"
     ]
    },
    {
     "name": "stdout",
     "output_type": "stream",
     "text": [
      "Accuracy: 0.7503\n",
      "Specificity: 0.7512\n",
      "ROC AUC test: 0.8277\n",
      "Training time: 249.07 secondes\n",
      "🏃 View run Basic_Model_Random_Forest_TF-IDF_lem at: http://localhost:8080/#/experiments/582216974290491259/runs/f34cd6e98f1646e399aeb36950ec1599\n",
      "🧪 View experiment at: http://localhost:8080/#/experiments/582216974290491259\n",
      "\n",
      "================================================================================\n",
      "Starting training for Random_Forest with BoW_lem...\n"
     ]
    },
    {
     "name": "stderr",
     "output_type": "stream",
     "text": [
      "2025/09/05 15:00:47 WARNING mlflow.sklearn: Failed to log training dataset information to MLflow Tracking. Reason: 'Series' object has no attribute 'flatten'\n",
      "2025/09/05 15:04:54 WARNING mlflow.utils.autologging_utils: Encountered unexpected error during sklearn autologging: The following failures occurred while performing one or more logging operations: [MlflowException('Failed to perform one or more operations on the run with ID 8e958c0a3d49472b8ad128459d5510a3. Failed operations: [MlflowException(\"API request to http://localhost:8080/api/2.0/mlflow/runs/log-batch failed with exception HTTPConnectionPool(host=\\'localhost\\', port=8080): Max retries exceeded with url: /api/2.0/mlflow/runs/log-batch (Caused by ResponseError(\\'too many 500 error responses\\'))\")]')]\n",
      "2025/09/05 15:04:56 WARNING mlflow.models.model: `artifact_path` is deprecated. Please use `name` instead.\n"
     ]
    },
    {
     "name": "stdout",
     "output_type": "stream",
     "text": [
      "\n",
      "Results for Random_Forest with BoW_lem:\n",
      "Accuracy: 0.7477\n",
      "Precision: 0.7544\n",
      "Recall: 0.7346\n",
      "Specificity: 0.7608\n",
      "ROC AUC: 0.8255\n",
      "\n",
      "Confusion matrix:\n",
      "[[3804 1196]\n",
      " [1327 3673]]\n",
      "\n",
      "Classificatin report:\n",
      "              precision    recall  f1-score   support\n",
      "\n",
      "           0       0.74      0.76      0.75      5000\n",
      "           1       0.75      0.73      0.74      5000\n",
      "\n",
      "    accuracy                           0.75     10000\n",
      "   macro avg       0.75      0.75      0.75     10000\n",
      "weighted avg       0.75      0.75      0.75     10000\n",
      "\n"
     ]
    },
    {
     "name": "stderr",
     "output_type": "stream",
     "text": [
      "Last model: Random_Forest with BoW_lem:  62%|██████▎   | 10/16 [09:51<13:47, 137.84s/it]   "
     ]
    },
    {
     "name": "stdout",
     "output_type": "stream",
     "text": [
      "Accuracy: 0.7477\n",
      "Specificity: 0.7608\n",
      "ROC AUC test: 0.8255\n",
      "Training time: 249.21 secondes\n",
      "🏃 View run Basic_Model_Random_Forest_BoW_lem at: http://localhost:8080/#/experiments/582216974290491259/runs/8e958c0a3d49472b8ad128459d5510a3\n",
      "🧪 View experiment at: http://localhost:8080/#/experiments/582216974290491259\n",
      "\n",
      "================================================================================\n",
      "Starting training for Random_Forest with TF-IDF_stem...\n"
     ]
    },
    {
     "name": "stderr",
     "output_type": "stream",
     "text": [
      "2025/09/05 15:05:01 WARNING mlflow.sklearn: Failed to log training dataset information to MLflow Tracking. Reason: 'Series' object has no attribute 'flatten'\n",
      "2025/09/05 15:09:08 WARNING mlflow.utils.autologging_utils: Encountered unexpected error during sklearn autologging: The following failures occurred while performing one or more logging operations: [MlflowException('Failed to perform one or more operations on the run with ID 395afeb1516c4d818e7a4add4ff6e8cc. Failed operations: [MlflowException(\"API request to http://localhost:8080/api/2.0/mlflow/runs/log-batch failed with exception HTTPConnectionPool(host=\\'localhost\\', port=8080): Max retries exceeded with url: /api/2.0/mlflow/runs/log-batch (Caused by ResponseError(\\'too many 500 error responses\\'))\")]')]\n"
     ]
    },
    {
     "name": "stdout",
     "output_type": "stream",
     "text": [
      "\n",
      "Results for Random_Forest with TF-IDF_stem:\n",
      "Accuracy: 0.7522\n",
      "Precision: 0.7555\n",
      "Recall: 0.7458\n",
      "Specificity: 0.7586\n",
      "ROC AUC: 0.8317\n",
      "\n",
      "Confusion matrix:\n",
      "[[3793 1207]\n",
      " [1271 3729]]\n",
      "\n",
      "Classificatin report:\n",
      "              precision    recall  f1-score   support\n",
      "\n",
      "           0       0.75      0.76      0.75      5000\n",
      "           1       0.76      0.75      0.75      5000\n",
      "\n",
      "    accuracy                           0.75     10000\n",
      "   macro avg       0.75      0.75      0.75     10000\n",
      "weighted avg       0.75      0.75      0.75     10000\n",
      "\n"
     ]
    },
    {
     "name": "stderr",
     "output_type": "stream",
     "text": [
      "2025/09/05 15:09:10 WARNING mlflow.models.model: `artifact_path` is deprecated. Please use `name` instead.\n",
      "Last model: Random_Forest with TF-IDF_stem:  69%|██████▉   | 11/16 [14:17<14:45, 177.15s/it]"
     ]
    },
    {
     "name": "stdout",
     "output_type": "stream",
     "text": [
      "Accuracy: 0.7522\n",
      "Specificity: 0.7586\n",
      "ROC AUC test: 0.8317\n",
      "Training time: 248.77 secondes\n",
      "🏃 View run Basic_Model_Random_Forest_TF-IDF_stem at: http://localhost:8080/#/experiments/582216974290491259/runs/395afeb1516c4d818e7a4add4ff6e8cc\n",
      "🧪 View experiment at: http://localhost:8080/#/experiments/582216974290491259\n",
      "\n",
      "================================================================================\n",
      "Starting training for Random_Forest with BoW_stem...\n"
     ]
    },
    {
     "name": "stderr",
     "output_type": "stream",
     "text": [
      "2025/09/05 15:09:31 WARNING mlflow.sklearn: Failed to log training dataset information to MLflow Tracking. Reason: 'Series' object has no attribute 'flatten'\n",
      "2025/09/05 15:13:37 WARNING mlflow.utils.autologging_utils: Encountered unexpected error during sklearn autologging: The following failures occurred while performing one or more logging operations: [MlflowException('Failed to perform one or more operations on the run with ID 071bf3b8980b4c27bca8a36eb305fb20. Failed operations: [MlflowException(\"API request to http://localhost:8080/api/2.0/mlflow/runs/log-batch failed with exception HTTPConnectionPool(host=\\'localhost\\', port=8080): Max retries exceeded with url: /api/2.0/mlflow/runs/log-batch (Caused by ResponseError(\\'too many 500 error responses\\'))\")]')]\n",
      "2025/09/05 15:13:39 WARNING mlflow.models.model: `artifact_path` is deprecated. Please use `name` instead.\n"
     ]
    },
    {
     "name": "stdout",
     "output_type": "stream",
     "text": [
      "\n",
      "Results for Random_Forest with BoW_stem:\n",
      "Accuracy: 0.7498\n",
      "Precision: 0.7604\n",
      "Recall: 0.7294\n",
      "Specificity: 0.7702\n",
      "ROC AUC: 0.8285\n",
      "\n",
      "Confusion matrix:\n",
      "[[3851 1149]\n",
      " [1353 3647]]\n",
      "\n",
      "Classificatin report:\n",
      "              precision    recall  f1-score   support\n",
      "\n",
      "           0       0.74      0.77      0.75      5000\n",
      "           1       0.76      0.73      0.74      5000\n",
      "\n",
      "    accuracy                           0.75     10000\n",
      "   macro avg       0.75      0.75      0.75     10000\n",
      "weighted avg       0.75      0.75      0.75     10000\n",
      "\n"
     ]
    },
    {
     "name": "stderr",
     "output_type": "stream",
     "text": [
      "Last model: Random_Forest with BoW_stem:  75%|███████▌  | 12/16 [18:35<13:26, 201.53s/it]   "
     ]
    },
    {
     "name": "stdout",
     "output_type": "stream",
     "text": [
      "Accuracy: 0.7498\n",
      "Specificity: 0.7702\n",
      "ROC AUC test: 0.8285\n",
      "Training time: 251.11 secondes\n",
      "🏃 View run Basic_Model_Random_Forest_BoW_stem at: http://localhost:8080/#/experiments/582216974290491259/runs/071bf3b8980b4c27bca8a36eb305fb20\n",
      "🧪 View experiment at: http://localhost:8080/#/experiments/582216974290491259\n",
      "\n",
      "================================================================================\n",
      "Starting training for Naive_Bayes with TF-IDF_lem...\n"
     ]
    },
    {
     "name": "stderr",
     "output_type": "stream",
     "text": [
      "2025/09/05 15:13:45 WARNING mlflow.sklearn: Failed to log training dataset information to MLflow Tracking. Reason: 'Series' object has no attribute 'flatten'\n",
      "2025/09/05 15:13:50 WARNING mlflow.models.model: `artifact_path` is deprecated. Please use `name` instead.\n"
     ]
    },
    {
     "name": "stdout",
     "output_type": "stream",
     "text": [
      "\n",
      "Results for Naive_Bayes with TF-IDF_lem:\n",
      "Accuracy: 0.7597\n",
      "Precision: 0.7683\n",
      "Recall: 0.7436\n",
      "Specificity: 0.7758\n",
      "ROC AUC: 0.8427\n",
      "\n",
      "Confusion matrix:\n",
      "[[3879 1121]\n",
      " [1282 3718]]\n",
      "\n",
      "Classificatin report:\n",
      "              precision    recall  f1-score   support\n",
      "\n",
      "           0       0.75      0.78      0.76      5000\n",
      "           1       0.77      0.74      0.76      5000\n",
      "\n",
      "    accuracy                           0.76     10000\n",
      "   macro avg       0.76      0.76      0.76     10000\n",
      "weighted avg       0.76      0.76      0.76     10000\n",
      "\n"
     ]
    },
    {
     "name": "stderr",
     "output_type": "stream",
     "text": [
      "Last model: Naive_Bayes with TF-IDF_lem:  81%|████████▏ | 13/16 [18:43<07:09, 143.09s/it]"
     ]
    },
    {
     "name": "stdout",
     "output_type": "stream",
     "text": [
      "Accuracy: 0.7597\n",
      "Specificity: 0.7758\n",
      "ROC AUC test: 0.8427\n",
      "Training time: 5.43 secondes\n",
      "🏃 View run Basic_Model_Naive_Bayes_TF-IDF_lem at: http://localhost:8080/#/experiments/582216974290491259/runs/028086739302428f87f7de6193227ab8\n",
      "🧪 View experiment at: http://localhost:8080/#/experiments/582216974290491259\n",
      "\n",
      "================================================================================\n",
      "Starting training for Naive_Bayes with BoW_lem...\n"
     ]
    },
    {
     "name": "stderr",
     "output_type": "stream",
     "text": [
      "2025/09/05 15:13:53 WARNING mlflow.sklearn: Failed to log training dataset information to MLflow Tracking. Reason: 'Series' object has no attribute 'flatten'\n",
      "2025/09/05 15:13:58 WARNING mlflow.models.model: `artifact_path` is deprecated. Please use `name` instead.\n"
     ]
    },
    {
     "name": "stdout",
     "output_type": "stream",
     "text": [
      "\n",
      "Results for Naive_Bayes with BoW_lem:\n",
      "Accuracy: 0.7609\n",
      "Precision: 0.7685\n",
      "Recall: 0.7468\n",
      "Specificity: 0.7750\n",
      "ROC AUC: 0.8346\n",
      "\n",
      "Confusion matrix:\n",
      "[[3875 1125]\n",
      " [1266 3734]]\n",
      "\n",
      "Classificatin report:\n",
      "              precision    recall  f1-score   support\n",
      "\n",
      "           0       0.75      0.78      0.76      5000\n",
      "           1       0.77      0.75      0.76      5000\n",
      "\n",
      "    accuracy                           0.76     10000\n",
      "   macro avg       0.76      0.76      0.76     10000\n",
      "weighted avg       0.76      0.76      0.76     10000\n",
      "\n"
     ]
    },
    {
     "name": "stderr",
     "output_type": "stream",
     "text": [
      "Last model: Naive_Bayes with BoW_lem:  88%|████████▊ | 14/16 [18:52<03:24, 102.43s/it]   "
     ]
    },
    {
     "name": "stdout",
     "output_type": "stream",
     "text": [
      "Accuracy: 0.7609\n",
      "Specificity: 0.7750\n",
      "ROC AUC test: 0.8346\n",
      "Training time: 5.66 secondes\n",
      "🏃 View run Basic_Model_Naive_Bayes_BoW_lem at: http://localhost:8080/#/experiments/582216974290491259/runs/56aa04db25e845c9b1dcc991a748535c\n",
      "🧪 View experiment at: http://localhost:8080/#/experiments/582216974290491259\n",
      "\n",
      "================================================================================\n",
      "Starting training for Naive_Bayes with TF-IDF_stem...\n"
     ]
    },
    {
     "name": "stderr",
     "output_type": "stream",
     "text": [
      "2025/09/05 15:14:02 WARNING mlflow.sklearn: Failed to log training dataset information to MLflow Tracking. Reason: 'Series' object has no attribute 'flatten'\n",
      "2025/09/05 15:14:07 WARNING mlflow.models.model: `artifact_path` is deprecated. Please use `name` instead.\n"
     ]
    },
    {
     "name": "stdout",
     "output_type": "stream",
     "text": [
      "\n",
      "Results for Naive_Bayes with TF-IDF_stem:\n",
      "Accuracy: 0.7579\n",
      "Precision: 0.7684\n",
      "Recall: 0.7384\n",
      "Specificity: 0.7774\n",
      "ROC AUC: 0.8430\n",
      "\n",
      "Confusion matrix:\n",
      "[[3887 1113]\n",
      " [1308 3692]]\n",
      "\n",
      "Classificatin report:\n",
      "              precision    recall  f1-score   support\n",
      "\n",
      "           0       0.75      0.78      0.76      5000\n",
      "           1       0.77      0.74      0.75      5000\n",
      "\n",
      "    accuracy                           0.76     10000\n",
      "   macro avg       0.76      0.76      0.76     10000\n",
      "weighted avg       0.76      0.76      0.76     10000\n",
      "\n"
     ]
    },
    {
     "name": "stderr",
     "output_type": "stream",
     "text": [
      "Last model: Naive_Bayes with TF-IDF_stem:  94%|█████████▍| 15/16 [19:00<01:13, 73.96s/it]"
     ]
    },
    {
     "name": "stdout",
     "output_type": "stream",
     "text": [
      "Accuracy: 0.7579\n",
      "Specificity: 0.7774\n",
      "ROC AUC test: 0.8430\n",
      "Training time: 5.74 secondes\n",
      "🏃 View run Basic_Model_Naive_Bayes_TF-IDF_stem at: http://localhost:8080/#/experiments/582216974290491259/runs/8a2b3e5bfec64fc5ad461f2e56b5ddb2\n",
      "🧪 View experiment at: http://localhost:8080/#/experiments/582216974290491259\n",
      "\n",
      "================================================================================\n",
      "Starting training for Naive_Bayes with BoW_stem...\n"
     ]
    },
    {
     "name": "stderr",
     "output_type": "stream",
     "text": [
      "2025/09/05 15:14:10 WARNING mlflow.sklearn: Failed to log training dataset information to MLflow Tracking. Reason: 'Series' object has no attribute 'flatten'\n",
      "2025/09/05 15:14:15 WARNING mlflow.models.model: `artifact_path` is deprecated. Please use `name` instead.\n"
     ]
    },
    {
     "name": "stdout",
     "output_type": "stream",
     "text": [
      "\n",
      "Results for Naive_Bayes with BoW_stem:\n",
      "Accuracy: 0.7602\n",
      "Precision: 0.7684\n",
      "Recall: 0.7450\n",
      "Specificity: 0.7754\n",
      "ROC AUC: 0.8356\n",
      "\n",
      "Confusion matrix:\n",
      "[[3877 1123]\n",
      " [1275 3725]]\n",
      "\n",
      "Classificatin report:\n",
      "              precision    recall  f1-score   support\n",
      "\n",
      "           0       0.75      0.78      0.76      5000\n",
      "           1       0.77      0.74      0.76      5000\n",
      "\n",
      "    accuracy                           0.76     10000\n",
      "   macro avg       0.76      0.76      0.76     10000\n",
      "weighted avg       0.76      0.76      0.76     10000\n",
      "\n"
     ]
    },
    {
     "name": "stderr",
     "output_type": "stream",
     "text": [
      "Last model: Naive_Bayes with BoW_stem: 100%|██████████| 16/16 [19:09<00:00, 71.81s/it]   "
     ]
    },
    {
     "name": "stdout",
     "output_type": "stream",
     "text": [
      "Accuracy: 0.7602\n",
      "Specificity: 0.7754\n",
      "ROC AUC test: 0.8356\n",
      "Training time: 6.24 secondes\n",
      "🏃 View run Basic_Model_Naive_Bayes_BoW_stem at: http://localhost:8080/#/experiments/582216974290491259/runs/bd8d8b21bfbd493e9fe7f5c38808b15b\n",
      "🧪 View experiment at: http://localhost:8080/#/experiments/582216974290491259\n"
     ]
    },
    {
     "name": "stderr",
     "output_type": "stream",
     "text": [
      "\n"
     ]
    }
   ],
   "source": [
    "train_models = True  # Set to True to train models\n",
    "if train_models:\n",
    "\n",
    "    # Total iterations for the progress bar\n",
    "    total_iterations = len(base_models) * len(vectorizers)\n",
    "    progress_bar = tqdm(total=total_iterations, desc=\"Overall Progress\")\n",
    "\n",
    "    results = []\n",
    "\n",
    "    # Test each model with the two types of vectorization\n",
    "    for model_name, base_model in base_models.items():\n",
    "        for vectorizer_name, (vectorizer, X_train_vec, X_test_vec, y_train_vec, y_test_vec) in vectorizers.items():\n",
    "            print(f\"\\n{'='*80}\")\n",
    "            print(f\"Starting training for {model_name} with {vectorizer_name}...\")\n",
    "\n",
    "            # Start MLflow run\n",
    "            with mlflow.start_run(run_name=f\"Basic_Model_{model_name}_{vectorizer_name}\"):\n",
    "                # Log parameters\n",
    "                mlflow.log_param(\"model_type\", model_name)\n",
    "                mlflow.log_param(\"vectorizer_type\", vectorizer_name)\n",
    "                mlflow.log_param(\"dataset_size\", X_train_shape[0] + X_test_shape[0])\n",
    "                mlflow.log_param(\"train_size\", X_train_shape[0])\n",
    "                mlflow.log_param(\"test_size\", X_test_shape[0])\n",
    "                mlflow.log_param(\"max_features\", 10000)\n",
    "                mlflow.log_param(\"ngram_range\", \"(1, 2)\")\n",
    "\n",
    "                # Initialize the timer\n",
    "                start_time = time.time()\n",
    "\n",
    "                # Train the model\n",
    "                base_model.fit(X_train_vec, y_train_vec)\n",
    "\n",
    "                # Training time\n",
    "                training_time = time.time() - start_time\n",
    "\n",
    "                # Log the training time\n",
    "                mlflow.log_metric(\"training_time\", training_time)\n",
    "\n",
    "                # Evaluate the best model on the test set\n",
    "                acc, prec, rec, specificity, roc_auc, fig_cm, fig_roc, y_pred = evaluate_model(\n",
    "                    base_model, X_test_vec, y_test_vec, model_name, vectorizer_name\n",
    "                )\n",
    "\n",
    "                # Log metrics\n",
    "                mlflow.log_metric(\"accuracy\", acc)\n",
    "                mlflow.log_metric(\"precision\", prec)\n",
    "                mlflow.log_metric(\"recall\", rec)\n",
    "                mlflow.log_metric(\"specificity\", specificity)\n",
    "                mlflow.log_metric(\"roc_auc\", roc_auc)\n",
    "\n",
    "                # Log confusion matrix and ROC curve figures\n",
    "                mlflow.log_figure(fig_cm, \"confusion_matrix.png\")\n",
    "                mlflow.log_figure(fig_roc, \"roc_curve.png\")\n",
    "                plt.close(fig_cm)\n",
    "                plt.close(fig_roc)\n",
    "\n",
    "                # Log the model\n",
    "                signature = infer_signature(X_train_vec, y_pred)\n",
    "                mlflow.sklearn.log_model(base_model, \"model\", signature=signature)\n",
    "\n",
    "                # Save the model artifacts into a specific directory\n",
    "                os.makedirs(\"./content/basic-model\", exist_ok=True)\n",
    "\n",
    "                # Save and log the vectorizer\n",
    "                vectorizer_path = f\"./content/basic-model/vectorizer_{vectorizer_name}.pkl\"\n",
    "                with open(vectorizer_path, \"wb\") as f:\n",
    "                    pickle.dump(vectorizer, f)\n",
    "                mlflow.log_artifact(vectorizer_path)\n",
    "\n",
    "                # Save the results in a list\n",
    "                results.append({\n",
    "                    \"Model\": model_name.replace(\"_\", \" \"),\n",
    "                    \"Vectorization\": vectorizer_name,\n",
    "                    \"Accuracy\": acc,\n",
    "                    \"Precision\": prec,\n",
    "                    \"Recall\": rec,\n",
    "                    \"ROC AUC\": roc_auc,\n",
    "                    \"Training time (s)\": training_time\n",
    "                })\n",
    "\n",
    "                # Display the results\n",
    "                print(f\"Accuracy: {acc:.4f}\")\n",
    "                print(f\"Specificity: {specificity:.4f}\")\n",
    "                print(f\"ROC AUC test: {roc_auc:.4f}\")\n",
    "                print(f\"Training time: {training_time:.2f} secondes\")\n",
    "\n",
    "\n",
    "            # Update the progress bar\n",
    "            progress_bar.update(1)\n",
    "            progress_bar.set_description(f\"Last model: {model_name} with {vectorizer_name}\")\n",
    "\n",
    "    progress_bar.close()"
   ]
  },
  {
   "cell_type": "markdown",
   "metadata": {},
   "source": [
    "## Evaluation"
   ]
  },
  {
   "cell_type": "code",
   "execution_count": 27,
   "metadata": {},
   "outputs": [],
   "source": [
    "# Get mlflow results\n",
    "def get_mlflow_results(experiment_name:str =\"P7-Sentiments_Analysis\", run_name: str = \"Basic_Model\", uri: str = None):\n",
    "    \"\"\"\n",
    "    Retrieves the results of the MLflow runs for the basic models.\n",
    "    Args:\n",
    "        experiment_name (str): The name of the MLflow experiment to search in.\n",
    "        run_name (str): The name of the runs to filter by.\n",
    "        uri (str): Optional; the URI of the MLflow tracking server. If None, uses the default tracking URI.\n",
    "    Returns:\n",
    "        pd.DataFrame: A DataFrame containing the results of the MLflow runs.\n",
    "    \"\"\"\n",
    "    # Connect to the MLflow tracking server\n",
    "    if uri:\n",
    "        mlflow.set_tracking_uri(uri)\n",
    "\n",
    "    # Create mlflow client\n",
    "    client = MlflowClient()\n",
    "\n",
    "    # Get the experiment ID by name\n",
    "    try:\n",
    "        experiment = client.get_experiment_by_name(experiment_name)\n",
    "        if not experiment:\n",
    "            raise ValueError(f\"Experiment '{experiment_name}' not found.\")\n",
    "        experiment_id = experiment.experiment_id\n",
    "    except Exception as e:\n",
    "        print(f\"Error retrieving experiment '{experiment_name}': {experiment}\")\n",
    "        return pd.DataFrame()\n",
    "\n",
    "    # Load the MLflow runs\n",
    "    runs = client.search_runs(experiment_ids=[experiment_id],\n",
    "                            filter_string=f\"tags.mlflow.runName LIKE '%{run_name}%'\",\n",
    "                            order_by=[\"metrics.specificity DESC\"])\n",
    "\n",
    "    # Store results in a list\n",
    "    results = []\n",
    "\n",
    "    for run in runs:\n",
    "        # Get run name\n",
    "        run_name = run.data.tags.get(\"mlflow.runName\", \"\")\n",
    "\n",
    "        # Get model type and vectorization type\n",
    "        model_type = run.data.params.get(\"model_type\", \"\")\n",
    "        vectorization_type = run.data.params.get(\"vectorizer_type\", \"\")\n",
    "\n",
    "        # Rename model\n",
    "        model_type = model_type.replace(\"_\", \" \")\n",
    "\n",
    "        # Get metrics\n",
    "        metrics = run.data.metrics\n",
    "\n",
    "        results.append({\n",
    "            \"Run Name\": run_name,\n",
    "            \"Model\": model_type,\n",
    "            \"Vectorization\": vectorization_type,\n",
    "            \"Accuracy\": metrics.get(\"accuracy\", None),\n",
    "            \"Precision\": metrics.get(\"precision\", None),\n",
    "            \"Recall\": metrics.get(\"recall\", None),\n",
    "            \"Specificity\": metrics.get(\"specificity\", None),\n",
    "            \"ROC AUC\": metrics.get(\"roc_auc\", None),\n",
    "            \"Training Time (s)\": metrics.get(\"training_time\", None)\n",
    "        })\n",
    "\n",
    "    results_df = pd.DataFrame(results)\n",
    "    if not results_df.empty and \"Specificity\" in results_df.columns:\n",
    "        results_df = results_df.sort_values(by=\"Specificity\", ascending=False)\n",
    "        results_df.reset_index(drop=True, inplace=True)\n",
    "\n",
    "    return results_df"
   ]
  },
  {
   "cell_type": "code",
   "execution_count": 33,
   "metadata": {},
   "outputs": [],
   "source": [
    "results_df = get_mlflow_results(experiment_name=\"P7-Sentiments_Analysis\", run_name=\"Basic_Model_\", uri=tracking_uri)"
   ]
  },
  {
   "cell_type": "code",
   "execution_count": 34,
   "metadata": {},
   "outputs": [
    {
     "data": {
      "text/html": [
       "<div>\n",
       "<style scoped>\n",
       "    .dataframe tbody tr th:only-of-type {\n",
       "        vertical-align: middle;\n",
       "    }\n",
       "\n",
       "    .dataframe tbody tr th {\n",
       "        vertical-align: top;\n",
       "    }\n",
       "\n",
       "    .dataframe thead th {\n",
       "        text-align: right;\n",
       "    }\n",
       "</style>\n",
       "<table border=\"1\" class=\"dataframe\">\n",
       "  <thead>\n",
       "    <tr style=\"text-align: right;\">\n",
       "      <th></th>\n",
       "      <th>Run Name</th>\n",
       "      <th>Model</th>\n",
       "      <th>Vectorization</th>\n",
       "      <th>Accuracy</th>\n",
       "      <th>Precision</th>\n",
       "      <th>Recall</th>\n",
       "      <th>Specificity</th>\n",
       "      <th>ROC AUC</th>\n",
       "      <th>Training Time (s)</th>\n",
       "    </tr>\n",
       "  </thead>\n",
       "  <tbody>\n",
       "    <tr>\n",
       "      <th>0</th>\n",
       "      <td>Basic_Model_Naive_Bayes_TF-IDF_stem</td>\n",
       "      <td>Naive Bayes</td>\n",
       "      <td>TF-IDF_stem</td>\n",
       "      <td>0.7579</td>\n",
       "      <td>0.768366</td>\n",
       "      <td>0.7384</td>\n",
       "      <td>0.7774</td>\n",
       "      <td>0.843038</td>\n",
       "      <td>5.739339</td>\n",
       "    </tr>\n",
       "    <tr>\n",
       "      <th>1</th>\n",
       "      <td>Basic_Model_Naive_Bayes_TF-IDF_stem</td>\n",
       "      <td>Naive Bayes</td>\n",
       "      <td>TF-IDF_stem</td>\n",
       "      <td>0.7579</td>\n",
       "      <td>0.768366</td>\n",
       "      <td>0.7384</td>\n",
       "      <td>0.7774</td>\n",
       "      <td>0.843038</td>\n",
       "      <td>5.383470</td>\n",
       "    </tr>\n",
       "    <tr>\n",
       "      <th>2</th>\n",
       "      <td>Basic_Model_Naive_Bayes_TF-IDF_lem</td>\n",
       "      <td>Naive Bayes</td>\n",
       "      <td>TF-IDF_lem</td>\n",
       "      <td>0.7597</td>\n",
       "      <td>0.768341</td>\n",
       "      <td>0.7436</td>\n",
       "      <td>0.7758</td>\n",
       "      <td>0.842707</td>\n",
       "      <td>5.431446</td>\n",
       "    </tr>\n",
       "    <tr>\n",
       "      <th>3</th>\n",
       "      <td>Basic_Model_Naive_Bayes_TF-IDF_lem</td>\n",
       "      <td>Naive Bayes</td>\n",
       "      <td>TF-IDF_lem</td>\n",
       "      <td>0.7597</td>\n",
       "      <td>0.768341</td>\n",
       "      <td>0.7436</td>\n",
       "      <td>0.7758</td>\n",
       "      <td>0.842707</td>\n",
       "      <td>6.308797</td>\n",
       "    </tr>\n",
       "    <tr>\n",
       "      <th>4</th>\n",
       "      <td>Basic_Model_Naive_Bayes_BoW_stem</td>\n",
       "      <td>Naive Bayes</td>\n",
       "      <td>BoW_stem</td>\n",
       "      <td>0.7602</td>\n",
       "      <td>0.768358</td>\n",
       "      <td>0.7450</td>\n",
       "      <td>0.7754</td>\n",
       "      <td>0.835599</td>\n",
       "      <td>6.238217</td>\n",
       "    </tr>\n",
       "    <tr>\n",
       "      <th>...</th>\n",
       "      <td>...</td>\n",
       "      <td>...</td>\n",
       "      <td>...</td>\n",
       "      <td>...</td>\n",
       "      <td>...</td>\n",
       "      <td>...</td>\n",
       "      <td>...</td>\n",
       "      <td>...</td>\n",
       "      <td>...</td>\n",
       "    </tr>\n",
       "    <tr>\n",
       "      <th>61</th>\n",
       "      <td>Basic_Model_SVM_Lineaire_TF-IDF_lem</td>\n",
       "      <td>SVM Lineaire</td>\n",
       "      <td>TF-IDF_lem</td>\n",
       "      <td>0.7724</td>\n",
       "      <td>0.769170</td>\n",
       "      <td>0.7784</td>\n",
       "      <td>NaN</td>\n",
       "      <td>0.853643</td>\n",
       "      <td>9.764943</td>\n",
       "    </tr>\n",
       "    <tr>\n",
       "      <th>62</th>\n",
       "      <td>Basic_Model_Logistic_Regression_BoW_stem</td>\n",
       "      <td>Logistic Regression</td>\n",
       "      <td>BoW_stem</td>\n",
       "      <td>0.7721</td>\n",
       "      <td>0.764843</td>\n",
       "      <td>0.7858</td>\n",
       "      <td>NaN</td>\n",
       "      <td>0.845166</td>\n",
       "      <td>18.741481</td>\n",
       "    </tr>\n",
       "    <tr>\n",
       "      <th>63</th>\n",
       "      <td>Basic_Model_Logistic_Regression_TF-IDF_stem</td>\n",
       "      <td>Logistic Regression</td>\n",
       "      <td>TF-IDF_stem</td>\n",
       "      <td>0.7724</td>\n",
       "      <td>0.772182</td>\n",
       "      <td>0.7728</td>\n",
       "      <td>NaN</td>\n",
       "      <td>0.854628</td>\n",
       "      <td>7.784519</td>\n",
       "    </tr>\n",
       "    <tr>\n",
       "      <th>64</th>\n",
       "      <td>Basic_Model_Logistic_Regression_BoW_lem</td>\n",
       "      <td>Logistic Regression</td>\n",
       "      <td>BoW_lem</td>\n",
       "      <td>0.7682</td>\n",
       "      <td>0.760895</td>\n",
       "      <td>0.7822</td>\n",
       "      <td>NaN</td>\n",
       "      <td>0.843118</td>\n",
       "      <td>19.771128</td>\n",
       "    </tr>\n",
       "    <tr>\n",
       "      <th>65</th>\n",
       "      <td>Basic_Model_Logistic_Regression_TF-IDF_lem</td>\n",
       "      <td>Logistic Regression</td>\n",
       "      <td>TF-IDF_lem</td>\n",
       "      <td>0.7721</td>\n",
       "      <td>0.769246</td>\n",
       "      <td>0.7774</td>\n",
       "      <td>NaN</td>\n",
       "      <td>0.853455</td>\n",
       "      <td>12.620126</td>\n",
       "    </tr>\n",
       "  </tbody>\n",
       "</table>\n",
       "<p>66 rows × 9 columns</p>\n",
       "</div>"
      ],
      "text/plain": [
       "                                       Run Name                Model  \\\n",
       "0           Basic_Model_Naive_Bayes_TF-IDF_stem          Naive Bayes   \n",
       "1           Basic_Model_Naive_Bayes_TF-IDF_stem          Naive Bayes   \n",
       "2            Basic_Model_Naive_Bayes_TF-IDF_lem          Naive Bayes   \n",
       "3            Basic_Model_Naive_Bayes_TF-IDF_lem          Naive Bayes   \n",
       "4              Basic_Model_Naive_Bayes_BoW_stem          Naive Bayes   \n",
       "..                                          ...                  ...   \n",
       "61          Basic_Model_SVM_Lineaire_TF-IDF_lem         SVM Lineaire   \n",
       "62     Basic_Model_Logistic_Regression_BoW_stem  Logistic Regression   \n",
       "63  Basic_Model_Logistic_Regression_TF-IDF_stem  Logistic Regression   \n",
       "64      Basic_Model_Logistic_Regression_BoW_lem  Logistic Regression   \n",
       "65   Basic_Model_Logistic_Regression_TF-IDF_lem  Logistic Regression   \n",
       "\n",
       "   Vectorization  Accuracy  Precision  Recall  Specificity   ROC AUC  \\\n",
       "0    TF-IDF_stem    0.7579   0.768366  0.7384       0.7774  0.843038   \n",
       "1    TF-IDF_stem    0.7579   0.768366  0.7384       0.7774  0.843038   \n",
       "2     TF-IDF_lem    0.7597   0.768341  0.7436       0.7758  0.842707   \n",
       "3     TF-IDF_lem    0.7597   0.768341  0.7436       0.7758  0.842707   \n",
       "4       BoW_stem    0.7602   0.768358  0.7450       0.7754  0.835599   \n",
       "..           ...       ...        ...     ...          ...       ...   \n",
       "61    TF-IDF_lem    0.7724   0.769170  0.7784          NaN  0.853643   \n",
       "62      BoW_stem    0.7721   0.764843  0.7858          NaN  0.845166   \n",
       "63   TF-IDF_stem    0.7724   0.772182  0.7728          NaN  0.854628   \n",
       "64       BoW_lem    0.7682   0.760895  0.7822          NaN  0.843118   \n",
       "65    TF-IDF_lem    0.7721   0.769246  0.7774          NaN  0.853455   \n",
       "\n",
       "    Training Time (s)  \n",
       "0            5.739339  \n",
       "1            5.383470  \n",
       "2            5.431446  \n",
       "3            6.308797  \n",
       "4            6.238217  \n",
       "..                ...  \n",
       "61           9.764943  \n",
       "62          18.741481  \n",
       "63           7.784519  \n",
       "64          19.771128  \n",
       "65          12.620126  \n",
       "\n",
       "[66 rows x 9 columns]"
      ]
     },
     "metadata": {},
     "output_type": "display_data"
    }
   ],
   "source": [
    "display(results_df)"
   ]
  },
  {
   "cell_type": "code",
   "execution_count": null,
   "metadata": {},
   "outputs": [
    {
     "data": {
      "image/png": "[encoded data removed]",
      "text/plain": [
       "<Figure size 2000x2800 with 8 Axes>"
      ]
     },
     "metadata": {},
     "output_type": "display_data"
    }
   ],
   "source": [
    "# Convert metric columns back to numeric for plotting\n",
    "metric_cols = [\"Accuracy\", \"Precision\", \"Recall\", \"Specificity\", \"ROC AUC\", \"Training Time (s)\"]\n",
    "for col in metric_cols:\n",
    "    results_df[col] = pd.to_numeric(results_df[col], errors='coerce')\n",
    "\n",
    "# Define the metrics to plot\n",
    "metrics_to_plot = [\n",
    "    \"Accuracy\", \"Precision\", \"Recall\", \"Specificity\", \"ROC AUC\", \"Training Time (s)\"\n",
    "]\n",
    "\n",
    "# Create subplots\n",
    "fig, axes = plt.subplots(nrows=4, ncols=2, figsize=(20, 28))\n",
    "axes = axes.flatten()\n",
    "\n",
    "for i, metric in enumerate(metrics_to_plot):\n",
    "    sns.barplot(data=results_df, x='Model', y=metric, hue='Vectorization', ax=axes[i], palette='viridis')\n",
    "    axes[i].set_title(f'Model Comparison by {metric}', fontsize=14)\n",
    "    axes[i].set_xlabel('Model', fontsize=12)\n",
    "    axes[i].set_ylabel(metric, fontsize=12)\n",
    "    axes[i].tick_params(axis='x', rotation=45, labelsize=10)\n",
    "    axes[i].legend(title='Vectorizer')\n",
    "\n",
    "# Adjust layout to prevent overlap and add a main title\n",
    "fig.suptitle('Model Performance Metrics by Vectorizer', fontsize=20, y=1.03)\n",
    "plt.tight_layout()\n",
    "plt.show()"
   ]
  },
  {
   "cell_type": "markdown",
   "metadata": {},
   "source": [
    "# Save best model"
   ]
  },
  {
   "cell_type": "code",
   "execution_count": 21,
   "metadata": {},
   "outputs": [],
   "source": [
    "def load_and_save_model_from_mlflow(experiment_name: str, save_dir: str = \"./content/basic-model/best\", uri: str = None) -> tuple:\n",
    "    \"\"\"\n",
    "    Loads the best model and its vectorizer from MLflow and saves them locally.\n",
    "\n",
    "    Args:\n",
    "        experiment_name (str): The name of the MLflow experiment.\n",
    "        model_name (str): The name of the model to load.\n",
    "        vectorizer_name (str): The name of the vectorizer to load.\n",
    "        save_dir (str): The directory to save the model and vectorizer.\n",
    "        uri (str): Optional; the URI of the MLflow tracking server. If None, uses the default tracking URI.\n",
    "\n",
    "    Returns:\n",
    "        Tuple: The loaded model and vectorizer.\n",
    "    \"\"\"\n",
    "    # Connect to the MLflow tracking server\n",
    "    if uri:\n",
    "        mlflow.set_tracking_uri(uri)\n",
    "\n",
    "    # Create mlflow client\n",
    "    client = MlflowClient()\n",
    "\n",
    "    # Get the experiment ID by name\n",
    "    try:\n",
    "        experiment = client.get_experiment_by_name(experiment_name)\n",
    "        if not experiment:\n",
    "            raise ValueError(f\"Experiment '{experiment_name}' not found.\")\n",
    "        experiment_id = experiment.experiment_id\n",
    "    except Exception as e:\n",
    "        print(f\"Error retrieving experiment '{experiment_name}': {experiment}\")\n",
    "        return\n",
    "\n",
    "    # Search for the best model run based on F1 score\n",
    "    model_name = results_df.iloc[0]['Model']\n",
    "    vectorizer_name = results_df.iloc[0]['Vectorization']\n",
    "    runs = client.search_runs(experiment_ids=[experiment_id],\n",
    "                              filter_string=f\"tags.mlflow.runName LIKE '%Basic_Model_{model_name.replace(' ', '_')}_{vectorizer_name}%'\",\n",
    "                              order_by=[\"metrics.f1 DESC\"],\n",
    "                              max_results=1)\n",
    "\n",
    "    if not runs:\n",
    "        print(f\"No runs found for model '{model_name}' with vectorizer '{vectorizer_name}'.\")\n",
    "        return\n",
    "\n",
    "    best_run = runs[0]\n",
    "    run_id = best_run.info.run_id\n",
    "\n",
    "    # Load the model from MLflow\n",
    "    model_uri = f\"runs:/{run_id}/model\"\n",
    "    model = mlflow.sklearn.load_model(model_uri)\n",
    "\n",
    "    # Load the vectorizer artifact\n",
    "    vectorizer_artifact_path = f\"vectorizer_{vectorizer_name}.pkl\"\n",
    "    local_vectorizer_path = client.download_artifacts(run_id, vectorizer_artifact_path, dst_path=\".\")\n",
    "    with open(local_vectorizer_path, \"rb\") as f:\n",
    "        vectorizer = pickle.load(f)\n",
    "\n",
    "    # Save the model and vectorizer locally\n",
    "    os.makedirs(save_dir, exist_ok=True)\n",
    "    model_path = os.path.join(save_dir, \"best_model.pkl\")\n",
    "    vectorizer_path = os.path.join(save_dir, f\"vectorizer_{vectorizer_name}.pkl\")\n",
    "    with open(model_path, \"wb\") as f:\n",
    "        pickle.dump(model, f)\n",
    "    with open(vectorizer_path, \"wb\") as f:\n",
    "        pickle.dump(vectorizer, f)\n",
    "    print(f\"Model and vectorizer saved to '{save_dir}'.\")\n",
    "\n",
    "    return model, vectorizer"
   ]
  },
  {
   "cell_type": "code",
   "execution_count": 22,
   "metadata": {},
   "outputs": [
    {
     "data": {
      "application/vnd.jupyter.widget-view+json": {
       "model_id": "cf9ce2ef138647c9801284580e417cf2",
       "version_major": 2,
       "version_minor": 0
      },
      "text/plain": [
       "Downloading artifacts:   0%|          | 0/1 [00:00<?, ?it/s]"
      ]
     },
     "metadata": {},
     "output_type": "display_data"
    },
    {
     "data": {
      "application/vnd.jupyter.widget-view+json": {
       "model_id": "047141cf3a2149ba879d280baba6f333",
       "version_major": 2,
       "version_minor": 0
      },
      "text/plain": [
       "Downloading artifacts:   0%|          | 0/5 [00:00<?, ?it/s]"
      ]
     },
     "metadata": {},
     "output_type": "display_data"
    },
    {
     "data": {
      "application/vnd.jupyter.widget-view+json": {
       "model_id": "88651f8eeea44e8abd652b138c99779b",
       "version_major": 2,
       "version_minor": 0
      },
      "text/plain": [
       "Downloading artifacts:   0%|          | 0/1 [00:00<?, ?it/s]"
      ]
     },
     "metadata": {},
     "output_type": "display_data"
    },
    {
     "name": "stdout",
     "output_type": "stream",
     "text": [
      "Model and vectorizer saved to './content/basic_model/best'.\n"
     ]
    }
   ],
   "source": [
    "# Load and save the best model and vectorizer\n",
    "best_model, best_vectorizer = load_and_save_model_from_mlflow(\n",
    "    experiment_name=\"P7-Sentiments_Analysis\",\n",
    "    save_dir=\"./content/basic_model/best\",\n",
    "    uri=tracking_uri\n",
    ")"
   ]
  },
  {
   "cell_type": "markdown",
   "metadata": {},
   "source": [
    "# Test best model"
   ]
  },
  {
   "cell_type": "code",
   "execution_count": 23,
   "metadata": {},
   "outputs": [
    {
     "name": "stdout",
     "output_type": "stream",
     "text": [
      "Chosen vectorizer: BoW_stem\n",
      "X_train_vec shape: (40000, 10000)\n",
      "X_test_vec shape: (10000, 10000)\n",
      "y_train_vec shape: (40000,)\n",
      "y_test_vec shape: (10000,)\n"
     ]
    }
   ],
   "source": [
    "# Automatically retrieve the best vectorizer from the results DataFrame\n",
    "best_vectorizer_name = results_df.iloc[0]['Vectorization']  # Get the best vectorizer name\n",
    "vectorizer, X_train_vec, X_test_vec, y_train_vec, y_test_vec = vectorizers[best_vectorizer_name]\n",
    "\n",
    "# Display the chosen vectorizer and its train-test set shapes\n",
    "print(f\"Chosen vectorizer: {best_vectorizer_name}\")\n",
    "print(f\"X_train_vec shape: {X_train_vec.shape}\")\n",
    "print(f\"X_test_vec shape: {X_test_vec.shape}\")\n",
    "print(f\"y_train_vec shape: {y_train_vec.shape}\")\n",
    "print(f\"y_test_vec shape: {y_test_vec.shape}\")"
   ]
  },
  {
   "cell_type": "code",
   "execution_count": null,
   "metadata": {},
   "outputs": [
    {
     "ename": "AttributeError",
     "evalue": "'csr_matrix' object has no attribute 'index'",
     "output_type": "error",
     "traceback": [
      "\u001b[31m---------------------------------------------------------------------------\u001b[39m",
      "\u001b[31mAttributeError\u001b[39m                            Traceback (most recent call last)",
      "\u001b[36mCell\u001b[39m\u001b[36m \u001b[39m\u001b[32mIn[24]\u001b[39m\u001b[32m, line 2\u001b[39m\n\u001b[32m      1\u001b[39m \u001b[38;5;66;03m# Combine all train-test indices\u001b[39;00m\n\u001b[32m----> \u001b[39m\u001b[32m2\u001b[39m used_indices = \u001b[38;5;28mset\u001b[39m(\u001b[43mX_train_vec\u001b[49m\u001b[43m.\u001b[49m\u001b[43mindex\u001b[49m).union(X_test_vec.index)\n\u001b[32m      4\u001b[39m \u001b[38;5;66;03m# Filter rows not in the train-test dataframes\u001b[39;00m\n\u001b[32m      5\u001b[39m remaining_data = data.loc[~data.index.isin(used_indices)]\n",
      "\u001b[31mAttributeError\u001b[39m: 'csr_matrix' object has no attribute 'index'"
     ]
    }
   ],
   "source": [
    "# vectorizers = {\n",
    "#     \"TF-IDF_lem\": (tfidf_vectorizer, X_train_tfidf_lem, X_test_tfidf_lem, y_train_lem, y_test_lem),\n",
    "#     \"BoW_lem\": (bow_vectorizer, X_train_bow_lem, X_test_bow_lem, y_train_lem, y_test_lem),\n",
    "#     \"TF-IDF_stem\": (tfidf_vectorizer, X_train_tfidf_stem, X_test_tfidf_stem, y_train_stem, y_test_stem),\n",
    "#     \"BoW_stem\": (bow_vectorizer, X_train_bow_stem, X_test_bow_stem, y_train_stem, y_test_stem),\n",
    "# }\n",
    "# def get_lem_or_stem(best_vectorizer_name: str, selected_vec: dict) -> tuple:\n",
    "#     \"\"\"\n",
    "#     Determines whether the vectorizer name indicates lemmatization or stemming.\n",
    "#     Args:\n",
    "#         best_vectorizer_name (str): The name of the vectorizer.\n",
    "#         selected_vec (dict): A dictionnary with Bow or Tf-IDF vectorizers\n",
    "#     Returns:\n",
    "#         tuple: appropriate X_train and X_test\n",
    "#     \"\"\"\n",
    "#     if 'lem' in best_vectorizer_name:\n",
    "#         for k, v in selected_vec.items():\n",
    "#             if 'lem' in k :\n",
    "#                 final_vec = v\n",
    "#             elif 'stem' in k :\n",
    "#                 final_vec = v\n",
    "#             else :\n",
    "#                 ValueError()\n",
    "#         return final_vec[1], final_vec[2]\n",
    "\n",
    "# def find_train_test_df(best_vectorizer_name: str, vecotrizer_dict: dict = vectorizer) -> tuple:\n",
    "#     \"\"\"\n",
    "#     Determines whether the vectorizer name indicates lemmatization or stemming.\n",
    "#     Args:\n",
    "#         best_vectorizer_name (str): The name of the vectorizer.\n",
    "#     Returns:\n",
    "#         X_train, X_text (tuple)\n",
    "#     \"\"\"\n",
    "#     if 'BoW' in best_vectorizer_name :\n",
    "#         selected_vectorizers = {k : v for k,v in vectorizer.items() if 'BoW' in k}\n",
    "#     elif 'TF-IDF' in best_vectorizer_name :\n",
    "#         selected_vectorizers = {k : v for k,v in vectorizer.items() if 'TF-IDF' in k}\n",
    "#     else:\n",
    "#         ValueError\n",
    "\n",
    "#     return get_lem_or_stem(vecotrizer_dict, selected_vectorizers)\n",
    "\n",
    "\n",
    "# X_train, X_test = find_train_test_df(best_vectorizer_name=)\n",
    "\n",
    "# Get the indices from the original pandas Series (before vectorization)\n",
    "used_indices = set(X_train_vec.index).union(X_test_vec.index)\n",
    "\n",
    "# Filter rows not in the train-test dataframes\n",
    "remaining_data = sample_df.loc[~sample_df.index.isin(used_indices)]\n",
    "\n",
    "# Pick 10 rows from each target\n",
    "# Using .groupby().sample() can be slow on large data, but it's fine here.\n",
    "# Added a check to handle cases where a group might have fewer than 10 samples.\n",
    "sampled_data = remaining_data.groupby('target').apply(\n",
    "    lambda x: x.sample(n=min(10, len(x)), random_state=42)\n",
    ").reset_index(drop=True)\n",
    "\n",
    "# Display the sampled data\n",
    "display(sampled_data)"
   ]
  },
  {
   "cell_type": "code",
   "execution_count": null,
   "metadata": {},
   "outputs": [],
   "source": []
  }
 ],
 "metadata": {
  "kernelspec": {
   "display_name": "Python (Sentiments Analysis)",
   "language": "python",
   "name": "sentiments-env"
  },
  "language_info": {
   "codemirror_mode": {
    "name": "ipython",
    "version": 3
   },
   "file_extension": ".py",
   "mimetype": "text/x-python",
   "name": "python",
   "nbconvert_exporter": "python",
   "pygments_lexer": "ipython3",
   "version": "3.11.5"
  }
 },
 "nbformat": 4,
 "nbformat_minor": 2
}
